{
 "cells": [
  {
   "cell_type": "markdown",
   "metadata": {},
   "source": [
    "# Project: Identify Customer Segments\n",
    "\n",
    "In this project, you will apply unsupervised learning techniques to identify segments of the population that form the core customer base for a mail-order sales company in Germany. These segments can then be used to direct marketing campaigns towards audiences that will have the highest expected rate of returns. The data that you will use has been provided by our partners at Bertelsmann Arvato Analytics, and represents a real-life data science task.\n",
    "\n",
    "This notebook will help you complete this task by providing a framework within which you will perform your analysis steps. In each step of the project, you will see some text describing the subtask that you will perform, followed by one or more code cells for you to complete your work. **Feel free to add additional code and markdown cells as you go along so that you can explore everything in precise chunks.** The code cells provided in the base template will outline only the major tasks, and will usually not be enough to cover all of the minor tasks that comprise it.\n",
    "\n",
    "It should be noted that while there will be precise guidelines on how you should handle certain tasks in the project, there will also be places where an exact specification is not provided. **There will be times in the project where you will need to make and justify your own decisions on how to treat the data.** These are places where there may not be only one way to handle the data. In real-life tasks, there may be many valid ways to approach an analysis task. One of the most important things you can do is clearly document your approach so that other scientists can understand the decisions you've made.\n",
    "\n",
    "At the end of most sections, there will be a Markdown cell labeled **Discussion**. In these cells, you will report your findings for the completed section, as well as document the decisions that you made in your approach to each subtask. **Your project will be evaluated not just on the code used to complete the tasks outlined, but also your communication about your observations and conclusions at each stage.**"
   ]
  },
  {
   "cell_type": "code",
   "execution_count": 58,
   "metadata": {},
   "outputs": [],
   "source": [
    "# import libraries here; add more as necessary\n",
    "import numpy as np\n",
    "import pandas as pd\n",
    "import matplotlib.pyplot as plt\n",
    "import seaborn as sns\n",
    "from sklearn.preprocessing import LabelEncoder\n",
    "from sklearn.preprocessing import StandardScaler\n",
    "from sklearn.preprocessing import Imputer\n",
    "from sklearn.decomposition import PCA\n",
    "from sklearn.cluster import KMeans\n",
    "\n",
    "# magic word for producing visualizations in notebook\n",
    "%matplotlib inline"
   ]
  },
  {
   "cell_type": "markdown",
   "metadata": {},
   "source": [
    "### Step 0: Load the Data\n",
    "\n",
    "There are four files associated with this project (not including this one):\n",
    "\n",
    "- `Udacity_AZDIAS_Subset.csv`: Demographics data for the general population of Germany; 891211 persons (rows) x 85 features (columns).\n",
    "- `Udacity_CUSTOMERS_Subset.csv`: Demographics data for customers of a mail-order company; 191652 persons (rows) x 85 features (columns).\n",
    "- `Data_Dictionary.md`: Detailed information file about the features in the provided datasets.\n",
    "- `AZDIAS_Feature_Summary.csv`: Summary of feature attributes for demographics data; 85 features (rows) x 4 columns\n",
    "\n",
    "Each row of the demographics files represents a single person, but also includes information outside of individuals, including information about their household, building, and neighborhood. You will use this information to cluster the general population into groups with similar demographic properties. Then, you will see how the people in the customers dataset fit into those created clusters. The hope here is that certain clusters are over-represented in the customers data, as compared to the general population; those over-represented clusters will be assumed to be part of the core userbase. This information can then be used for further applications, such as targeting for a marketing campaign.\n",
    "\n",
    "To start off with, load in the demographics data for the general population into a pandas DataFrame, and do the same for the feature attributes summary. Note for all of the `.csv` data files in this project: they're semicolon (`;`) delimited, so you'll need an additional argument in your [`read_csv()`](https://pandas.pydata.org/pandas-docs/stable/generated/pandas.read_csv.html) call to read in the data properly. Also, considering the size of the main dataset, it may take some time for it to load completely.\n",
    "\n",
    "Once the dataset is loaded, it's recommended that you take a little bit of time just browsing the general structure of the dataset and feature summary file. You'll be getting deep into the innards of the cleaning in the first major step of the project, so gaining some general familiarity can help you get your bearings."
   ]
  },
  {
   "cell_type": "code",
   "execution_count": 59,
   "metadata": {},
   "outputs": [],
   "source": [
    "# Load in the general demographics data.\n",
    "azdias = pd.read_csv('Udacity_AZDIAS_Subset.csv', ';')\n",
    "\n",
    "# Load in the feature summary file.\n",
    "feat_info = pd.read_csv('AZDIAS_Feature_Summary.csv', ';')"
   ]
  },
  {
   "cell_type": "code",
   "execution_count": 60,
   "metadata": {},
   "outputs": [
    {
     "data": {
      "text/plain": [
       "(891221, 85)"
      ]
     },
     "execution_count": 60,
     "metadata": {},
     "output_type": "execute_result"
    }
   ],
   "source": [
    "# Check the structure of the data after it's loaded (e.g. print the number of\n",
    "# rows and columns, print the first few rows).\n",
    "\n",
    "azdias.shape"
   ]
  },
  {
   "cell_type": "markdown",
   "metadata": {},
   "source": [
    "<ul style=\"list-style-type: disc;margin-left:0.5in;\">\n",
    "    <li><span style='line-height:107%;font-family:\"Helvetica\",sans-serif;font-family:\"Helvetica\",sans-serif;font-size:10.5pt;color:black;background:white;'>Number of Columns :85</span></li>\n",
    "    <li><span style='line-height:107%;font-family:\"Helvetica\",sans-serif;color:black;background:white;font-size:14px;color:black;'>Number of Rows :891221</span></li>\n",
    "</ul>"
   ]
  },
  {
   "cell_type": "code",
   "execution_count": 61,
   "metadata": {},
   "outputs": [
    {
     "data": {
      "text/html": [
       "<div>\n",
       "<style scoped>\n",
       "    .dataframe tbody tr th:only-of-type {\n",
       "        vertical-align: middle;\n",
       "    }\n",
       "\n",
       "    .dataframe tbody tr th {\n",
       "        vertical-align: top;\n",
       "    }\n",
       "\n",
       "    .dataframe thead th {\n",
       "        text-align: right;\n",
       "    }\n",
       "</style>\n",
       "<table border=\"1\" class=\"dataframe\">\n",
       "  <thead>\n",
       "    <tr style=\"text-align: right;\">\n",
       "      <th></th>\n",
       "      <th>AGER_TYP</th>\n",
       "      <th>ALTERSKATEGORIE_GROB</th>\n",
       "      <th>ANREDE_KZ</th>\n",
       "      <th>CJT_GESAMTTYP</th>\n",
       "      <th>FINANZ_MINIMALIST</th>\n",
       "      <th>FINANZ_SPARER</th>\n",
       "      <th>FINANZ_VORSORGER</th>\n",
       "      <th>FINANZ_ANLEGER</th>\n",
       "      <th>FINANZ_UNAUFFAELLIGER</th>\n",
       "      <th>FINANZ_HAUSBAUER</th>\n",
       "      <th>...</th>\n",
       "      <th>PLZ8_ANTG1</th>\n",
       "      <th>PLZ8_ANTG2</th>\n",
       "      <th>PLZ8_ANTG3</th>\n",
       "      <th>PLZ8_ANTG4</th>\n",
       "      <th>PLZ8_BAUMAX</th>\n",
       "      <th>PLZ8_HHZ</th>\n",
       "      <th>PLZ8_GBZ</th>\n",
       "      <th>ARBEIT</th>\n",
       "      <th>ORTSGR_KLS9</th>\n",
       "      <th>RELAT_AB</th>\n",
       "    </tr>\n",
       "  </thead>\n",
       "  <tbody>\n",
       "    <tr>\n",
       "      <th>0</th>\n",
       "      <td>-1</td>\n",
       "      <td>2</td>\n",
       "      <td>1</td>\n",
       "      <td>2.0</td>\n",
       "      <td>3</td>\n",
       "      <td>4</td>\n",
       "      <td>3</td>\n",
       "      <td>5</td>\n",
       "      <td>5</td>\n",
       "      <td>3</td>\n",
       "      <td>...</td>\n",
       "      <td>NaN</td>\n",
       "      <td>NaN</td>\n",
       "      <td>NaN</td>\n",
       "      <td>NaN</td>\n",
       "      <td>NaN</td>\n",
       "      <td>NaN</td>\n",
       "      <td>NaN</td>\n",
       "      <td>NaN</td>\n",
       "      <td>NaN</td>\n",
       "      <td>NaN</td>\n",
       "    </tr>\n",
       "    <tr>\n",
       "      <th>1</th>\n",
       "      <td>-1</td>\n",
       "      <td>1</td>\n",
       "      <td>2</td>\n",
       "      <td>5.0</td>\n",
       "      <td>1</td>\n",
       "      <td>5</td>\n",
       "      <td>2</td>\n",
       "      <td>5</td>\n",
       "      <td>4</td>\n",
       "      <td>5</td>\n",
       "      <td>...</td>\n",
       "      <td>2.0</td>\n",
       "      <td>3.0</td>\n",
       "      <td>2.0</td>\n",
       "      <td>1.0</td>\n",
       "      <td>1.0</td>\n",
       "      <td>5.0</td>\n",
       "      <td>4.0</td>\n",
       "      <td>3.0</td>\n",
       "      <td>5.0</td>\n",
       "      <td>4.0</td>\n",
       "    </tr>\n",
       "    <tr>\n",
       "      <th>2</th>\n",
       "      <td>-1</td>\n",
       "      <td>3</td>\n",
       "      <td>2</td>\n",
       "      <td>3.0</td>\n",
       "      <td>1</td>\n",
       "      <td>4</td>\n",
       "      <td>1</td>\n",
       "      <td>2</td>\n",
       "      <td>3</td>\n",
       "      <td>5</td>\n",
       "      <td>...</td>\n",
       "      <td>3.0</td>\n",
       "      <td>3.0</td>\n",
       "      <td>1.0</td>\n",
       "      <td>0.0</td>\n",
       "      <td>1.0</td>\n",
       "      <td>4.0</td>\n",
       "      <td>4.0</td>\n",
       "      <td>3.0</td>\n",
       "      <td>5.0</td>\n",
       "      <td>2.0</td>\n",
       "    </tr>\n",
       "    <tr>\n",
       "      <th>3</th>\n",
       "      <td>2</td>\n",
       "      <td>4</td>\n",
       "      <td>2</td>\n",
       "      <td>2.0</td>\n",
       "      <td>4</td>\n",
       "      <td>2</td>\n",
       "      <td>5</td>\n",
       "      <td>2</td>\n",
       "      <td>1</td>\n",
       "      <td>2</td>\n",
       "      <td>...</td>\n",
       "      <td>2.0</td>\n",
       "      <td>2.0</td>\n",
       "      <td>2.0</td>\n",
       "      <td>0.0</td>\n",
       "      <td>1.0</td>\n",
       "      <td>3.0</td>\n",
       "      <td>4.0</td>\n",
       "      <td>2.0</td>\n",
       "      <td>3.0</td>\n",
       "      <td>3.0</td>\n",
       "    </tr>\n",
       "    <tr>\n",
       "      <th>4</th>\n",
       "      <td>-1</td>\n",
       "      <td>3</td>\n",
       "      <td>1</td>\n",
       "      <td>5.0</td>\n",
       "      <td>4</td>\n",
       "      <td>3</td>\n",
       "      <td>4</td>\n",
       "      <td>1</td>\n",
       "      <td>3</td>\n",
       "      <td>2</td>\n",
       "      <td>...</td>\n",
       "      <td>2.0</td>\n",
       "      <td>4.0</td>\n",
       "      <td>2.0</td>\n",
       "      <td>1.0</td>\n",
       "      <td>2.0</td>\n",
       "      <td>3.0</td>\n",
       "      <td>3.0</td>\n",
       "      <td>4.0</td>\n",
       "      <td>6.0</td>\n",
       "      <td>5.0</td>\n",
       "    </tr>\n",
       "  </tbody>\n",
       "</table>\n",
       "<p>5 rows × 85 columns</p>\n",
       "</div>"
      ],
      "text/plain": [
       "   AGER_TYP  ALTERSKATEGORIE_GROB  ANREDE_KZ  CJT_GESAMTTYP  \\\n",
       "0        -1                     2          1            2.0   \n",
       "1        -1                     1          2            5.0   \n",
       "2        -1                     3          2            3.0   \n",
       "3         2                     4          2            2.0   \n",
       "4        -1                     3          1            5.0   \n",
       "\n",
       "   FINANZ_MINIMALIST  FINANZ_SPARER  FINANZ_VORSORGER  FINANZ_ANLEGER  \\\n",
       "0                  3              4                 3               5   \n",
       "1                  1              5                 2               5   \n",
       "2                  1              4                 1               2   \n",
       "3                  4              2                 5               2   \n",
       "4                  4              3                 4               1   \n",
       "\n",
       "   FINANZ_UNAUFFAELLIGER  FINANZ_HAUSBAUER    ...     PLZ8_ANTG1  PLZ8_ANTG2  \\\n",
       "0                      5                 3    ...            NaN         NaN   \n",
       "1                      4                 5    ...            2.0         3.0   \n",
       "2                      3                 5    ...            3.0         3.0   \n",
       "3                      1                 2    ...            2.0         2.0   \n",
       "4                      3                 2    ...            2.0         4.0   \n",
       "\n",
       "   PLZ8_ANTG3  PLZ8_ANTG4  PLZ8_BAUMAX  PLZ8_HHZ  PLZ8_GBZ  ARBEIT  \\\n",
       "0         NaN         NaN          NaN       NaN       NaN     NaN   \n",
       "1         2.0         1.0          1.0       5.0       4.0     3.0   \n",
       "2         1.0         0.0          1.0       4.0       4.0     3.0   \n",
       "3         2.0         0.0          1.0       3.0       4.0     2.0   \n",
       "4         2.0         1.0          2.0       3.0       3.0     4.0   \n",
       "\n",
       "   ORTSGR_KLS9  RELAT_AB  \n",
       "0          NaN       NaN  \n",
       "1          5.0       4.0  \n",
       "2          5.0       2.0  \n",
       "3          3.0       3.0  \n",
       "4          6.0       5.0  \n",
       "\n",
       "[5 rows x 85 columns]"
      ]
     },
     "execution_count": 61,
     "metadata": {},
     "output_type": "execute_result"
    }
   ],
   "source": [
    "azdias.head(5)"
   ]
  },
  {
   "cell_type": "code",
   "execution_count": 62,
   "metadata": {},
   "outputs": [
    {
     "data": {
      "text/html": [
       "<div>\n",
       "<style scoped>\n",
       "    .dataframe tbody tr th:only-of-type {\n",
       "        vertical-align: middle;\n",
       "    }\n",
       "\n",
       "    .dataframe tbody tr th {\n",
       "        vertical-align: top;\n",
       "    }\n",
       "\n",
       "    .dataframe thead th {\n",
       "        text-align: right;\n",
       "    }\n",
       "</style>\n",
       "<table border=\"1\" class=\"dataframe\">\n",
       "  <thead>\n",
       "    <tr style=\"text-align: right;\">\n",
       "      <th></th>\n",
       "      <th>attribute</th>\n",
       "      <th>information_level</th>\n",
       "      <th>type</th>\n",
       "      <th>missing_or_unknown</th>\n",
       "    </tr>\n",
       "  </thead>\n",
       "  <tbody>\n",
       "    <tr>\n",
       "      <th>0</th>\n",
       "      <td>AGER_TYP</td>\n",
       "      <td>person</td>\n",
       "      <td>categorical</td>\n",
       "      <td>[-1,0]</td>\n",
       "    </tr>\n",
       "    <tr>\n",
       "      <th>1</th>\n",
       "      <td>ALTERSKATEGORIE_GROB</td>\n",
       "      <td>person</td>\n",
       "      <td>ordinal</td>\n",
       "      <td>[-1,0,9]</td>\n",
       "    </tr>\n",
       "    <tr>\n",
       "      <th>2</th>\n",
       "      <td>ANREDE_KZ</td>\n",
       "      <td>person</td>\n",
       "      <td>categorical</td>\n",
       "      <td>[-1,0]</td>\n",
       "    </tr>\n",
       "    <tr>\n",
       "      <th>3</th>\n",
       "      <td>CJT_GESAMTTYP</td>\n",
       "      <td>person</td>\n",
       "      <td>categorical</td>\n",
       "      <td>[0]</td>\n",
       "    </tr>\n",
       "    <tr>\n",
       "      <th>4</th>\n",
       "      <td>FINANZ_MINIMALIST</td>\n",
       "      <td>person</td>\n",
       "      <td>ordinal</td>\n",
       "      <td>[-1]</td>\n",
       "    </tr>\n",
       "  </tbody>\n",
       "</table>\n",
       "</div>"
      ],
      "text/plain": [
       "              attribute information_level         type missing_or_unknown\n",
       "0              AGER_TYP            person  categorical             [-1,0]\n",
       "1  ALTERSKATEGORIE_GROB            person      ordinal           [-1,0,9]\n",
       "2             ANREDE_KZ            person  categorical             [-1,0]\n",
       "3         CJT_GESAMTTYP            person  categorical                [0]\n",
       "4     FINANZ_MINIMALIST            person      ordinal               [-1]"
      ]
     },
     "execution_count": 62,
     "metadata": {},
     "output_type": "execute_result"
    }
   ],
   "source": [
    "feat_info.head(5)"
   ]
  },
  {
   "cell_type": "markdown",
   "metadata": {},
   "source": [
    "> **Tip**: Add additional cells to keep everything in reasonably-sized chunks! Keyboard shortcut `esc --> a` (press escape to enter command mode, then press the 'A' key) adds a new cell before the active cell, and `esc --> b` adds a new cell after the active cell. If you need to convert an active cell to a markdown cell, use `esc --> m` and to convert to a code cell, use `esc --> y`. \n",
    "\n",
    "## Step 1: Preprocessing\n",
    "\n",
    "### Step 1.1: Assess Missing Data\n",
    "\n",
    "The feature summary file contains a summary of properties for each demographics data column. You will use this file to help you make cleaning decisions during this stage of the project. First of all, you should assess the demographics data in terms of missing data. Pay attention to the following points as you perform your analysis, and take notes on what you observe. Make sure that you fill in the **Discussion** cell with your findings and decisions at the end of each step that has one!\n",
    "\n",
    "#### Step 1.1.1: Convert Missing Value Codes to NaNs\n",
    "The fourth column of the feature attributes summary (loaded in above as `feat_info`) documents the codes from the data dictionary that indicate missing or unknown data. While the file encodes this as a list (e.g. `[-1,0]`), this will get read in as a string object. You'll need to do a little bit of parsing to make use of it to identify and clean the data. Convert data that matches a 'missing' or 'unknown' value code into a numpy NaN value. You might want to see how much data takes on a 'missing' or 'unknown' code, and how much data is naturally missing, as a point of interest.\n",
    "\n",
    "**As one more reminder, you are encouraged to add additional cells to break up your analysis into manageable chunks.**"
   ]
  },
  {
   "cell_type": "code",
   "execution_count": 63,
   "metadata": {},
   "outputs": [],
   "source": [
    "# Identify missing or unknown data values and convert them to NaNs.\n",
    "\n",
    "for attribute in feat_info['attribute']:\n",
    "\n",
    "    tmp_list = feat_info[feat_info['attribute']==attribute].missing_or_unknown.iloc[0].replace('[','').replace(']','').split(',')\n",
    "    missing_or_unknown_list = [float(x) if x.lstrip('-').isnumeric() else x for x in tmp_list]\n",
    "    azdias[attribute].replace(to_replace=missing_or_unknown_list,\n",
    "                      value=np.nan, inplace=True)"
   ]
  },
  {
   "cell_type": "markdown",
   "metadata": {},
   "source": [
    "#### Step 1.1.2: Assess Missing Data in Each Column\n",
    "\n",
    "How much missing data is present in each column? There are a few columns that are outliers in terms of the proportion of values that are missing. You will want to use matplotlib's [`hist()`](https://matplotlib.org/api/_as_gen/matplotlib.pyplot.hist.html) function to visualize the distribution of missing value counts to find these columns. Identify and document these columns. While some of these columns might have justifications for keeping or re-encoding the data, for this project you should just remove them from the dataframe. (Feel free to make remarks about these outlier columns in the discussion, however!)\n",
    "\n",
    "For the remaining features, are there any patterns in which columns have, or share, missing data?"
   ]
  },
  {
   "cell_type": "code",
   "execution_count": 64,
   "metadata": {},
   "outputs": [
    {
     "data": {
      "text/plain": [
       "TITEL_KZ                 889061\n",
       "AGER_TYP                 685843\n",
       "KK_KUNDENTYP             584612\n",
       "KBA05_BAUMAX             476524\n",
       "GEBURTSJAHR              392318\n",
       "ALTER_HH                 310267\n",
       "REGIOTYP                 158064\n",
       "KKK                      158064\n",
       "W_KEIT_KIND_HH           147988\n",
       "KBA05_ANTG4              133324\n",
       "KBA05_GBZ                133324\n",
       "MOBI_REGIO               133324\n",
       "KBA05_ANTG1              133324\n",
       "KBA05_ANTG2              133324\n",
       "KBA05_ANTG3              133324\n",
       "PLZ8_GBZ                 116515\n",
       "PLZ8_HHZ                 116515\n",
       "PLZ8_BAUMAX              116515\n",
       "PLZ8_ANTG4               116515\n",
       "PLZ8_ANTG1               116515\n",
       "PLZ8_ANTG3               116515\n",
       "PLZ8_ANTG2               116515\n",
       "SHOPPER_TYP              111196\n",
       "VERS_TYP                 111196\n",
       "HEALTH_TYP               111196\n",
       "NATIONALITAET_KZ         108315\n",
       "PRAEGENDE_JUGENDJAHRE    108164\n",
       "KBA13_ANZAHL_PKW         105800\n",
       "ANZ_HAUSHALTE_AKTIV       99611\n",
       "CAMEO_INTL_2015           99352\n",
       "                          ...  \n",
       "RETOURTYP_BK_S             4854\n",
       "ONLINE_AFFINITAET          4854\n",
       "LP_STATUS_FEIN             4854\n",
       "LP_STATUS_GROB             4854\n",
       "GFK_URLAUBERTYP            4854\n",
       "ALTERSKATEGORIE_GROB       2881\n",
       "FINANZTYP                     0\n",
       "GREEN_AVANTGARDE              0\n",
       "FINANZ_HAUSBAUER              0\n",
       "FINANZ_UNAUFFAELLIGER         0\n",
       "FINANZ_ANLEGER                0\n",
       "FINANZ_SPARER                 0\n",
       "FINANZ_MINIMALIST             0\n",
       "ANREDE_KZ                     0\n",
       "FINANZ_VORSORGER              0\n",
       "SEMIO_FAM                     0\n",
       "SEMIO_SOZ                     0\n",
       "SEMIO_REL                     0\n",
       "SEMIO_MAT                     0\n",
       "SEMIO_VERT                    0\n",
       "SEMIO_LUST                    0\n",
       "SEMIO_ERL                     0\n",
       "SEMIO_KULT                    0\n",
       "SEMIO_RAT                     0\n",
       "SEMIO_KRIT                    0\n",
       "SEMIO_DOM                     0\n",
       "SEMIO_KAEM                    0\n",
       "SEMIO_PFLICHT                 0\n",
       "SEMIO_TRADV                   0\n",
       "ZABEOTYP                      0\n",
       "Length: 85, dtype: int64"
      ]
     },
     "execution_count": 64,
     "metadata": {},
     "output_type": "execute_result"
    }
   ],
   "source": [
    "# Perform an assessment of how much missing data there is in each column of the\n",
    "# dataset.\n",
    "\n",
    "azdias.isnull().sum().sort_values(ascending=False)\n"
   ]
  },
  {
   "cell_type": "code",
   "execution_count": 65,
   "metadata": {},
   "outputs": [
    {
     "data": {
      "text/plain": [
       "<matplotlib.axes._subplots.AxesSubplot at 0x7f5756e66f60>"
      ]
     },
     "execution_count": 65,
     "metadata": {},
     "output_type": "execute_result"
    },
    {
     "data": {
      "image/png": "[encoded data removed]",
      "text/plain": [
       "<matplotlib.figure.Figure at 0x7f57eb4d1e10>"
      ]
     },
     "metadata": {
      "needs_background": "light"
     },
     "output_type": "display_data"
    }
   ],
   "source": [
    "# Investigate patterns in the amount of missing data in each column.\n",
    "\n",
    "azdias.isnull().sum().hist()"
   ]
  },
  {
   "cell_type": "markdown",
   "metadata": {},
   "source": [
    "<p>I can see that columns with greater than 280K missing values are outliers in the histogram above. Here, Now we can investigate those columns and decide if it is OK to drop them from the data frame</p>"
   ]
  },
  {
   "cell_type": "code",
   "execution_count": 66,
   "metadata": {},
   "outputs": [],
   "source": [
    "# Remove the outlier columns from the dataset. (You'll perform other data\n",
    "# engineering tasks such as re-encoding and imputation later.)\n",
    "\n",
    "Drop_list = list(azdias.isnull().sum()[azdias.isnull().sum()>280000].index)\n",
    "azdias.drop(Drop_list, axis='columns', inplace=True)"
   ]
  },
  {
   "cell_type": "code",
   "execution_count": 67,
   "metadata": {},
   "outputs": [
    {
     "data": {
      "text/plain": [
       "['AGER_TYP',\n",
       " 'GEBURTSJAHR',\n",
       " 'TITEL_KZ',\n",
       " 'ALTER_HH',\n",
       " 'KK_KUNDENTYP',\n",
       " 'KBA05_BAUMAX']"
      ]
     },
     "execution_count": 67,
     "metadata": {},
     "output_type": "execute_result"
    }
   ],
   "source": [
    "Drop_list"
   ]
  },
  {
   "cell_type": "code",
   "execution_count": 68,
   "metadata": {},
   "outputs": [
    {
     "data": {
      "text/plain": [
       "(891221, 79)"
      ]
     },
     "execution_count": 68,
     "metadata": {},
     "output_type": "execute_result"
    }
   ],
   "source": [
    "azdias.shape"
   ]
  },
  {
   "cell_type": "code",
   "execution_count": 69,
   "metadata": {},
   "outputs": [
    {
     "data": {
      "text/plain": [
       "KKK                      158064\n",
       "REGIOTYP                 158064\n",
       "W_KEIT_KIND_HH           147988\n",
       "MOBI_REGIO               133324\n",
       "KBA05_ANTG4              133324\n",
       "KBA05_ANTG3              133324\n",
       "KBA05_ANTG2              133324\n",
       "KBA05_ANTG1              133324\n",
       "KBA05_GBZ                133324\n",
       "PLZ8_ANTG2               116515\n",
       "PLZ8_ANTG1               116515\n",
       "PLZ8_ANTG3               116515\n",
       "PLZ8_ANTG4               116515\n",
       "PLZ8_BAUMAX              116515\n",
       "PLZ8_HHZ                 116515\n",
       "PLZ8_GBZ                 116515\n",
       "HEALTH_TYP               111196\n",
       "SHOPPER_TYP              111196\n",
       "VERS_TYP                 111196\n",
       "NATIONALITAET_KZ         108315\n",
       "PRAEGENDE_JUGENDJAHRE    108164\n",
       "KBA13_ANZAHL_PKW         105800\n",
       "ANZ_HAUSHALTE_AKTIV       99611\n",
       "CAMEO_INTL_2015           99352\n",
       "CAMEO_DEU_2015            99352\n",
       "CAMEO_DEUG_2015           99352\n",
       "LP_LEBENSPHASE_FEIN       97632\n",
       "RELAT_AB                  97375\n",
       "ARBEIT                    97375\n",
       "ORTSGR_KLS9               97274\n",
       "                          ...  \n",
       "GFK_URLAUBERTYP            4854\n",
       "RETOURTYP_BK_S             4854\n",
       "ONLINE_AFFINITAET          4854\n",
       "LP_STATUS_FEIN             4854\n",
       "LP_STATUS_GROB             4854\n",
       "ALTERSKATEGORIE_GROB       2881\n",
       "SEMIO_FAM                     0\n",
       "SEMIO_SOZ                     0\n",
       "ANREDE_KZ                     0\n",
       "SEMIO_TRADV                   0\n",
       "FINANZ_MINIMALIST             0\n",
       "FINANZ_SPARER                 0\n",
       "FINANZ_VORSORGER              0\n",
       "FINANZ_ANLEGER                0\n",
       "FINANZ_UNAUFFAELLIGER         0\n",
       "FINANZ_HAUSBAUER              0\n",
       "FINANZTYP                     0\n",
       "SEMIO_PFLICHT                 0\n",
       "GREEN_AVANTGARDE              0\n",
       "SEMIO_KAEM                    0\n",
       "SEMIO_DOM                     0\n",
       "SEMIO_KRIT                    0\n",
       "SEMIO_RAT                     0\n",
       "SEMIO_KULT                    0\n",
       "SEMIO_ERL                     0\n",
       "SEMIO_LUST                    0\n",
       "SEMIO_VERT                    0\n",
       "SEMIO_MAT                     0\n",
       "SEMIO_REL                     0\n",
       "ZABEOTYP                      0\n",
       "Length: 79, dtype: int64"
      ]
     },
     "execution_count": 69,
     "metadata": {},
     "output_type": "execute_result"
    }
   ],
   "source": [
    "azdias.isnull().sum().sort_values(ascending=False)"
   ]
  },
  {
   "cell_type": "markdown",
   "metadata": {},
   "source": [
    "<p style='margin-top:12.0pt;margin-right:0in;margin-bottom:.0001pt;margin-left:0in;line-height:normal;font-size:15px;font-family:\"Calibri\",sans-serif;background:white;'><strong><span style='font-size:14px;font-family:\"Helvetica\",sans-serif;color:black;'>Discussion 1.1.2: Assess Missing Data in Each Column</span></strong></p>\n",
    "<p style='margin-top:0in;margin-right:0in;margin-bottom:8.0pt;margin-left:0in;line-height:107%;font-size:15px;font-family:\"Calibri\",sans-serif;'>&nbsp;</p>\n",
    "<p style='margin-top:0in;margin-right:0in;margin-bottom:8.0pt;margin-left:0in;line-height:107%;font-size:15px;font-family:\"Calibri\",sans-serif;'><span style='font-size:14px;line-height:107%;font-family:\"Helvetica\",sans-serif;color:black;background:white;'>If we compare with earlier result of column wise null values it seems top 6 columns which had a large amount of missing data (i.e.. outlier) is now removed &nbsp;</span></p>\n",
    "<p style='margin-top:0in;margin-right:0in;margin-bottom:8.0pt;margin-left:0in;line-height:107%;font-size:15px;font-family:\"Calibri\",sans-serif;'><br></p>"
   ]
  },
  {
   "cell_type": "markdown",
   "metadata": {},
   "source": [
    "#### Step 1.1.3: Assess Missing Data in Each Row\n",
    "\n",
    "Now, you'll perform a similar assessment for the rows of the dataset. How much data is missing in each row? As with the columns, you should see some groups of points that have a very different numbers of missing values. Divide the data into two subsets: one for data points that are above some threshold for missing values, and a second subset for points below that threshold.\n",
    "\n",
    "In order to know what to do with the outlier rows, we should see if the distribution of data values on columns that are not missing data (or are missing very little data) are similar or different between the two groups. Select at least five of these columns and compare the distribution of values.\n",
    "- You can use seaborn's [`countplot()`](https://seaborn.pydata.org/generated/seaborn.countplot.html) function to create a bar chart of code frequencies and matplotlib's [`subplot()`](https://matplotlib.org/api/_as_gen/matplotlib.pyplot.subplot.html) function to put bar charts for the two subplots side by side.\n",
    "- To reduce repeated code, you might want to write a function that can perform this comparison, taking as one of its arguments a column to be compared.\n",
    "\n",
    "Depending on what you observe in your comparison, this will have implications on how you approach your conclusions later in the analysis. If the distributions of non-missing features look similar between the data with many missing values and the data with few or no missing values, then we could argue that simply dropping those points from the analysis won't present a major issue. On the other hand, if the data with many missing values looks very different from the data with few or no missing values, then we should make a note on those data as special. We'll revisit these data later on. **Either way, you should continue your analysis for now using just the subset of the data with few or no missing values.**"
   ]
  },
  {
   "cell_type": "code",
   "execution_count": 70,
   "metadata": {},
   "outputs": [
    {
     "data": {
      "text/plain": [
       "643174    49\n",
       "732775    49\n",
       "472919    48\n",
       "183108    47\n",
       "139316    47\n",
       "691141    47\n",
       "691142    47\n",
       "691171    47\n",
       "691183    47\n",
       "139332    47\n",
       "691197    47\n",
       "139323    47\n",
       "691212    47\n",
       "691122    47\n",
       "139267    47\n",
       "139255    47\n",
       "139250    47\n",
       "139248    47\n",
       "139245    47\n",
       "139243    47\n",
       "691317    47\n",
       "691129    47\n",
       "691118    47\n",
       "139236    47\n",
       "139478    47\n",
       "690871    47\n",
       "690876    47\n",
       "690878    47\n",
       "690887    47\n",
       "139521    47\n",
       "          ..\n",
       "540246     0\n",
       "540244     0\n",
       "540243     0\n",
       "540242     0\n",
       "540241     0\n",
       "540240     0\n",
       "540239     0\n",
       "540269     0\n",
       "540271     0\n",
       "540300     0\n",
       "540289     0\n",
       "540299     0\n",
       "540298     0\n",
       "540296     0\n",
       "540295     0\n",
       "540293     0\n",
       "540292     0\n",
       "540291     0\n",
       "540290     0\n",
       "540287     0\n",
       "540273     0\n",
       "540286     0\n",
       "540284     0\n",
       "540283     0\n",
       "540281     0\n",
       "540280     0\n",
       "540277     0\n",
       "540275     0\n",
       "540274     0\n",
       "445610     0\n",
       "Length: 891221, dtype: int64"
      ]
     },
     "execution_count": 70,
     "metadata": {},
     "output_type": "execute_result"
    }
   ],
   "source": [
    "azdias.isnull().sum(axis=1).sort_values(ascending=False)"
   ]
  },
  {
   "cell_type": "code",
   "execution_count": 71,
   "metadata": {},
   "outputs": [
    {
     "data": {
      "text/plain": [
       "<matplotlib.axes._subplots.AxesSubplot at 0x7f57eb499278>"
      ]
     },
     "execution_count": 71,
     "metadata": {},
     "output_type": "execute_result"
    },
    {
     "data": {
      "image/png": "[encoded data removed]",
      "text/plain": [
       "<matplotlib.figure.Figure at 0x7f57ec7afda0>"
      ]
     },
     "metadata": {
      "needs_background": "light"
     },
     "output_type": "display_data"
    }
   ],
   "source": [
    "# How much data is missing in each row of the dataset?\n",
    "\n",
    "azdias.isnull().sum(axis=1).sort_values(ascending=False).hist()"
   ]
  },
  {
   "cell_type": "code",
   "execution_count": 72,
   "metadata": {},
   "outputs": [],
   "source": [
    "# Write code to divide the data into two subsets based on the number of missing\n",
    "# values in each row.\n",
    "\n",
    "few_null = azdias[azdias.isnull().sum(axis=1) < 23].reset_index(drop=True)\n",
    "\n",
    "more_null = azdias[azdias.isnull().sum(axis=1) >= 23].reset_index(drop=True)"
   ]
  },
  {
   "cell_type": "code",
   "execution_count": 73,
   "metadata": {},
   "outputs": [
    {
     "data": {
      "text/plain": [
       "ANREDE_KZ                0\n",
       "FINANZ_MINIMALIST        0\n",
       "FINANZ_SPARER            0\n",
       "FINANZ_VORSORGER         0\n",
       "FINANZ_ANLEGER           0\n",
       "FINANZ_UNAUFFAELLIGER    0\n",
       "FINANZ_HAUSBAUER         0\n",
       "FINANZTYP                0\n",
       "GREEN_AVANTGARDE         0\n",
       "SEMIO_SOZ                0\n",
       "SEMIO_FAM                0\n",
       "SEMIO_REL                0\n",
       "SEMIO_MAT                0\n",
       "SEMIO_VERT               0\n",
       "SEMIO_LUST               0\n",
       "SEMIO_ERL                0\n",
       "SEMIO_KULT               0\n",
       "SEMIO_RAT                0\n",
       "SEMIO_KRIT               0\n",
       "SEMIO_DOM                0\n",
       "SEMIO_KAEM               0\n",
       "SEMIO_PFLICHT            0\n",
       "SEMIO_TRADV              0\n",
       "SOHO_KZ                  0\n",
       "ZABEOTYP                 0\n",
       "ANZ_PERSONEN             0\n",
       "ANZ_TITEL                0\n",
       "HH_EINKOMMEN_SCORE       0\n",
       "WOHNDAUER_2008           0\n",
       "GEBAEUDETYP              0\n",
       "MIN_GEBAEUDEJAHR         0\n",
       "OST_WEST_KZ              0\n",
       "WOHNLAGE                 0\n",
       "dtype: int64"
      ]
     },
     "execution_count": 73,
     "metadata": {},
     "output_type": "execute_result"
    }
   ],
   "source": [
    "few_null.isnull().sum()[few_null.isnull().sum()==0]"
   ]
  },
  {
   "cell_type": "code",
   "execution_count": 74,
   "metadata": {},
   "outputs": [
    {
     "data": {
      "text/plain": [
       "ANREDE_KZ                0\n",
       "FINANZ_MINIMALIST        0\n",
       "FINANZ_SPARER            0\n",
       "FINANZ_VORSORGER         0\n",
       "FINANZ_ANLEGER           0\n",
       "FINANZ_UNAUFFAELLIGER    0\n",
       "FINANZ_HAUSBAUER         0\n",
       "FINANZTYP                0\n",
       "GREEN_AVANTGARDE         0\n",
       "SEMIO_SOZ                0\n",
       "SEMIO_FAM                0\n",
       "SEMIO_REL                0\n",
       "SEMIO_MAT                0\n",
       "SEMIO_VERT               0\n",
       "SEMIO_LUST               0\n",
       "SEMIO_ERL                0\n",
       "SEMIO_KULT               0\n",
       "SEMIO_RAT                0\n",
       "SEMIO_KRIT               0\n",
       "SEMIO_DOM                0\n",
       "SEMIO_KAEM               0\n",
       "SEMIO_PFLICHT            0\n",
       "SEMIO_TRADV              0\n",
       "ZABEOTYP                 0\n",
       "dtype: int64"
      ]
     },
     "execution_count": 74,
     "metadata": {},
     "output_type": "execute_result"
    }
   ],
   "source": [
    "more_null.isnull().sum()[more_null.isnull().sum()==0]"
   ]
  },
  {
   "cell_type": "code",
   "execution_count": 75,
   "metadata": {},
   "outputs": [],
   "source": [
    "# Compare the distribution of values for at least five columns where there are\n",
    "# no or few missing values, between the two subsets.\n",
    "\n",
    "def compare(column_name):\n",
    "        \n",
    "    figure, axs = plt.subplots(nrows=1, ncols=2, figsize = (15,5)) \n",
    "\n",
    "    \n",
    "    sns.countplot(few_null[column_name], ax=axs[0]) \n",
    "    axs[0].set_title('few Missing Data')\n",
    "    sns.countplot(more_null[column_name], ax=axs[1])\n",
    "    axs[1].set_title('High Missing Data')\n",
    " \n",
    " "
   ]
  },
  {
   "cell_type": "code",
   "execution_count": 76,
   "metadata": {},
   "outputs": [
    {
     "data": {
      "image/png": "[encoded data removed]",
      "text/plain": [
       "<matplotlib.figure.Figure at 0x7f57eb6b7b00>"
      ]
     },
     "metadata": {
      "needs_background": "light"
     },
     "output_type": "display_data"
    }
   ],
   "source": [
    "compare('FINANZTYP')"
   ]
  },
  {
   "cell_type": "code",
   "execution_count": 77,
   "metadata": {},
   "outputs": [
    {
     "data": {
      "image/png": "[encoded data removed]",
      "text/plain": [
       "<matplotlib.figure.Figure at 0x7f57eb56df98>"
      ]
     },
     "metadata": {
      "needs_background": "light"
     },
     "output_type": "display_data"
    }
   ],
   "source": [
    "compare('SEMIO_REL')"
   ]
  },
  {
   "cell_type": "code",
   "execution_count": 78,
   "metadata": {},
   "outputs": [
    {
     "data": {
      "image/png": "[encoded data removed]",
      "text/plain": [
       "<matplotlib.figure.Figure at 0x7f57eb5bc7f0>"
      ]
     },
     "metadata": {
      "needs_background": "light"
     },
     "output_type": "display_data"
    }
   ],
   "source": [
    "compare('FINANZ_MINIMALIST')"
   ]
  },
  {
   "cell_type": "code",
   "execution_count": 79,
   "metadata": {},
   "outputs": [
    {
     "data": {
      "image/png": "[encoded data removed]",
      "text/plain": [
       "<matplotlib.figure.Figure at 0x7f57ea332358>"
      ]
     },
     "metadata": {
      "needs_background": "light"
     },
     "output_type": "display_data"
    }
   ],
   "source": [
    "compare('SEMIO_LUST')"
   ]
  },
  {
   "cell_type": "code",
   "execution_count": 80,
   "metadata": {},
   "outputs": [
    {
     "data": {
      "image/png": "[encoded data removed]",
      "text/plain": [
       "<matplotlib.figure.Figure at 0x7f57eb9fb5c0>"
      ]
     },
     "metadata": {
      "needs_background": "light"
     },
     "output_type": "display_data"
    }
   ],
   "source": [
    "compare('ZABEOTYP')"
   ]
  },
  {
   "cell_type": "code",
   "execution_count": 81,
   "metadata": {},
   "outputs": [
    {
     "data": {
      "text/plain": [
       "(797705, 79)"
      ]
     },
     "execution_count": 81,
     "metadata": {},
     "output_type": "execute_result"
    }
   ],
   "source": [
    "few_null.shape"
   ]
  },
  {
   "cell_type": "code",
   "execution_count": 82,
   "metadata": {},
   "outputs": [
    {
     "data": {
      "text/plain": [
       "(93516, 79)"
      ]
     },
     "execution_count": 82,
     "metadata": {},
     "output_type": "execute_result"
    }
   ],
   "source": [
    "more_null.shape"
   ]
  },
  {
   "cell_type": "markdown",
   "metadata": {},
   "source": [
    "<h4 style='margin-right:0in;margin-left:0in;font-size:16px;font-family:\"Times New Roman\",serif;margin:0in;margin-bottom:.0001pt;background:white;'><span style='font-size:14px;font-family:\"Helvetica\",sans-serif;color:black;'>Discussion 1.1.3: Assess Missing Data in Each Row</span></h4>\n",
    "<p style='margin-top:0in;margin-right:0in;margin-bottom:8.0pt;margin-left:0in;line-height:107%;font-size:15px;font-family:\"Calibri\",sans-serif;'>&nbsp;</p>\n",
    "<ul style=\"margin-bottom:0in;margin-top:0in;\" type=\"disc\">\n",
    "    <li style='margin-top:0in;margin-right:0in;margin-bottom:8.0pt;margin-left:0in;line-height:normal;font-size:15px;font-family:\"Calibri\",sans-serif;color:black;background:white;'><span style='font-size:14px;font-family:\"Helvetica\",sans-serif;'>After analyzing count plots more missing columns shows <span style=\"background:white;\">different distribution with data with few or no missing values</span></span></li>\n",
    "    <li style='margin-top:0in;margin-right:0in;margin-bottom:8.0pt;margin-left:0in;line-height:normal;font-size:15px;font-family:\"Calibri\",sans-serif;color:black;background:white;'><span style='font-size:14px;font-family:\"Helvetica\",sans-serif;background:white;'>At least 8-10%&nbsp;</span><span style='font-size:14px;font-family:\"Helvetica\",sans-serif;background:     white;'>rows have high missing values</span></li>\n",
    "    <li style='margin-top:0in;margin-right:0in;margin-bottom:8.0pt;margin-left:0in;line-height:normal;font-size:15px;font-family:\"Calibri\",sans-serif;color:black;background:white;'><span style='font-size:14px;font-family:\"Helvetica\",sans-serif;background:white;'>Filling this missing data with right prediction Either Mean or redundant values can mess the data quality on the other hand dropping this null column will have huge data loss</span></li>\n",
    "    <li style='margin-top:0in;margin-right:0in;margin-bottom:8.0pt;margin-left:0in;line-height:normal;font-size:15px;font-family:\"Calibri\",sans-serif;color:black;background:white;'><span style='font-size:14px;font-family:\"Helvetica\",sans-serif;background:white;'>Removing this columns can be safe option so we can work on few null data.</span></li>\n",
    "</ul>"
   ]
  },
  {
   "cell_type": "markdown",
   "metadata": {},
   "source": [
    "### Step 1.2: Select and Re-Encode Features\n",
    "\n",
    "Checking for missing data isn't the only way in which you can prepare a dataset for analysis. Since the unsupervised learning techniques to be used will only work on data that is encoded numerically, you need to make a few encoding changes or additional assumptions to be able to make progress. In addition, while almost all of the values in the dataset are encoded using numbers, not all of them represent numeric values. Check the third column of the feature summary (`feat_info`) for a summary of types of measurement.\n",
    "- For numeric and interval data, these features can be kept without changes.\n",
    "- Most of the variables in the dataset are ordinal in nature. While ordinal values may technically be non-linear in spacing, make the simplifying assumption that the ordinal variables can be treated as being interval in nature (that is, kept without any changes).\n",
    "- Special handling may be necessary for the remaining two variable types: categorical, and 'mixed'.\n",
    "\n",
    "In the first two parts of this sub-step, you will perform an investigation of the categorical and mixed-type features and make a decision on each of them, whether you will keep, drop, or re-encode each. Then, in the last part, you will create a new data frame with only the selected and engineered columns.\n",
    "\n",
    "Data wrangling is often the trickiest part of the data analysis process, and there's a lot of it to be done here. But stick with it: once you're done with this step, you'll be ready to get to the machine learning parts of the project!"
   ]
  },
  {
   "cell_type": "code",
   "execution_count": 83,
   "metadata": {},
   "outputs": [
    {
     "data": {
      "text/plain": [
       "ordinal        49\n",
       "categorical    21\n",
       "mixed           7\n",
       "numeric         7\n",
       "interval        1\n",
       "Name: type, dtype: int64"
      ]
     },
     "execution_count": 83,
     "metadata": {},
     "output_type": "execute_result"
    }
   ],
   "source": [
    "# How many features are there of each data type?\n",
    "\n",
    "feat_info.type.value_counts()"
   ]
  },
  {
   "cell_type": "markdown",
   "metadata": {},
   "source": [
    "#### Step 1.2.1: Re-Encode Categorical Features\n",
    "\n",
    "For categorical data, you would ordinarily need to encode the levels as dummy variables. Depending on the number of categories, perform one of the following:\n",
    "- For binary (two-level) categoricals that take numeric values, you can keep them without needing to do anything.\n",
    "- There is one binary variable that takes on non-numeric values. For this one, you need to re-encode the values as numbers or create a dummy variable.\n",
    "- For multi-level categoricals (three or more values), you can choose to encode the values using multiple dummy variables (e.g. via [OneHotEncoder](http://scikit-learn.org/stable/modules/generated/sklearn.preprocessing.OneHotEncoder.html)), or (to keep things straightforward) just drop them from the analysis. As always, document your choices in the Discussion section."
   ]
  },
  {
   "cell_type": "code",
   "execution_count": 84,
   "metadata": {},
   "outputs": [
    {
     "data": {
      "text/plain": [
       "0             AGER_TYP\n",
       "2            ANREDE_KZ\n",
       "3        CJT_GESAMTTYP\n",
       "10           FINANZTYP\n",
       "12     GFK_URLAUBERTYP\n",
       "13    GREEN_AVANTGARDE\n",
       "17     LP_FAMILIE_FEIN\n",
       "18     LP_FAMILIE_GROB\n",
       "19      LP_STATUS_FEIN\n",
       "20      LP_STATUS_GROB\n",
       "21    NATIONALITAET_KZ\n",
       "38         SHOPPER_TYP\n",
       "39             SOHO_KZ\n",
       "40            TITEL_KZ\n",
       "41            VERS_TYP\n",
       "42            ZABEOTYP\n",
       "47        KK_KUNDENTYP\n",
       "52         GEBAEUDETYP\n",
       "55         OST_WEST_KZ\n",
       "57     CAMEO_DEUG_2015\n",
       "58      CAMEO_DEU_2015\n",
       "Name: attribute, dtype: object"
      ]
     },
     "execution_count": 84,
     "metadata": {},
     "output_type": "execute_result"
    }
   ],
   "source": [
    "feat_info[feat_info['type']=='categorical'].attribute"
   ]
  },
  {
   "cell_type": "code",
   "execution_count": 85,
   "metadata": {
    "scrolled": true
   },
   "outputs": [
    {
     "data": {
      "text/html": [
       "<div>\n",
       "<style scoped>\n",
       "    .dataframe tbody tr th:only-of-type {\n",
       "        vertical-align: middle;\n",
       "    }\n",
       "\n",
       "    .dataframe tbody tr th {\n",
       "        vertical-align: top;\n",
       "    }\n",
       "\n",
       "    .dataframe thead th {\n",
       "        text-align: right;\n",
       "    }\n",
       "</style>\n",
       "<table border=\"1\" class=\"dataframe\">\n",
       "  <thead>\n",
       "    <tr style=\"text-align: right;\">\n",
       "      <th></th>\n",
       "      <th>attribute</th>\n",
       "      <th>information_level</th>\n",
       "      <th>type</th>\n",
       "      <th>missing_or_unknown</th>\n",
       "    </tr>\n",
       "  </thead>\n",
       "  <tbody>\n",
       "    <tr>\n",
       "      <th>0</th>\n",
       "      <td>AGER_TYP</td>\n",
       "      <td>person</td>\n",
       "      <td>categorical</td>\n",
       "      <td>[-1,0]</td>\n",
       "    </tr>\n",
       "    <tr>\n",
       "      <th>2</th>\n",
       "      <td>ANREDE_KZ</td>\n",
       "      <td>person</td>\n",
       "      <td>categorical</td>\n",
       "      <td>[-1,0]</td>\n",
       "    </tr>\n",
       "    <tr>\n",
       "      <th>3</th>\n",
       "      <td>CJT_GESAMTTYP</td>\n",
       "      <td>person</td>\n",
       "      <td>categorical</td>\n",
       "      <td>[0]</td>\n",
       "    </tr>\n",
       "    <tr>\n",
       "      <th>10</th>\n",
       "      <td>FINANZTYP</td>\n",
       "      <td>person</td>\n",
       "      <td>categorical</td>\n",
       "      <td>[-1]</td>\n",
       "    </tr>\n",
       "    <tr>\n",
       "      <th>12</th>\n",
       "      <td>GFK_URLAUBERTYP</td>\n",
       "      <td>person</td>\n",
       "      <td>categorical</td>\n",
       "      <td>[]</td>\n",
       "    </tr>\n",
       "    <tr>\n",
       "      <th>13</th>\n",
       "      <td>GREEN_AVANTGARDE</td>\n",
       "      <td>person</td>\n",
       "      <td>categorical</td>\n",
       "      <td>[]</td>\n",
       "    </tr>\n",
       "    <tr>\n",
       "      <th>17</th>\n",
       "      <td>LP_FAMILIE_FEIN</td>\n",
       "      <td>person</td>\n",
       "      <td>categorical</td>\n",
       "      <td>[0]</td>\n",
       "    </tr>\n",
       "    <tr>\n",
       "      <th>18</th>\n",
       "      <td>LP_FAMILIE_GROB</td>\n",
       "      <td>person</td>\n",
       "      <td>categorical</td>\n",
       "      <td>[0]</td>\n",
       "    </tr>\n",
       "    <tr>\n",
       "      <th>19</th>\n",
       "      <td>LP_STATUS_FEIN</td>\n",
       "      <td>person</td>\n",
       "      <td>categorical</td>\n",
       "      <td>[0]</td>\n",
       "    </tr>\n",
       "    <tr>\n",
       "      <th>20</th>\n",
       "      <td>LP_STATUS_GROB</td>\n",
       "      <td>person</td>\n",
       "      <td>categorical</td>\n",
       "      <td>[0]</td>\n",
       "    </tr>\n",
       "    <tr>\n",
       "      <th>21</th>\n",
       "      <td>NATIONALITAET_KZ</td>\n",
       "      <td>person</td>\n",
       "      <td>categorical</td>\n",
       "      <td>[-1,0]</td>\n",
       "    </tr>\n",
       "    <tr>\n",
       "      <th>38</th>\n",
       "      <td>SHOPPER_TYP</td>\n",
       "      <td>person</td>\n",
       "      <td>categorical</td>\n",
       "      <td>[-1]</td>\n",
       "    </tr>\n",
       "    <tr>\n",
       "      <th>39</th>\n",
       "      <td>SOHO_KZ</td>\n",
       "      <td>person</td>\n",
       "      <td>categorical</td>\n",
       "      <td>[-1]</td>\n",
       "    </tr>\n",
       "    <tr>\n",
       "      <th>40</th>\n",
       "      <td>TITEL_KZ</td>\n",
       "      <td>person</td>\n",
       "      <td>categorical</td>\n",
       "      <td>[-1,0]</td>\n",
       "    </tr>\n",
       "    <tr>\n",
       "      <th>41</th>\n",
       "      <td>VERS_TYP</td>\n",
       "      <td>person</td>\n",
       "      <td>categorical</td>\n",
       "      <td>[-1]</td>\n",
       "    </tr>\n",
       "    <tr>\n",
       "      <th>42</th>\n",
       "      <td>ZABEOTYP</td>\n",
       "      <td>person</td>\n",
       "      <td>categorical</td>\n",
       "      <td>[-1,9]</td>\n",
       "    </tr>\n",
       "    <tr>\n",
       "      <th>47</th>\n",
       "      <td>KK_KUNDENTYP</td>\n",
       "      <td>household</td>\n",
       "      <td>categorical</td>\n",
       "      <td>[-1]</td>\n",
       "    </tr>\n",
       "    <tr>\n",
       "      <th>52</th>\n",
       "      <td>GEBAEUDETYP</td>\n",
       "      <td>building</td>\n",
       "      <td>categorical</td>\n",
       "      <td>[-1,0]</td>\n",
       "    </tr>\n",
       "    <tr>\n",
       "      <th>55</th>\n",
       "      <td>OST_WEST_KZ</td>\n",
       "      <td>building</td>\n",
       "      <td>categorical</td>\n",
       "      <td>[-1]</td>\n",
       "    </tr>\n",
       "    <tr>\n",
       "      <th>57</th>\n",
       "      <td>CAMEO_DEUG_2015</td>\n",
       "      <td>microcell_rr4</td>\n",
       "      <td>categorical</td>\n",
       "      <td>[-1,X]</td>\n",
       "    </tr>\n",
       "    <tr>\n",
       "      <th>58</th>\n",
       "      <td>CAMEO_DEU_2015</td>\n",
       "      <td>microcell_rr4</td>\n",
       "      <td>categorical</td>\n",
       "      <td>[XX]</td>\n",
       "    </tr>\n",
       "  </tbody>\n",
       "</table>\n",
       "</div>"
      ],
      "text/plain": [
       "           attribute information_level         type missing_or_unknown\n",
       "0           AGER_TYP            person  categorical             [-1,0]\n",
       "2          ANREDE_KZ            person  categorical             [-1,0]\n",
       "3      CJT_GESAMTTYP            person  categorical                [0]\n",
       "10         FINANZTYP            person  categorical               [-1]\n",
       "12   GFK_URLAUBERTYP            person  categorical                 []\n",
       "13  GREEN_AVANTGARDE            person  categorical                 []\n",
       "17   LP_FAMILIE_FEIN            person  categorical                [0]\n",
       "18   LP_FAMILIE_GROB            person  categorical                [0]\n",
       "19    LP_STATUS_FEIN            person  categorical                [0]\n",
       "20    LP_STATUS_GROB            person  categorical                [0]\n",
       "21  NATIONALITAET_KZ            person  categorical             [-1,0]\n",
       "38       SHOPPER_TYP            person  categorical               [-1]\n",
       "39           SOHO_KZ            person  categorical               [-1]\n",
       "40          TITEL_KZ            person  categorical             [-1,0]\n",
       "41          VERS_TYP            person  categorical               [-1]\n",
       "42          ZABEOTYP            person  categorical             [-1,9]\n",
       "47      KK_KUNDENTYP         household  categorical               [-1]\n",
       "52       GEBAEUDETYP          building  categorical             [-1,0]\n",
       "55       OST_WEST_KZ          building  categorical               [-1]\n",
       "57   CAMEO_DEUG_2015     microcell_rr4  categorical             [-1,X]\n",
       "58    CAMEO_DEU_2015     microcell_rr4  categorical               [XX]"
      ]
     },
     "execution_count": 85,
     "metadata": {},
     "output_type": "execute_result"
    }
   ],
   "source": [
    "# Assess categorical variables: which are binary, which are multi-level, and\n",
    "# which one needs to be re-encoded?\n",
    "\n",
    "categorical_att = feat_info[feat_info.type == 'categorical']\n",
    "categorical_att"
   ]
  },
  {
   "cell_type": "code",
   "execution_count": 86,
   "metadata": {},
   "outputs": [
    {
     "name": "stdout",
     "output_type": "stream",
     "text": [
      "ANREDE_KZ [1 2]\n",
      "GREEN_AVANTGARDE [0 1]\n",
      "SOHO_KZ [ nan   1.   0.]\n",
      "VERS_TYP [ nan   2.   1.]\n",
      "OST_WEST_KZ [nan 'W' 'O']\n"
     ]
    }
   ],
   "source": [
    "#Exploring Categorical variables\n",
    "#1.Binary\n",
    "for x in feat_info[feat_info['type']=='categorical'].attribute:\n",
    "    if x in azdias.columns:\n",
    "        if azdias[x].nunique() == 2:\n",
    "            print(x, azdias[x].unique())"
   ]
  },
  {
   "cell_type": "code",
   "execution_count": 87,
   "metadata": {
    "scrolled": true
   },
   "outputs": [],
   "source": [
    "#add mixed categorical variables to my drop list\n",
    "for attribute in feat_info[feat_info['type']=='categorical'].attribute:\n",
    "    if attribute in few_null.columns:\n",
    "        if few_null[attribute].nunique() > 2:\n",
    "            few_null.drop(attribute, axis='columns', inplace=True)\n",
    "            Drop_list.append(attribute)"
   ]
  },
  {
   "cell_type": "code",
   "execution_count": 88,
   "metadata": {},
   "outputs": [
    {
     "data": {
      "text/plain": [
       "(797705, 66)"
      ]
     },
     "execution_count": 88,
     "metadata": {},
     "output_type": "execute_result"
    }
   ],
   "source": [
    "few_null.shape"
   ]
  },
  {
   "cell_type": "code",
   "execution_count": 89,
   "metadata": {},
   "outputs": [],
   "source": [
    "# Re-encode categorical variable(s) to be kept in the analysis.\n",
    "\n",
    "few_null = pd.get_dummies(few_null, columns=['OST_WEST_KZ'])"
   ]
  },
  {
   "cell_type": "code",
   "execution_count": 90,
   "metadata": {},
   "outputs": [],
   "source": [
    "few_null['VERS_TYP'].replace([2.0, 1.0], [1, 0], inplace=True)\n",
    "few_null['ANREDE_KZ'].replace([2, 1], [1, 0], inplace=True)"
   ]
  },
  {
   "cell_type": "markdown",
   "metadata": {},
   "source": [
    "<p style='margin-top:0in;margin-right:0in;margin-bottom:8.0pt;margin-left:0in;line-height:12.05pt;font-size:15px;font-family:\"Calibri\",sans-serif;'><strong><span style='font-size:14px;font-family:\"Helvetica\",sans-serif;color:black;'>Discussion 1.2.1: Re-Encode Categorical Features</span></strong></p>\n",
    "<p style='margin-top:0in;margin-right:0in;margin-bottom:8.0pt;margin-left:0in;line-height:12.05pt;font-size:15px;font-family:\"Calibri\",sans-serif;'><strong><span style='font-size:14px;font-family:\"Helvetica\",sans-serif;color:black;'>&nbsp;</span></strong></p>\n",
    "<ul style=\"margin-bottom:0in;\" type=\"disc\">\n",
    "    <li style='margin-top:0in;margin-right:0in;margin-bottom:8.0pt;margin-left:0in;line-height:normal;font-size:15px;font-family:\"Calibri\",sans-serif;color:black;'><span style='font-size:14px;font-family:\"Helvetica\",sans-serif;'>I overserved one by one data type wise columns</span></li>\n",
    "    <li style='margin-top:0in;margin-right:0in;margin-bottom:8.0pt;margin-left:0in;line-height:normal;font-size:15px;font-family:\"Calibri\",sans-serif;color:black;'><span style='font-size:14px;font-family:\"Helvetica\",sans-serif;'>Identified categorical variables</span></li>\n",
    "    <li style='margin-top:0in;margin-right:0in;margin-bottom:8.0pt;margin-left:0in;line-height:normal;font-size:15px;font-family:\"Calibri\",sans-serif;color:black;'>I dropped mixed variable&nbsp;</li>\n",
    "    <li style='margin-top:0in;margin-right:0in;margin-bottom:8.0pt;margin-left:0in;line-height:normal;font-size:15px;font-family:\"Calibri\",sans-serif;color:black;'>Re-encoded OST_WEST_KZ by doing Dummy variables</li>\n",
    "    <li style='margin-top:0in;margin-right:0in;margin-bottom:8.0pt;margin-left:0in;line-height:normal;font-size:15px;font-family:\"Calibri\",sans-serif;color:black;'>VERS_TYP,ANREDE_KZ made it 1,0 type instead 2,1</li>\n",
    "</ul>"
   ]
  },
  {
   "cell_type": "markdown",
   "metadata": {},
   "source": [
    "#### Step 1.2.2: Engineer Mixed-Type Features\n",
    "\n",
    "There are a handful of features that are marked as \"mixed\" in the feature summary that require special treatment in order to be included in the analysis. There are two in particular that deserve attention; the handling of the rest are up to your own choices:\n",
    "- \"PRAEGENDE_JUGENDJAHRE\" combines information on three dimensions: generation by decade, movement (mainstream vs. avantgarde), and nation (east vs. west). While there aren't enough levels to disentangle east from west, you should create two new variables to capture the other two dimensions: an interval-type variable for decade, and a binary variable for movement.\n",
    "- \"CAMEO_INTL_2015\" combines information on two axes: wealth and life stage. Break up the two-digit codes by their 'tens'-place and 'ones'-place digits into two new ordinal variables (which, for the purposes of this project, is equivalent to just treating them as their raw numeric values).\n",
    "- If you decide to keep or engineer new features around the other mixed-type features, make sure you note your steps in the Discussion section.\n",
    "\n",
    "Be sure to check `Data_Dictionary.md` for the details needed to finish these tasks."
   ]
  },
  {
   "cell_type": "code",
   "execution_count": 91,
   "metadata": {},
   "outputs": [
    {
     "data": {
      "text/plain": [
       "14.0    182938\n",
       "8.0     141578\n",
       "10.0     85785\n",
       "5.0      84673\n",
       "3.0      53834\n",
       "15.0     42526\n",
       "11.0     35738\n",
       "9.0      33565\n",
       "6.0      25652\n",
       "12.0     24443\n",
       "1.0      20672\n",
       "4.0      20450\n",
       "2.0       7479\n",
       "13.0      5761\n",
       "7.0       4009\n",
       "Name: PRAEGENDE_JUGENDJAHRE, dtype: int64"
      ]
     },
     "execution_count": 91,
     "metadata": {},
     "output_type": "execute_result"
    }
   ],
   "source": [
    "# Investigate \"PRAEGENDE_JUGENDJAHRE\" and engineer two new variables.\n",
    "\n",
    "few_null['PRAEGENDE_JUGENDJAHRE'].value_counts()\n"
   ]
  },
  {
   "cell_type": "code",
   "execution_count": 92,
   "metadata": {},
   "outputs": [],
   "source": [
    "#if i look at the provided Data Dictionary,\n",
    "#it shows Dominating movement of person's (avantgarde vs. mainstream) and year\n",
    "\n",
    "\n",
    "generation = {0: [1,2],\n",
    "              1: [3,4],\n",
    "              2: [5,6,7],\n",
    "              3: [8,9],\n",
    "              4: [10,11,12,13],\n",
    "              5: [14,15]}\n",
    "\n",
    "avantgarde = [2, 4, 6, 7, 9, 11, 13, 15]\n",
    "mainstream = [1, 3, 5, 8, 10, 12, 14]\n",
    "\n",
    "def generations(value):\n",
    "    if (np.isnan(value)):\n",
    "        return np.nan\n",
    "    else:\n",
    "        for key, values in generation.items():\n",
    "            if (value in values):\n",
    "                return key\n",
    "\n",
    "def movement(value):\n",
    "        if (value in avantgarde):\n",
    "            return 1\n",
    "        elif (value in mainstream):\n",
    "            return 0\n",
    "        else:\n",
    "            return np.nan"
   ]
  },
  {
   "cell_type": "code",
   "execution_count": 93,
   "metadata": {},
   "outputs": [],
   "source": [
    "few_null['PRAEGENDE_JUGENDJAHRE_GENERATIONS'] = few_null['PRAEGENDE_JUGENDJAHRE'].apply(generations)\n",
    "few_null['PRAEGENDE_JUGENDJAHRE_MOVEMENT'] = few_null['PRAEGENDE_JUGENDJAHRE'].apply(movement)"
   ]
  },
  {
   "cell_type": "code",
   "execution_count": 94,
   "metadata": {},
   "outputs": [],
   "source": [
    "few_null.drop('PRAEGENDE_JUGENDJAHRE', axis=1, inplace=True)"
   ]
  },
  {
   "cell_type": "code",
   "execution_count": 95,
   "metadata": {},
   "outputs": [],
   "source": [
    "# Investigate \"CAMEO_INTL_2015\" and engineer two new variables.\n",
    "\n",
    "few_null['CAMEO_INTL_2015_tens'] = few_null['CAMEO_INTL_2015'].str[0]\n",
    "few_null['CAMEO_INTL_2015_ones'] = few_null['CAMEO_INTL_2015'].str[1]"
   ]
  },
  {
   "cell_type": "code",
   "execution_count": 96,
   "metadata": {},
   "outputs": [],
   "source": [
    "few_null.drop('CAMEO_INTL_2015', axis=1, inplace=True)"
   ]
  },
  {
   "cell_type": "code",
   "execution_count": 97,
   "metadata": {},
   "outputs": [],
   "source": [
    "for attribute in feat_info[feat_info['type']=='mixed'].attribute:\n",
    "    Drop_list.append(attribute)"
   ]
  },
  {
   "cell_type": "code",
   "execution_count": 98,
   "metadata": {},
   "outputs": [],
   "source": [
    "Drop_list.remove('PRAEGENDE_JUGENDJAHRE')\n",
    "Drop_list.remove('CAMEO_INTL_2015')"
   ]
  },
  {
   "cell_type": "code",
   "execution_count": 99,
   "metadata": {},
   "outputs": [
    {
     "data": {
      "text/plain": [
       "['AGER_TYP',\n",
       " 'GEBURTSJAHR',\n",
       " 'TITEL_KZ',\n",
       " 'ALTER_HH',\n",
       " 'KK_KUNDENTYP',\n",
       " 'KBA05_BAUMAX',\n",
       " 'CJT_GESAMTTYP',\n",
       " 'FINANZTYP',\n",
       " 'GFK_URLAUBERTYP',\n",
       " 'LP_FAMILIE_FEIN',\n",
       " 'LP_FAMILIE_GROB',\n",
       " 'LP_STATUS_FEIN',\n",
       " 'LP_STATUS_GROB',\n",
       " 'NATIONALITAET_KZ',\n",
       " 'SHOPPER_TYP',\n",
       " 'ZABEOTYP',\n",
       " 'GEBAEUDETYP',\n",
       " 'CAMEO_DEUG_2015',\n",
       " 'CAMEO_DEU_2015',\n",
       " 'LP_LEBENSPHASE_FEIN',\n",
       " 'LP_LEBENSPHASE_GROB',\n",
       " 'WOHNLAGE',\n",
       " 'KBA05_BAUMAX',\n",
       " 'PLZ8_BAUMAX']"
      ]
     },
     "execution_count": 99,
     "metadata": {},
     "output_type": "execute_result"
    }
   ],
   "source": [
    "Drop_list"
   ]
  },
  {
   "cell_type": "markdown",
   "metadata": {},
   "source": [
    "<h4 style='box-sizing: border-box; font-family: \"Helvetica Neue\", Helvetica, Arial, sans-serif; font-weight: bold; line-height: 1; color: rgb(0, 0, 0); margin: 1em 0px 0px; font-size: 14px; font-style: normal; font-variant-ligatures: normal; font-variant-caps: normal; letter-spacing: normal; orphans: 2; text-align: start; text-indent: 0px; text-transform: none; white-space: normal; widows: 2; word-spacing: 0px; -webkit-text-stroke-width: 0px; background-color: rgb(255, 255, 255); text-decoration-thickness: initial; text-decoration-style: initial; text-decoration-color: initial;'>Discussion 1.2.2: Engineer Mixed-Type Features<a class=\"anchor-link\" href=\"https://viewrygazrvtgq.udacity-student-workspaces.com/notebooks/Identify_Customer_Segments-Copy2.ipynb#Discussion-1.2.2:-Engineer-Mixed-Type-Features\" style=\"box-sizing: border-box; background-color: transparent; color: rgb(51, 122, 183); text-decoration: none; padding: 0px 20px; visibility: hidden;\"></a></h4>\n",
    "<p style='box-sizing: border-box; margin: 1em 0px 0px; text-align: left; color: rgb(0, 0, 0); font-family: \"Helvetica Neue\", Helvetica, Arial, sans-serif; font-size: 14px; font-style: normal; font-variant-ligatures: normal; font-variant-caps: normal; font-weight: 400; letter-spacing: normal; orphans: 2; text-indent: 0px; text-transform: none; white-space: normal; widows: 2; word-spacing: 0px; -webkit-text-stroke-width: 0px; background-color: rgb(255, 255, 255); text-decoration-thickness: initial; text-decoration-style: initial; text-decoration-color: initial;'>1. As directed to combine information on three dimensions for <span style='color: rgb(0, 0, 0); font-family: \"Helvetica Neue\", Helvetica, Arial, sans-serif; font-size: 14px; font-style: normal; font-variant-ligatures: normal; font-variant-caps: normal; font-weight: 400; letter-spacing: normal; orphans: 2; text-align: left; text-indent: 0px; text-transform: none; white-space: normal; widows: 2; word-spacing: 0px; -webkit-text-stroke-width: 0px; background-color: rgb(255, 255, 255); text-decoration-thickness: initial; text-decoration-style: initial; text-decoration-color: initial; display: inline !important; float: none;'>PRAEGENDE_JUGENDJAHRE</span> , Did that, so derived generations and movement column out of it and then dropped <span style='color: rgb(0, 0, 0); font-family: \"Helvetica Neue\", Helvetica, Arial, sans-serif; font-size: 14px; font-style: normal; font-variant-ligatures: normal; font-variant-caps: normal; font-weight: 400; letter-spacing: normal; orphans: 2; text-align: left; text-indent: 0px; text-transform: none; white-space: normal; widows: 2; word-spacing: 0px; -webkit-text-stroke-width: 0px; background-color: rgb(255, 255, 255); text-decoration-thickness: initial; text-decoration-style: initial; text-decoration-color: initial; display: inline !important; float: none;'>PRAEGENDE_JUGENDJAHRE</span>&nbsp; column.</p>\n",
    "<p style='box-sizing: border-box; margin: 1em 0px 0px; text-align: left; color: rgb(0, 0, 0); font-family: \"Helvetica Neue\", Helvetica, Arial, sans-serif; font-size: 14px; font-style: normal; font-variant-ligatures: normal; font-variant-caps: normal; font-weight: 400; letter-spacing: normal; orphans: 2; text-indent: 0px; text-transform: none; white-space: normal; widows: 2; word-spacing: 0px; -webkit-text-stroke-width: 0px; background-color: rgb(255, 255, 255); text-decoration-thickness: initial; text-decoration-style: initial; text-decoration-color: initial;'>2.Same again for <span style='color: rgb(0, 0, 0); font-family: \"Helvetica Neue\", Helvetica, Arial, sans-serif; font-size: 14px; font-style: normal; font-variant-ligatures: normal; font-variant-caps: normal; font-weight: 400; letter-spacing: normal; orphans: 2; text-align: justify; text-indent: 0px; text-transform: none; white-space: normal; widows: 2; word-spacing: 0px; -webkit-text-stroke-width: 0px; background-color: rgb(255, 255, 255); text-decoration-thickness: initial; text-decoration-style: initial; text-decoration-color: initial; display: inline !important; float: none;'>CAMEO_INTL_2015</span> Derived two columns and dropped it.</p>"
   ]
  },
  {
   "cell_type": "markdown",
   "metadata": {},
   "source": [
    "#### Step 1.2.3: Complete Feature Selection\n",
    "\n",
    "In order to finish this step up, you need to make sure that your data frame now only has the columns that you want to keep. To summarize, the dataframe should consist of the following:\n",
    "- All numeric, interval, and ordinal type columns from the original dataset.\n",
    "- Binary categorical features (all numerically-encoded).\n",
    "- Engineered features from other multi-level categorical features and mixed features.\n",
    "\n",
    "Make sure that for any new columns that you have engineered, that you've excluded the original columns from the final dataset. Otherwise, their values will interfere with the analysis later on the project. For example, you should not keep \"PRAEGENDE_JUGENDJAHRE\", since its values won't be useful for the algorithm: only the values derived from it in the engineered features you created should be retained. As a reminder, your data should only be from **the subset with few or no missing values**."
   ]
  },
  {
   "cell_type": "code",
   "execution_count": 100,
   "metadata": {},
   "outputs": [],
   "source": [
    "# If there are other re-engineering tasks you need to perform, make sure you\n",
    "# take care of them here. (Dealing with missing data will come in step 2.1.)\n",
    "\n"
   ]
  },
  {
   "cell_type": "code",
   "execution_count": 101,
   "metadata": {},
   "outputs": [],
   "source": [
    "# Do whatever you need to in order to ensure that the dataframe only contains\n",
    "# the columns that should be passed to the algorithm functions.\n",
    "\n"
   ]
  },
  {
   "cell_type": "markdown",
   "metadata": {},
   "source": [
    "### Step 1.3: Create a Cleaning Function\n",
    "\n",
    "Even though you've finished cleaning up the general population demographics data, it's important to look ahead to the future and realize that you'll need to perform the same cleaning steps on the customer demographics data. In this substep, complete the function below to execute the main feature selection, encoding, and re-engineering steps you performed above. Then, when it comes to looking at the customer data in Step 3, you can just run this function on that DataFrame to get the trimmed dataset in a single step."
   ]
  },
  {
   "cell_type": "code",
   "execution_count": 102,
   "metadata": {},
   "outputs": [],
   "source": [
    "def clean_data(df):\n",
    "    \"\"\"\n",
    "    Perform feature trimming, re-encoding, and engineering for demographics\n",
    "    data\n",
    "    \n",
    "    INPUT: Demographics DataFrame\n",
    "    OUTPUT: Trimmed and cleaned demographics DataFrame\n",
    "    \"\"\"\n",
    "    \n",
    "    \n",
    "    # 1st we have converted missing value codes into NaNs, ...\n",
    "    \n",
    "    \n",
    "    for attribute in feat_info['attribute']:\n",
    "        tmp_list = feat_info[feat_info['attribute']==attribute].missing_or_unknown.iloc[0].replace('[','').replace(']','').split(',')\n",
    "        missing_or_unknown_list = [float(x) if x.lstrip('-').isnumeric() else x for x in tmp_list]\n",
    "        df[attribute].replace(to_replace=missing_or_unknown_list,\n",
    "                      value=np.nan, inplace=True)\n",
    "\n",
    "    # remove selected columns and rows, ...    \n",
    "    \n",
    "    df.drop(Drop_list, axis='columns', inplace=True)\n",
    "    \n",
    "    # select, re-encode, and engineer column values.\n",
    "    \n",
    "    df['VERS_TYP'].replace([2.0, 1.0], [1, 0], inplace=True)\n",
    "    df['ANREDE_KZ'].replace([2, 1], [1, 0], inplace=True)\n",
    "    df = pd.get_dummies(df, columns=['OST_WEST_KZ'])\n",
    "    \n",
    "    \n",
    "    df['PRAEGENDE_JUGENDJAHRE_GENERATIONS'] = df['PRAEGENDE_JUGENDJAHRE'].apply(generations)\n",
    "    df['PRAEGENDE_JUGENDJAHRE_MOVEMENT'] = df['PRAEGENDE_JUGENDJAHRE'].apply(movement)\n",
    "    \n",
    "    df.drop('PRAEGENDE_JUGENDJAHRE', axis='columns', inplace=True)\n",
    "    \n",
    "    \n",
    "    df['CAMEO_INTL_2015_tens'] = df['CAMEO_INTL_2015'].str[0]\n",
    "    df['CAMEO_INTL_2015_ones'] = df['CAMEO_INTL_2015'].str[1]\n",
    "    df.drop('CAMEO_INTL_2015', axis=1, inplace=True)\n",
    "    \n",
    "    \n",
    "    \n",
    "    few_null = df[df.isnull().sum(axis=1) < 23].reset_index(drop=True)\n",
    "\n",
    "    more_null = df[df.isnull().sum(axis=1) >= 23].reset_index(drop=True)\n",
    "    \n",
    "  \n",
    "    \n",
    "    # Return the cleaned dataframe.\n",
    "    return few_null"
   ]
  },
  {
   "cell_type": "markdown",
   "metadata": {},
   "source": [
    "## Step 2: Feature Transformation\n",
    "\n",
    "### Step 2.1: Apply Feature Scaling\n",
    "\n",
    "Before we apply dimensionality reduction techniques to the data, we need to perform feature scaling so that the principal component vectors are not influenced by the natural differences in scale for features. Starting from this part of the project, you'll want to keep an eye on the [API reference page for sklearn](http://scikit-learn.org/stable/modules/classes.html) to help you navigate to all of the classes and functions that you'll need. In this substep, you'll need to check the following:\n",
    "\n",
    "- sklearn requires that data not have missing values in order for its estimators to work properly. So, before applying the scaler to your data, make sure that you've cleaned the DataFrame of the remaining missing values. This can be as simple as just removing all data points with missing data, or applying an [Imputer](http://scikit-learn.org/stable/modules/generated/sklearn.preprocessing.Imputer.html) to replace all missing values. You might also try a more complicated procedure where you temporarily remove missing values in order to compute the scaling parameters before re-introducing those missing values and applying imputation. Think about how much missing data you have and what possible effects each approach might have on your analysis, and justify your decision in the discussion section below.\n",
    "- For the actual scaling function, a [StandardScaler](http://scikit-learn.org/stable/modules/generated/sklearn.preprocessing.StandardScaler.html) instance is suggested, scaling each feature to mean 0 and standard deviation 1.\n",
    "- For these classes, you can make use of the `.fit_transform()` method to both fit a procedure to the data as well as apply the transformation to the data at the same time. Don't forget to keep the fit sklearn objects handy, since you'll be applying them to the customer demographics data towards the end of the project."
   ]
  },
  {
   "cell_type": "code",
   "execution_count": 103,
   "metadata": {},
   "outputs": [],
   "source": [
    "# Checking my cleaningfunction if working well\n",
    "azdias = pd.read_csv('Udacity_AZDIAS_Subset.csv', sep=';')\n",
    "df = clean_data(azdias)"
   ]
  },
  {
   "cell_type": "code",
   "execution_count": 104,
   "metadata": {},
   "outputs": [
    {
     "data": {
      "text/plain": [
       "(798069, 65)"
      ]
     },
     "execution_count": 104,
     "metadata": {},
     "output_type": "execute_result"
    }
   ],
   "source": [
    "df.shape"
   ]
  },
  {
   "cell_type": "code",
   "execution_count": 105,
   "metadata": {},
   "outputs": [
    {
     "data": {
      "text/plain": [
       "array([False, False, False, False, False, False, False, False, False,\n",
       "       False, False, False, False, False, False, False, False, False,\n",
       "       False, False, False, False, False, False, False, False, False,\n",
       "       False, False, False, False, False, False, False, False, False,\n",
       "       False, False, False, False, False, False, False, False, False,\n",
       "       False, False, False, False, False, False, False, False, False,\n",
       "       False, False, False, False, False, False, False, False, False,\n",
       "       False, False], dtype=bool)"
      ]
     },
     "execution_count": 105,
     "metadata": {},
     "output_type": "execute_result"
    }
   ],
   "source": [
    "# If you've not yet cleaned the dataset of all NaN values, then investigate and\n",
    "# do that now.\n",
    "\n",
    "fill_nan = Imputer(missing_values=np.nan, strategy='mean', axis=1)\n",
    "df_cleaned = pd.DataFrame(fill_nan.fit_transform(df), columns=df.keys())\n",
    "df_cleaned.isna().any().values"
   ]
  },
  {
   "cell_type": "code",
   "execution_count": 106,
   "metadata": {},
   "outputs": [],
   "source": [
    "# Apply feature scaling to the general population demographics data.\n",
    "\n",
    "scaler = StandardScaler() \n",
    "df_scaled = scaler.fit_transform(df_cleaned)"
   ]
  },
  {
   "cell_type": "code",
   "execution_count": 107,
   "metadata": {},
   "outputs": [],
   "source": [
    "df_scaled = pd.DataFrame(df_scaled, columns=list(df_cleaned))"
   ]
  },
  {
   "cell_type": "code",
   "execution_count": 108,
   "metadata": {},
   "outputs": [
    {
     "data": {
      "text/html": [
       "<div>\n",
       "<style scoped>\n",
       "    .dataframe tbody tr th:only-of-type {\n",
       "        vertical-align: middle;\n",
       "    }\n",
       "\n",
       "    .dataframe tbody tr th {\n",
       "        vertical-align: top;\n",
       "    }\n",
       "\n",
       "    .dataframe thead th {\n",
       "        text-align: right;\n",
       "    }\n",
       "</style>\n",
       "<table border=\"1\" class=\"dataframe\">\n",
       "  <thead>\n",
       "    <tr style=\"text-align: right;\">\n",
       "      <th></th>\n",
       "      <th>ALTERSKATEGORIE_GROB</th>\n",
       "      <th>ANREDE_KZ</th>\n",
       "      <th>FINANZ_MINIMALIST</th>\n",
       "      <th>FINANZ_SPARER</th>\n",
       "      <th>FINANZ_VORSORGER</th>\n",
       "      <th>FINANZ_ANLEGER</th>\n",
       "      <th>FINANZ_UNAUFFAELLIGER</th>\n",
       "      <th>FINANZ_HAUSBAUER</th>\n",
       "      <th>GREEN_AVANTGARDE</th>\n",
       "      <th>HEALTH_TYP</th>\n",
       "      <th>...</th>\n",
       "      <th>PLZ8_GBZ</th>\n",
       "      <th>ARBEIT</th>\n",
       "      <th>ORTSGR_KLS9</th>\n",
       "      <th>RELAT_AB</th>\n",
       "      <th>OST_WEST_KZ_O</th>\n",
       "      <th>OST_WEST_KZ_W</th>\n",
       "      <th>PRAEGENDE_JUGENDJAHRE_GENERATIONS</th>\n",
       "      <th>PRAEGENDE_JUGENDJAHRE_MOVEMENT</th>\n",
       "      <th>CAMEO_INTL_2015_tens</th>\n",
       "      <th>CAMEO_INTL_2015_ones</th>\n",
       "    </tr>\n",
       "  </thead>\n",
       "  <tbody>\n",
       "    <tr>\n",
       "      <th>0</th>\n",
       "      <td>-0.702450</td>\n",
       "      <td>0.957910</td>\n",
       "      <td>-1.494591</td>\n",
       "      <td>1.537916</td>\n",
       "      <td>-1.040685</td>\n",
       "      <td>1.465959</td>\n",
       "      <td>0.958627</td>\n",
       "      <td>1.339320</td>\n",
       "      <td>-0.530406</td>\n",
       "      <td>-0.130333</td>\n",
       "      <td>...</td>\n",
       "      <td>-0.086516</td>\n",
       "      <td>-0.121754</td>\n",
       "      <td>-0.136287</td>\n",
       "      <td>0.216672</td>\n",
       "      <td>-0.517422</td>\n",
       "      <td>0.517422</td>\n",
       "      <td>0.015146</td>\n",
       "      <td>-0.217761</td>\n",
       "      <td>0.366940</td>\n",
       "      <td>-0.559474</td>\n",
       "    </tr>\n",
       "    <tr>\n",
       "      <th>1</th>\n",
       "      <td>0.019063</td>\n",
       "      <td>0.957910</td>\n",
       "      <td>-1.494591</td>\n",
       "      <td>0.864557</td>\n",
       "      <td>-1.766971</td>\n",
       "      <td>-0.571002</td>\n",
       "      <td>0.244105</td>\n",
       "      <td>1.339320</td>\n",
       "      <td>1.885348</td>\n",
       "      <td>-0.130333</td>\n",
       "      <td>...</td>\n",
       "      <td>-0.086516</td>\n",
       "      <td>-0.121754</td>\n",
       "      <td>-0.136287</td>\n",
       "      <td>-0.392017</td>\n",
       "      <td>-0.517422</td>\n",
       "      <td>0.517422</td>\n",
       "      <td>0.015146</td>\n",
       "      <td>-0.102149</td>\n",
       "      <td>-0.406759</td>\n",
       "      <td>0.206525</td>\n",
       "    </tr>\n",
       "    <tr>\n",
       "      <th>2</th>\n",
       "      <td>0.379819</td>\n",
       "      <td>0.957910</td>\n",
       "      <td>0.683148</td>\n",
       "      <td>-0.482162</td>\n",
       "      <td>1.138174</td>\n",
       "      <td>-0.571002</td>\n",
       "      <td>-1.184940</td>\n",
       "      <td>-0.791197</td>\n",
       "      <td>-0.530406</td>\n",
       "      <td>-0.238527</td>\n",
       "      <td>...</td>\n",
       "      <td>-0.086516</td>\n",
       "      <td>-0.439470</td>\n",
       "      <td>-0.687307</td>\n",
       "      <td>-0.087673</td>\n",
       "      <td>-0.517422</td>\n",
       "      <td>0.517422</td>\n",
       "      <td>-0.228977</td>\n",
       "      <td>-0.217761</td>\n",
       "      <td>-0.664658</td>\n",
       "      <td>-0.304141</td>\n",
       "    </tr>\n",
       "    <tr>\n",
       "      <th>3</th>\n",
       "      <td>0.019063</td>\n",
       "      <td>-1.043939</td>\n",
       "      <td>0.683148</td>\n",
       "      <td>0.191197</td>\n",
       "      <td>0.411888</td>\n",
       "      <td>-1.249988</td>\n",
       "      <td>0.244105</td>\n",
       "      <td>-0.791197</td>\n",
       "      <td>-0.530406</td>\n",
       "      <td>-0.130333</td>\n",
       "      <td>...</td>\n",
       "      <td>-0.218762</td>\n",
       "      <td>0.195963</td>\n",
       "      <td>0.139224</td>\n",
       "      <td>0.521016</td>\n",
       "      <td>-0.517422</td>\n",
       "      <td>0.517422</td>\n",
       "      <td>-0.228977</td>\n",
       "      <td>-0.217761</td>\n",
       "      <td>0.109041</td>\n",
       "      <td>-0.048808</td>\n",
       "    </tr>\n",
       "    <tr>\n",
       "      <th>4</th>\n",
       "      <td>-0.702450</td>\n",
       "      <td>0.957910</td>\n",
       "      <td>-0.042765</td>\n",
       "      <td>-1.155521</td>\n",
       "      <td>1.138174</td>\n",
       "      <td>-0.571002</td>\n",
       "      <td>-0.470418</td>\n",
       "      <td>1.339320</td>\n",
       "      <td>-0.530406</td>\n",
       "      <td>-0.130333</td>\n",
       "      <td>...</td>\n",
       "      <td>0.045730</td>\n",
       "      <td>-0.439470</td>\n",
       "      <td>-0.687307</td>\n",
       "      <td>-0.087673</td>\n",
       "      <td>-0.517422</td>\n",
       "      <td>0.517422</td>\n",
       "      <td>-0.473100</td>\n",
       "      <td>-0.217761</td>\n",
       "      <td>0.366940</td>\n",
       "      <td>0.206525</td>\n",
       "    </tr>\n",
       "  </tbody>\n",
       "</table>\n",
       "<p>5 rows × 65 columns</p>\n",
       "</div>"
      ],
      "text/plain": [
       "   ALTERSKATEGORIE_GROB  ANREDE_KZ  FINANZ_MINIMALIST  FINANZ_SPARER  \\\n",
       "0             -0.702450   0.957910          -1.494591       1.537916   \n",
       "1              0.019063   0.957910          -1.494591       0.864557   \n",
       "2              0.379819   0.957910           0.683148      -0.482162   \n",
       "3              0.019063  -1.043939           0.683148       0.191197   \n",
       "4             -0.702450   0.957910          -0.042765      -1.155521   \n",
       "\n",
       "   FINANZ_VORSORGER  FINANZ_ANLEGER  FINANZ_UNAUFFAELLIGER  FINANZ_HAUSBAUER  \\\n",
       "0         -1.040685        1.465959               0.958627          1.339320   \n",
       "1         -1.766971       -0.571002               0.244105          1.339320   \n",
       "2          1.138174       -0.571002              -1.184940         -0.791197   \n",
       "3          0.411888       -1.249988               0.244105         -0.791197   \n",
       "4          1.138174       -0.571002              -0.470418          1.339320   \n",
       "\n",
       "   GREEN_AVANTGARDE  HEALTH_TYP          ...           PLZ8_GBZ    ARBEIT  \\\n",
       "0         -0.530406   -0.130333          ...          -0.086516 -0.121754   \n",
       "1          1.885348   -0.130333          ...          -0.086516 -0.121754   \n",
       "2         -0.530406   -0.238527          ...          -0.086516 -0.439470   \n",
       "3         -0.530406   -0.130333          ...          -0.218762  0.195963   \n",
       "4         -0.530406   -0.130333          ...           0.045730 -0.439470   \n",
       "\n",
       "   ORTSGR_KLS9  RELAT_AB  OST_WEST_KZ_O  OST_WEST_KZ_W  \\\n",
       "0    -0.136287  0.216672      -0.517422       0.517422   \n",
       "1    -0.136287 -0.392017      -0.517422       0.517422   \n",
       "2    -0.687307 -0.087673      -0.517422       0.517422   \n",
       "3     0.139224  0.521016      -0.517422       0.517422   \n",
       "4    -0.687307 -0.087673      -0.517422       0.517422   \n",
       "\n",
       "   PRAEGENDE_JUGENDJAHRE_GENERATIONS  PRAEGENDE_JUGENDJAHRE_MOVEMENT  \\\n",
       "0                           0.015146                       -0.217761   \n",
       "1                           0.015146                       -0.102149   \n",
       "2                          -0.228977                       -0.217761   \n",
       "3                          -0.228977                       -0.217761   \n",
       "4                          -0.473100                       -0.217761   \n",
       "\n",
       "   CAMEO_INTL_2015_tens  CAMEO_INTL_2015_ones  \n",
       "0              0.366940             -0.559474  \n",
       "1             -0.406759              0.206525  \n",
       "2             -0.664658             -0.304141  \n",
       "3              0.109041             -0.048808  \n",
       "4              0.366940              0.206525  \n",
       "\n",
       "[5 rows x 65 columns]"
      ]
     },
     "execution_count": 108,
     "metadata": {},
     "output_type": "execute_result"
    }
   ],
   "source": [
    "df_scaled.head()"
   ]
  },
  {
   "cell_type": "markdown",
   "metadata": {},
   "source": [
    "### Discussion 2.1: Apply Feature Scaling\n",
    "\n",
    "<ul style=\"margin-bottom:0in;\" type=\"disc\">\n",
    "    <li style='margin-top:0in;margin-right:0in;margin-bottom:8.0pt;margin-left:0in;line-height:normal;font-size:15px;font-family:\"Calibri\",sans-serif;color:black;background:white;'><span style='font-size:14px;font-family:\"Helvetica\",sans-serif;'>As suggested in Step 2.1: <br>I decided to replace nan&rsquo;s with mean using Imputer</span></li>\n",
    "    <li style='margin-top:0in;margin-right:0in;margin-bottom:8.0pt;margin-left:0in;line-height:normal;font-size:15px;font-family:\"Calibri\",sans-serif;color:black;background:white;'><span style='font-size:14px;font-family:\"Helvetica\",sans-serif;'>secondly StandardScaler used to scaling each feature to mean 0 and standard deviation 1.</span></li>\n",
    "    <li style='margin-top:0in;margin-right:0in;margin-bottom:8.0pt;margin-left:0in;line-height:normal;font-size:15px;font-family:\"Calibri\",sans-serif;color:black;background:white;'><span style='font-size:14px;font-family:\"Helvetica\",sans-serif;'>used</span><span style='font-size:14px;font-family:\"Courier New\";border:none windowtext 1.0pt;padding:0in;background:#EFF0F1;'>.fit_transform()</span><span style='font-size:14px;font-family:\"Helvetica\",sans-serif;'>&nbsp;method to both fit a procedure to the data as well as apply the transformation to the data at the same time</span></li>\n",
    "</ul>"
   ]
  },
  {
   "cell_type": "markdown",
   "metadata": {},
   "source": [
    "### Step 2.2: Perform Dimensionality Reduction\n",
    "\n",
    "On your scaled data, you are now ready to apply dimensionality reduction techniques.\n",
    "\n",
    "- Use sklearn's [PCA](http://scikit-learn.org/stable/modules/generated/sklearn.decomposition.PCA.html) class to apply principal component analysis on the data, thus finding the vectors of maximal variance in the data. To start, you should not set any parameters (so all components are computed) or set a number of components that is at least half the number of features (so there's enough features to see the general trend in variability).\n",
    "- Check out the ratio of variance explained by each principal component as well as the cumulative variance explained. Try plotting the cumulative or sequential values using matplotlib's [`plot()`](https://matplotlib.org/api/_as_gen/matplotlib.pyplot.plot.html) function. Based on what you find, select a value for the number of transformed features you'll retain for the clustering part of the project.\n",
    "- Once you've made a choice for the number of components to keep, make sure you re-fit a PCA instance to perform the decided-on transformation."
   ]
  },
  {
   "cell_type": "code",
   "execution_count": 109,
   "metadata": {},
   "outputs": [
    {
     "data": {
      "text/plain": [
       "PCA(copy=True, iterated_power='auto', n_components=None, random_state=None,\n",
       "  svd_solver='auto', tol=0.0, whiten=False)"
      ]
     },
     "execution_count": 109,
     "metadata": {},
     "output_type": "execute_result"
    }
   ],
   "source": [
    "# Apply PCA to the data.\n",
    "\n",
    "pca = PCA()\n",
    "pca.fit(df_scaled)"
   ]
  },
  {
   "cell_type": "code",
   "execution_count": 110,
   "metadata": {},
   "outputs": [],
   "source": [
    "# Investigate the variance accounted for by each principal component.\n",
    "\n",
    "# Reference from Lesson 4:13 - Interpret PCA Results\n",
    "\n",
    "def scree_plot(pca):\n",
    "    '''\n",
    "    Creates a scree plot associated with the principal components \n",
    "    \n",
    "    INPUT: pca - the result of instantian of PCA in scikit learn\n",
    "            \n",
    "    OUTPUT:\n",
    "            None\n",
    "    '''\n",
    "    num_components = len(pca.explained_variance_ratio_)\n",
    "    ind = np.arange(num_components)\n",
    "    vals = pca.explained_variance_ratio_\n",
    " \n",
    "    plt.figure(figsize=(25, 6))\n",
    "    ax = plt.subplot(111)\n",
    "    cumvals = np.cumsum(vals)\n",
    "    ax.bar(ind, vals)\n",
    "    ax.plot(ind, cumvals)\n",
    "    for i in range(num_components):\n",
    "        ax.annotate(r\"%s%%\" % ((str(vals[i]*100)[:4])), (ind[i]+0.2, vals[i]), va=\"bottom\", ha=\"center\", fontsize=8)\n",
    " \n",
    "    ax.xaxis.set_tick_params(width=0)\n",
    "    ax.yaxis.set_tick_params(width=1, length=14)\n",
    " \n",
    "    ax.set_xlabel(\"Principal Component\")\n",
    "    ax.set_ylabel(\"Variance Explained (%)\")\n",
    "    plt.title('Explained Variance Per Principal Component')\n",
    "    "
   ]
  },
  {
   "cell_type": "code",
   "execution_count": 111,
   "metadata": {},
   "outputs": [
    {
     "data": {
      "image/png": "[encoded data removed]",
      "text/plain": [
       "<matplotlib.figure.Figure at 0x7f57eb8e3f28>"
      ]
     },
     "metadata": {
      "needs_background": "light"
     },
     "output_type": "display_data"
    }
   ],
   "source": [
    "scree_plot(pca)"
   ]
  },
  {
   "cell_type": "code",
   "execution_count": 112,
   "metadata": {},
   "outputs": [],
   "source": [
    "# Re-apply PCA to the data while selecting for number of components to retain.\n",
    "\n",
    "pca = PCA(n_components=23)\n",
    "df_final_pca = pca.fit_transform(df_scaled)"
   ]
  },
  {
   "cell_type": "markdown",
   "metadata": {},
   "source": [
    "### Discussion 2.2: Perform Dimensionality Reduction\n",
    "\n",
    "\n",
    "By looking at the plot above, we can see after 20th features the variance explained dropped off and becomes close 1. So 23 features to re-do the PCA."
   ]
  },
  {
   "cell_type": "markdown",
   "metadata": {},
   "source": [
    "### Step 2.3: Interpret Principal Components\n",
    "\n",
    "Now that we have our transformed principal components, it's a nice idea to check out the weight of each variable on the first few components to see if they can be interpreted in some fashion.\n",
    "\n",
    "As a reminder, each principal component is a unit vector that points in the direction of highest variance (after accounting for the variance captured by earlier principal components). The further a weight is from zero, the more the principal component is in the direction of the corresponding feature. If two features have large weights of the same sign (both positive or both negative), then increases in one tend expect to be associated with increases in the other. To contrast, features with different signs can be expected to show a negative correlation: increases in one variable should result in a decrease in the other.\n",
    "\n",
    "- To investigate the features, you should map each weight to their corresponding feature name, then sort the features according to weight. The most interesting features for each principal component, then, will be those at the beginning and end of the sorted list. Use the data dictionary document to help you understand these most prominent features, their relationships, and what a positive or negative value on the principal component might indicate.\n",
    "- You should investigate and interpret feature associations from the first three principal components in this substep. To help facilitate this, you should write a function that you can call at any time to print the sorted list of feature weights, for the *i*-th principal component. This might come in handy in the next step of the project, when you interpret the tendencies of the discovered clusters."
   ]
  },
  {
   "cell_type": "code",
   "execution_count": 113,
   "metadata": {},
   "outputs": [],
   "source": [
    "# Map weights for the first principal component to corresponding feature names\n",
    "# and then print the linked values, sorted by weight.\n",
    "# HINT: Try defining a function here or in a new cell that you can reuse in the\n",
    "# other cells.\n",
    "\n",
    "def weights(pca, comp):\n",
    "    df = pd.DataFrame(pca.components_, columns=list(df_scaled.columns))\n",
    "    weights = df.iloc[comp].sort_values(ascending=False)\n",
    "    return weights"
   ]
  },
  {
   "cell_type": "code",
   "execution_count": 114,
   "metadata": {},
   "outputs": [
    {
     "name": "stdout",
     "output_type": "stream",
     "text": [
      "SEMIO_REL                            0.318513\n",
      "SEMIO_KULT                           0.288547\n",
      "FINANZ_SPARER                        0.277978\n",
      "SEMIO_PFLICHT                        0.265222\n",
      "SEMIO_FAM                            0.264179\n",
      "SEMIO_TRADV                          0.245474\n",
      "FINANZ_UNAUFFAELLIGER                0.225352\n",
      "SEMIO_MAT                            0.210300\n",
      "FINANZ_ANLEGER                       0.190161\n",
      "SEMIO_RAT                            0.169189\n",
      "SEMIO_SOZ                            0.168228\n",
      "SEMIO_VERT                           0.099886\n",
      "HH_EINKOMMEN_SCORE                   0.075043\n",
      "PRAEGENDE_JUGENDJAHRE_GENERATIONS    0.062821\n",
      "HEALTH_TYP                           0.046667\n",
      "VERS_TYP                             0.041494\n",
      "ORTSGR_KLS9                          0.033304\n",
      "ONLINE_AFFINITAET                    0.031923\n",
      "EWDICHTE                             0.029734\n",
      "ANZ_HAUSHALTE_AKTIV                  0.029666\n",
      "CAMEO_INTL_2015_tens                 0.018892\n",
      "RELAT_AB                             0.018545\n",
      "ARBEIT                               0.017741\n",
      "PRAEGENDE_JUGENDJAHRE_MOVEMENT       0.017372\n",
      "W_KEIT_KIND_HH                       0.012543\n",
      "OST_WEST_KZ_O                        0.012234\n",
      "SOHO_KZ                              0.000266\n",
      "FINANZ_HAUSBAUER                    -0.000176\n",
      "REGIOTYP                            -0.004756\n",
      "ANZ_PERSONEN                        -0.005093\n",
      "                                       ...   \n",
      "OST_WEST_KZ_W                       -0.012234\n",
      "PLZ8_HHZ                            -0.012246\n",
      "ANZ_HH_TITEL                        -0.013745\n",
      "MIN_GEBAEUDEJAHR                    -0.016210\n",
      "KBA05_ANTG3                         -0.017700\n",
      "KBA13_ANZAHL_PKW                    -0.017950\n",
      "PLZ8_GBZ                            -0.019348\n",
      "KBA05_ANTG4                         -0.019364\n",
      "KBA05_ANTG2                         -0.019715\n",
      "PLZ8_ANTG1                          -0.020577\n",
      "BALLRAUM                            -0.025553\n",
      "KBA05_GBZ                           -0.027325\n",
      "KBA05_ANTG1                         -0.029050\n",
      "MOBI_REGIO                          -0.029766\n",
      "CAMEO_INTL_2015_ones                -0.030382\n",
      "INNENSTADT                          -0.035289\n",
      "GEBAEUDETYP_RASTER                  -0.038861\n",
      "KONSUMNAEHE                         -0.044848\n",
      "GREEN_AVANTGARDE                    -0.046502\n",
      "RETOURTYP_BK_S                      -0.055780\n",
      "WOHNDAUER_2008                      -0.078142\n",
      "ALTERSKATEGORIE_GROB                -0.108372\n",
      "SEMIO_DOM                           -0.111962\n",
      "SEMIO_KAEM                          -0.143672\n",
      "ANREDE_KZ                           -0.147302\n",
      "SEMIO_KRIT                          -0.156289\n",
      "FINANZ_MINIMALIST                   -0.166488\n",
      "SEMIO_LUST                          -0.181543\n",
      "FINANZ_VORSORGER                    -0.253797\n",
      "SEMIO_ERL                           -0.284461\n",
      "Name: 1, Length: 65, dtype: float64\n"
     ]
    }
   ],
   "source": [
    "# Map weights for the first principal component to corresponding feature names\n",
    "# and then print the linked values, sorted by weight.\n",
    "print(weights(pca, 1))"
   ]
  },
  {
   "cell_type": "code",
   "execution_count": 115,
   "metadata": {},
   "outputs": [
    {
     "name": "stdout",
     "output_type": "stream",
     "text": [
      "SEMIO_REL                            0.318513\n",
      "SEMIO_KULT                           0.288547\n",
      "FINANZ_SPARER                        0.277978\n",
      "SEMIO_PFLICHT                        0.265222\n",
      "SEMIO_FAM                            0.264179\n",
      "SEMIO_TRADV                          0.245474\n",
      "FINANZ_UNAUFFAELLIGER                0.225352\n",
      "SEMIO_MAT                            0.210300\n",
      "FINANZ_ANLEGER                       0.190161\n",
      "SEMIO_RAT                            0.169189\n",
      "SEMIO_SOZ                            0.168228\n",
      "SEMIO_VERT                           0.099886\n",
      "HH_EINKOMMEN_SCORE                   0.075043\n",
      "PRAEGENDE_JUGENDJAHRE_GENERATIONS    0.062821\n",
      "HEALTH_TYP                           0.046667\n",
      "VERS_TYP                             0.041494\n",
      "ORTSGR_KLS9                          0.033304\n",
      "ONLINE_AFFINITAET                    0.031923\n",
      "EWDICHTE                             0.029734\n",
      "ANZ_HAUSHALTE_AKTIV                  0.029666\n",
      "CAMEO_INTL_2015_tens                 0.018892\n",
      "RELAT_AB                             0.018545\n",
      "ARBEIT                               0.017741\n",
      "PRAEGENDE_JUGENDJAHRE_MOVEMENT       0.017372\n",
      "W_KEIT_KIND_HH                       0.012543\n",
      "OST_WEST_KZ_O                        0.012234\n",
      "SOHO_KZ                              0.000266\n",
      "FINANZ_HAUSBAUER                    -0.000176\n",
      "REGIOTYP                            -0.004756\n",
      "ANZ_PERSONEN                        -0.005093\n",
      "                                       ...   \n",
      "OST_WEST_KZ_W                       -0.012234\n",
      "PLZ8_HHZ                            -0.012246\n",
      "ANZ_HH_TITEL                        -0.013745\n",
      "MIN_GEBAEUDEJAHR                    -0.016210\n",
      "KBA05_ANTG3                         -0.017700\n",
      "KBA13_ANZAHL_PKW                    -0.017950\n",
      "PLZ8_GBZ                            -0.019348\n",
      "KBA05_ANTG4                         -0.019364\n",
      "KBA05_ANTG2                         -0.019715\n",
      "PLZ8_ANTG1                          -0.020577\n",
      "BALLRAUM                            -0.025553\n",
      "KBA05_GBZ                           -0.027325\n",
      "KBA05_ANTG1                         -0.029050\n",
      "MOBI_REGIO                          -0.029766\n",
      "CAMEO_INTL_2015_ones                -0.030382\n",
      "INNENSTADT                          -0.035289\n",
      "GEBAEUDETYP_RASTER                  -0.038861\n",
      "KONSUMNAEHE                         -0.044848\n",
      "GREEN_AVANTGARDE                    -0.046502\n",
      "RETOURTYP_BK_S                      -0.055780\n",
      "WOHNDAUER_2008                      -0.078142\n",
      "ALTERSKATEGORIE_GROB                -0.108372\n",
      "SEMIO_DOM                           -0.111962\n",
      "SEMIO_KAEM                          -0.143672\n",
      "ANREDE_KZ                           -0.147302\n",
      "SEMIO_KRIT                          -0.156289\n",
      "FINANZ_MINIMALIST                   -0.166488\n",
      "SEMIO_LUST                          -0.181543\n",
      "FINANZ_VORSORGER                    -0.253797\n",
      "SEMIO_ERL                           -0.284461\n",
      "Name: 1, Length: 65, dtype: float64\n"
     ]
    }
   ],
   "source": [
    "# Map weights for the second principal component to corresponding feature names\n",
    "# and then print the linked values, sorted by weight.\n",
    "\n",
    "print(weights(pca, 1))"
   ]
  },
  {
   "cell_type": "code",
   "execution_count": 116,
   "metadata": {},
   "outputs": [
    {
     "name": "stdout",
     "output_type": "stream",
     "text": [
      "ANREDE_KZ                            0.330060\n",
      "SEMIO_KAEM                           0.319788\n",
      "SEMIO_DOM                            0.284557\n",
      "SEMIO_KRIT                           0.250601\n",
      "SEMIO_RAT                            0.236926\n",
      "FINANZ_ANLEGER                       0.195882\n",
      "FINANZ_SPARER                        0.168657\n",
      "FINANZ_HAUSBAUER                     0.145478\n",
      "SEMIO_PFLICHT                        0.133514\n",
      "FINANZ_UNAUFFAELLIGER                0.128533\n",
      "HH_EINKOMMEN_SCORE                   0.128331\n",
      "SEMIO_ERL                            0.125519\n",
      "PRAEGENDE_JUGENDJAHRE_GENERATIONS    0.124760\n",
      "HEALTH_TYP                           0.122200\n",
      "VERS_TYP                             0.120606\n",
      "PRAEGENDE_JUGENDJAHRE_MOVEMENT       0.099999\n",
      "SEMIO_TRADV                          0.098099\n",
      "ORTSGR_KLS9                          0.064008\n",
      "EWDICHTE                             0.061851\n",
      "ANZ_HAUSHALTE_AKTIV                  0.058001\n",
      "PLZ8_ANTG3                           0.042955\n",
      "W_KEIT_KIND_HH                       0.042076\n",
      "PLZ8_ANTG4                           0.039887\n",
      "PLZ8_ANTG2                           0.039443\n",
      "CAMEO_INTL_2015_tens                 0.038772\n",
      "RELAT_AB                             0.037049\n",
      "PLZ8_HHZ                             0.035191\n",
      "ARBEIT                               0.033306\n",
      "PLZ8_GBZ                             0.023886\n",
      "PLZ8_ANTG1                           0.021959\n",
      "                                       ...   \n",
      "SOHO_KZ                             -0.001677\n",
      "SEMIO_MAT                           -0.003320\n",
      "MIN_GEBAEUDEJAHR                    -0.005648\n",
      "REGIOTYP                            -0.005936\n",
      "KBA05_GBZ                           -0.005947\n",
      "KBA05_ANTG1                         -0.007082\n",
      "ANZ_TITEL                           -0.007970\n",
      "MOBI_REGIO                          -0.008579\n",
      "KKK                                 -0.009401\n",
      "ANZ_HH_TITEL                        -0.011657\n",
      "OST_WEST_KZ_W                       -0.013049\n",
      "ONLINE_AFFINITAET                   -0.014042\n",
      "CAMEO_INTL_2015_ones                -0.015413\n",
      "KBA13_ANZAHL_PKW                    -0.027560\n",
      "ALTERSKATEGORIE_GROB                -0.029703\n",
      "RETOURTYP_BK_S                      -0.042504\n",
      "BALLRAUM                            -0.045629\n",
      "GEBAEUDETYP_RASTER                  -0.050963\n",
      "ANZ_PERSONEN                        -0.056737\n",
      "INNENSTADT                          -0.057498\n",
      "WOHNDAUER_2008                      -0.064000\n",
      "SEMIO_LUST                          -0.066907\n",
      "KONSUMNAEHE                         -0.071169\n",
      "GREEN_AVANTGARDE                    -0.097729\n",
      "FINANZ_VORSORGER                    -0.138284\n",
      "SEMIO_FAM                           -0.174022\n",
      "SEMIO_KULT                          -0.175288\n",
      "SEMIO_SOZ                           -0.214573\n",
      "FINANZ_MINIMALIST                   -0.263161\n",
      "SEMIO_VERT                          -0.332266\n",
      "Name: 2, Length: 65, dtype: float64\n"
     ]
    }
   ],
   "source": [
    "# Map weights for the third principal component to corresponding feature names\n",
    "# and then print the linked values, sorted by weight.\n",
    "\n",
    "print(weights(pca, 2))"
   ]
  },
  {
   "cell_type": "markdown",
   "metadata": {},
   "source": [
    "<p style='margin-top:0in;margin-right:0in;margin-bottom:.0001pt;margin-left:0in;line-height:normal;font-size:15px;font-family:\"Calibri\",sans-serif;background:white;'><strong><span style='font-family:\"Calibri Light\",sans-serif;color:black;'>Discussion 2.3: Interpret Principal Components</span></strong></p>\n",
    "<p style='margin-top:12.0pt;margin-right:0in;margin-bottom:.0001pt;margin-left:0in;line-height:normal;font-size:15px;font-family:\"Calibri\",sans-serif;background:white;'><span style='font-size:12px;font-family:\"Calibri Light\",sans-serif;color:black;'>&nbsp;</span></p>\n",
    "<p style='margin-top:0in;margin-right:24.0pt;margin-bottom:.0001pt;margin-left:0in;line-height:15.0pt;font-size:15px;font-family:\"Calibri\",sans-serif;background:white;'><span style='font-size:12px;font-family:\"Calibri Light\",sans-serif;color:black;'>1. Most weighted features for the first principle component<br>&nbsp; &nbsp;</span></p>\n",
    "<table style=\"border: none;margin-left:-.25pt;border-collapse:collapse;\">\n",
    "    <tbody>\n",
    "        <tr>\n",
    "            <td style=\"border:solid windowtext 1.0pt;padding:0in 5.4pt 0in 5.4pt;height:14.5pt;\">\n",
    "                <p style='margin-top:0in;margin-right:0in;margin-bottom:.0001pt;margin-left:0in;line-height:  normal;font-size:15px;font-family:\"Calibri\",sans-serif;'><span style='font-size:12px;font-family:\"Calibri Light\",sans-serif;color:black;'>KBA05_GBZ</span></p>\n",
    "            </td>\n",
    "            <td style=\"border:solid windowtext 1.0pt;border-left:none;padding:0in 5.4pt 0in 5.4pt;height:14.5pt;\">\n",
    "                <p style='margin-top:0in;margin-right:0in;margin-bottom:.0001pt;margin-left:0in;line-height:  normal;font-size:15px;font-family:\"Calibri\",sans-serif;'><span style='font-size:12px;font-family:\"Calibri Light\",sans-serif;color:black;'>0.278939</span></p>\n",
    "            </td>\n",
    "            <td style=\"border:solid windowtext 1.0pt;border-left:none;padding:0in 5.4pt 0in 5.4pt;height:14.5pt;\">\n",
    "                <p style='margin-top:0in;margin-right:0in;margin-bottom:.0001pt;margin-left:0in;line-height:  normal;font-size:15px;font-family:\"Calibri\",sans-serif;'><span style='font-size:12px;font-family:\"Calibri Light\",sans-serif;color:black;'>Number of buildings in the microcell</span></p>\n",
    "            </td>\n",
    "        </tr>\n",
    "        <tr>\n",
    "            <td style=\"border:solid windowtext 1.0pt;border-top:none;padding:0in 5.4pt 0in 5.4pt;height:14.5pt;\">\n",
    "                <p style='margin-top:0in;margin-right:0in;margin-bottom:.0001pt;margin-left:0in;line-height:  normal;font-size:15px;font-family:\"Calibri\",sans-serif;'><span style='font-size:12px;font-family:\"Calibri Light\",sans-serif;color:black;'>MOBI_REGIO</span></p>\n",
    "            </td>\n",
    "            <td style=\"border-top:none;border-left:none;border-bottom:solid windowtext 1.0pt;border-right:solid windowtext 1.0pt;padding:0in 5.4pt 0in 5.4pt;height:14.5pt;\">\n",
    "                <p style='margin-top:0in;margin-right:0in;margin-bottom:.0001pt;margin-left:0in;line-height:  normal;font-size:15px;font-family:\"Calibri\",sans-serif;'><span style='font-size:12px;font-family:\"Calibri Light\",sans-serif;color:black;'>0.27893</span></p>\n",
    "            </td>\n",
    "            <td style=\"border-top:none;border-left:none;border-bottom:solid windowtext 1.0pt;border-right:solid windowtext 1.0pt;padding:0in 5.4pt 0in 5.4pt;height:14.5pt;\">\n",
    "                <p style='margin-top:0in;margin-right:0in;margin-bottom:.0001pt;margin-left:0in;line-height:  normal;font-size:15px;font-family:\"Calibri\",sans-serif;'><span style='font-size:12px;font-family:\"Calibri Light\",sans-serif;color:black;'>Movement patterns</span></p>\n",
    "            </td>\n",
    "        </tr>\n",
    "        <tr>\n",
    "            <td style=\"border:solid windowtext 1.0pt;border-top:none;padding:0in 5.4pt 0in 5.4pt;height:14.5pt;\">\n",
    "                <p style='margin-top:0in;margin-right:0in;margin-bottom:.0001pt;margin-left:0in;line-height:  normal;font-size:15px;font-family:\"Calibri\",sans-serif;'><span style='font-size:12px;font-family:\"Calibri Light\",sans-serif;color:black;'>KBA05_ANTG1</span></p>\n",
    "            </td>\n",
    "            <td style=\"border-top:none;border-left:none;border-bottom:solid windowtext 1.0pt;border-right:solid windowtext 1.0pt;padding:0in 5.4pt 0in 5.4pt;height:14.5pt;\">\n",
    "                <p style='margin-top:0in;margin-right:0in;margin-bottom:.0001pt;margin-left:0in;line-height:  normal;font-size:15px;font-family:\"Calibri\",sans-serif;'><span style='font-size:12px;font-family:\"Calibri Light\",sans-serif;color:black;'>0.278286</span></p>\n",
    "            </td>\n",
    "            <td style=\"border-top:none;border-left:none;border-bottom:solid windowtext 1.0pt;border-right:solid windowtext 1.0pt;padding:0in 5.4pt 0in 5.4pt;height:14.5pt;\">\n",
    "                <p style='margin-top:0in;margin-right:0in;margin-bottom:.0001pt;margin-left:0in;line-height:  normal;font-size:15px;font-family:\"Calibri\",sans-serif;'><span style='font-size:12px;font-family:\"Calibri Light\",sans-serif;color:black;'>Number of 1-2 family houses in the microcell</span></p>\n",
    "            </td>\n",
    "        </tr>\n",
    "        <tr>\n",
    "            <td style=\"border:solid windowtext 1.0pt;border-top:none;padding:0in 5.4pt 0in 5.4pt;height:14.5pt;\">\n",
    "                <p style='margin-top:0in;margin-right:0in;margin-bottom:.0001pt;margin-left:0in;line-height:  normal;font-size:15px;font-family:\"Calibri\",sans-serif;'><span style='font-size:12px;font-family:\"Calibri Light\",sans-serif;color:black;'>KBA05_ANTG2</span></p>\n",
    "            </td>\n",
    "            <td style=\"border-top:none;border-left:none;border-bottom:solid windowtext 1.0pt;border-right:solid windowtext 1.0pt;padding:0in 5.4pt 0in 5.4pt;height:14.5pt;\">\n",
    "                <p style='margin-top:0in;margin-right:0in;margin-bottom:.0001pt;margin-left:0in;line-height:  normal;font-size:15px;font-family:\"Calibri\",sans-serif;'><span style='font-size:12px;font-family:\"Calibri Light\",sans-serif;color:black;'>0.275898</span></p>\n",
    "            </td>\n",
    "            <td style=\"border-top:none;border-left:none;border-bottom:solid windowtext 1.0pt;border-right:solid windowtext 1.0pt;padding:0in 5.4pt 0in 5.4pt;height:14.5pt;\">\n",
    "                <p style='margin-top:0in;margin-right:0in;margin-bottom:.0001pt;margin-left:0in;line-height:  normal;font-size:15px;font-family:\"Calibri\",sans-serif;'><span style='font-size:12px;font-family:\"Calibri Light\",sans-serif;color:black;'>Number of 3-5 family houses in the microcell</span></p>\n",
    "            </td>\n",
    "        </tr>\n",
    "        <tr>\n",
    "            <td style=\"border:solid windowtext 1.0pt;border-top:none;padding:0in 5.4pt 0in 5.4pt;height:14.5pt;\">\n",
    "                <p style='margin-top:0in;margin-right:0in;margin-bottom:.0001pt;margin-left:0in;line-height:  normal;font-size:15px;font-family:\"Calibri\",sans-serif;'><span style='font-size:12px;font-family:\"Calibri Light\",sans-serif;color:black;'>KBA05_ANTG4</span></p>\n",
    "            </td>\n",
    "            <td style=\"border-top:none;border-left:none;border-bottom:solid windowtext 1.0pt;border-right:solid windowtext 1.0pt;padding:0in 5.4pt 0in 5.4pt;height:14.5pt;\">\n",
    "                <p style='margin-top:0in;margin-right:0in;margin-bottom:.0001pt;margin-left:0in;line-height:  normal;font-size:15px;font-family:\"Calibri\",sans-serif;'><span style='font-size:12px;font-family:\"Calibri Light\",sans-serif;color:black;'>0.275687</span></p>\n",
    "            </td>\n",
    "            <td style=\"border-top:none;border-left:none;border-bottom:solid windowtext 1.0pt;border-right:solid windowtext 1.0pt;padding:0in 5.4pt 0in 5.4pt;height:14.5pt;\">\n",
    "                <p style='margin-top:0in;margin-right:0in;margin-bottom:.0001pt;margin-left:0in;line-height:  normal;font-size:15px;font-family:\"Calibri\",sans-serif;'><span style='font-size:12px;font-family:\"Calibri Light\",sans-serif;color:black;'>Number of 10+ family houses in the microcell</span></p>\n",
    "            </td>\n",
    "        </tr>\n",
    "        <tr>\n",
    "            <td style=\"border:solid windowtext 1.0pt;border-top:none;padding:0in 5.4pt 0in 5.4pt;height:14.5pt;\">\n",
    "                <p style='margin-top:0in;margin-right:0in;margin-bottom:.0001pt;margin-left:0in;line-height:  normal;font-size:15px;font-family:\"Calibri\",sans-serif;'><span style='font-size:12px;font-family:\"Calibri Light\",sans-serif;color:black;'>KBA05_ANTG3</span></p>\n",
    "            </td>\n",
    "            <td style=\"border-top:none;border-left:none;border-bottom:solid windowtext 1.0pt;border-right:solid windowtext 1.0pt;padding:0in 5.4pt 0in 5.4pt;height:14.5pt;\">\n",
    "                <p style='margin-top:0in;margin-right:0in;margin-bottom:.0001pt;margin-left:0in;line-height:  normal;font-size:15px;font-family:\"Calibri\",sans-serif;'><span style='font-size:12px;font-family:\"Calibri Light\",sans-serif;color:black;'>0.274913</span></p>\n",
    "            </td>\n",
    "            <td style=\"border-top:none;border-left:none;border-bottom:solid windowtext 1.0pt;border-right:solid windowtext 1.0pt;padding:0in 5.4pt 0in 5.4pt;height:14.5pt;\">\n",
    "                <p style='margin-top:0in;margin-right:0in;margin-bottom:.0001pt;margin-left:0in;line-height:  normal;font-size:15px;font-family:\"Calibri\",sans-serif;'><span style='font-size:12px;font-family:\"Calibri Light\",sans-serif;color:black;'>Number of 6-10 family houses in the microcell</span></p>\n",
    "            </td>\n",
    "        </tr>\n",
    "        <tr>\n",
    "            <td style=\"border:solid windowtext 1.0pt;border-top:none;padding:0in 5.4pt 0in 5.4pt;height:14.5pt;\">\n",
    "                <p style='margin-top:0in;margin-right:0in;margin-bottom:.0001pt;margin-left:0in;line-height:  normal;font-size:15px;font-family:\"Calibri\",sans-serif;'><span style='font-size:12px;font-family:\"Calibri Light\",sans-serif;color:black;'>PLZ8_GBZ</span></p>\n",
    "            </td>\n",
    "            <td style=\"border-top:none;border-left:none;border-bottom:solid windowtext 1.0pt;border-right:solid windowtext 1.0pt;padding:0in 5.4pt 0in 5.4pt;height:14.5pt;\">\n",
    "                <p style='margin-top:0in;margin-right:0in;margin-bottom:.0001pt;margin-left:0in;line-height:  normal;font-size:15px;font-family:\"Calibri\",sans-serif;'><span style='font-size:12px;font-family:\"Calibri Light\",sans-serif;color:black;'>0.254183</span></p>\n",
    "            </td>\n",
    "            <td style=\"border-top:none;border-left:none;border-bottom:solid windowtext 1.0pt;border-right:solid windowtext 1.0pt;padding:0in 5.4pt 0in 5.4pt;height:14.5pt;\">\n",
    "                <p style='margin-top:0in;margin-right:0in;margin-bottom:.0001pt;margin-left:0in;line-height:  normal;font-size:15px;font-family:\"Calibri\",sans-serif;'><span style='font-size:12px;font-family:\"Calibri Light\",sans-serif;color:black;'>Number of buildings within the PLZ8 region</span></p>\n",
    "            </td>\n",
    "        </tr>\n",
    "        <tr>\n",
    "            <td style=\"border:solid windowtext 1.0pt;border-top:none;padding:0in 5.4pt 0in 5.4pt;height:14.5pt;\">\n",
    "                <p style='margin-top:0in;margin-right:0in;margin-bottom:.0001pt;margin-left:0in;line-height:  normal;font-size:15px;font-family:\"Calibri\",sans-serif;'><span style='font-size:12px;font-family:\"Calibri Light\",sans-serif;color:black;'>PLZ8_ANTG1</span></p>\n",
    "            </td>\n",
    "            <td style=\"border-top:none;border-left:none;border-bottom:solid windowtext 1.0pt;border-right:solid windowtext 1.0pt;padding:0in 5.4pt 0in 5.4pt;height:14.5pt;\">\n",
    "                <p style='margin-top:0in;margin-right:0in;margin-bottom:.0001pt;margin-left:0in;line-height:  normal;font-size:15px;font-family:\"Calibri\",sans-serif;'><span style='font-size:12px;font-family:\"Calibri Light\",sans-serif;color:black;'>0.253758</span></p>\n",
    "            </td>\n",
    "            <td style=\"border-top:none;border-left:none;border-bottom:solid windowtext 1.0pt;border-right:solid windowtext 1.0pt;padding:0in 5.4pt 0in 5.4pt;height:14.5pt;\">\n",
    "                <p style='margin-top:0in;margin-right:0in;margin-bottom:.0001pt;margin-left:0in;line-height:  normal;font-size:15px;font-family:\"Calibri\",sans-serif;'><span style='font-size:12px;font-family:\"Calibri Light\",sans-serif;color:black;'>Number of 1-2 family houses in the PLZ8 region</span></p>\n",
    "            </td>\n",
    "        </tr>\n",
    "        <tr>\n",
    "            <td style=\"border:solid windowtext 1.0pt;border-top:none;padding:0in 5.4pt 0in 5.4pt;height:14.5pt;\">\n",
    "                <p style='margin-top:0in;margin-right:0in;margin-bottom:.0001pt;margin-left:0in;line-height:  normal;font-size:15px;font-family:\"Calibri\",sans-serif;'><span style='font-size:12px;font-family:\"Calibri Light\",sans-serif;color:black;'>PLZ8_HHZ</span></p>\n",
    "            </td>\n",
    "            <td style=\"border-top:none;border-left:none;border-bottom:solid windowtext 1.0pt;border-right:solid windowtext 1.0pt;padding:0in 5.4pt 0in 5.4pt;height:14.5pt;\">\n",
    "                <p style='margin-top:0in;margin-right:0in;margin-bottom:.0001pt;margin-left:0in;line-height:  normal;font-size:15px;font-family:\"Calibri\",sans-serif;'><span style='font-size:12px;font-family:\"Calibri Light\",sans-serif;color:black;'>0.249436</span></p>\n",
    "            </td>\n",
    "            <td style=\"border-top:none;border-left:none;border-bottom:solid windowtext 1.0pt;border-right:solid windowtext 1.0pt;padding:0in 5.4pt 0in 5.4pt;height:14.5pt;\">\n",
    "                <p style='margin-top:0in;margin-right:0in;margin-bottom:.0001pt;margin-left:0in;line-height:  normal;font-size:15px;font-family:\"Calibri\",sans-serif;'><span style='font-size:12px;font-family:\"Calibri Light\",sans-serif;color:black;'>Number of households within the PLZ8 region</span></p>\n",
    "            </td>\n",
    "        </tr>\n",
    "        <tr>\n",
    "            <td style=\"border:solid windowtext 1.0pt;border-top:none;padding:0in 5.4pt 0in 5.4pt;height:14.5pt;\">\n",
    "                <p style='margin-top:0in;margin-right:0in;margin-bottom:.0001pt;margin-left:0in;line-height:  normal;font-size:15px;font-family:\"Calibri\",sans-serif;'><span style='font-size:12px;font-family:\"Calibri Light\",sans-serif;color:black;'>PLZ8_ANTG4</span></p>\n",
    "            </td>\n",
    "            <td style=\"border-top:none;border-left:none;border-bottom:solid windowtext 1.0pt;border-right:solid windowtext 1.0pt;padding:0in 5.4pt 0in 5.4pt;height:14.5pt;\">\n",
    "                <p style='margin-top:0in;margin-right:0in;margin-bottom:.0001pt;margin-left:0in;line-height:  normal;font-size:15px;font-family:\"Calibri\",sans-serif;'><span style='font-size:12px;font-family:\"Calibri Light\",sans-serif;color:black;'>0.246309</span></p>\n",
    "            </td>\n",
    "            <td style=\"border-top:none;border-left:none;border-bottom:solid windowtext 1.0pt;border-right:solid windowtext 1.0pt;padding:0in 5.4pt 0in 5.4pt;height:14.5pt;\">\n",
    "                <p style='margin-top:0in;margin-right:0in;margin-bottom:.0001pt;margin-left:0in;line-height:  normal;font-size:15px;font-family:\"Calibri\",sans-serif;'><span style='font-size:12px;font-family:\"Calibri Light\",sans-serif;color:black;'>Number of 10+ family houses in the PLZ8 region</span></p>\n",
    "            </td>\n",
    "        </tr>\n",
    "        <tr>\n",
    "            <td style=\"border:solid windowtext 1.0pt;border-top:none;padding:0in 5.4pt 0in 5.4pt;height:14.5pt;\">\n",
    "                <p style='margin-top:0in;margin-right:0in;margin-bottom:.0001pt;margin-left:0in;line-height:  normal;font-size:15px;font-family:\"Calibri\",sans-serif;'><span style='font-size:12px;font-family:\"Calibri Light\",sans-serif;color:black;'>PLZ8_ANTG2</span></p>\n",
    "            </td>\n",
    "            <td style=\"border-top:none;border-left:none;border-bottom:solid windowtext 1.0pt;border-right:solid windowtext 1.0pt;padding:0in 5.4pt 0in 5.4pt;height:14.5pt;\">\n",
    "                <p style='margin-top:0in;margin-right:0in;margin-bottom:.0001pt;margin-left:0in;line-height:  normal;font-size:15px;font-family:\"Calibri\",sans-serif;'><span style='font-size:12px;font-family:\"Calibri Light\",sans-serif;color:black;'>0.245935</span></p>\n",
    "            </td>\n",
    "            <td style=\"border-top:none;border-left:none;border-bottom:solid windowtext 1.0pt;border-right:solid windowtext 1.0pt;padding:0in 5.4pt 0in 5.4pt;height:14.5pt;\">\n",
    "                <p style='margin-top:0in;margin-right:0in;margin-bottom:.0001pt;margin-left:0in;line-height:  normal;font-size:15px;font-family:\"Calibri\",sans-serif;'><span style='font-size:12px;font-family:\"Calibri Light\",sans-serif;color:black;'>Number of 3-5 family houses in the PLZ8 region</span></p>\n",
    "            </td>\n",
    "        </tr>\n",
    "        <tr>\n",
    "            <td style=\"border:solid windowtext 1.0pt;border-top:none;padding:0in 5.4pt 0in 5.4pt;height:14.5pt;\">\n",
    "                <p style='margin-top:0in;margin-right:0in;margin-bottom:.0001pt;margin-left:0in;line-height:  normal;font-size:15px;font-family:\"Calibri\",sans-serif;'><span style='font-size:12px;font-family:\"Calibri Light\",sans-serif;color:black;'>MIN_GEBAEUDEJAHR</span></p>\n",
    "            </td>\n",
    "            <td style=\"border-top:none;border-left:none;border-bottom:solid windowtext 1.0pt;border-right:solid windowtext 1.0pt;padding:0in 5.4pt 0in 5.4pt;height:14.5pt;\">\n",
    "                <p style='margin-top:0in;margin-right:0in;margin-bottom:.0001pt;margin-left:0in;line-height:  normal;font-size:15px;font-family:\"Calibri\",sans-serif;'><span style='font-size:12px;font-family:\"Calibri Light\",sans-serif;color:black;'>0.245502</span></p>\n",
    "            </td>\n",
    "            <td style=\"border-top:none;border-left:none;border-bottom:solid windowtext 1.0pt;border-right:solid windowtext 1.0pt;padding:0in 5.4pt 0in 5.4pt;height:14.5pt;\">\n",
    "                <p style='margin-top:0in;margin-right:0in;margin-bottom:.0001pt;margin-left:0in;line-height:  normal;font-size:15px;font-family:\"Calibri\",sans-serif;'><span style='font-size:12px;font-family:\"Calibri Light\",sans-serif;color:black;'>First year building&nbsp;</span></p>\n",
    "            </td>\n",
    "        </tr>\n",
    "        <tr>\n",
    "            <td style=\"border:solid windowtext 1.0pt;border-top:none;padding:0in 5.4pt 0in 5.4pt;height:14.5pt;\">\n",
    "                <p style='margin-top:0in;margin-right:0in;margin-bottom:.0001pt;margin-left:0in;line-height:  normal;font-size:15px;font-family:\"Calibri\",sans-serif;'><span style='font-size:12px;font-family:\"Calibri Light\",sans-serif;color:black;'>PLZ8_ANTG3</span></p>\n",
    "            </td>\n",
    "            <td style=\"border-top:none;border-left:none;border-bottom:solid windowtext 1.0pt;border-right:solid windowtext 1.0pt;padding:0in 5.4pt 0in 5.4pt;height:14.5pt;\">\n",
    "                <p style='margin-top:0in;margin-right:0in;margin-bottom:.0001pt;margin-left:0in;line-height:  normal;font-size:15px;font-family:\"Calibri\",sans-serif;'><span style='font-size:12px;font-family:\"Calibri Light\",sans-serif;color:black;'>0.243994</span></p>\n",
    "            </td>\n",
    "            <td style=\"border-top:none;border-left:none;border-bottom:solid windowtext 1.0pt;border-right:solid windowtext 1.0pt;padding:0in 5.4pt 0in 5.4pt;height:14.5pt;\">\n",
    "                <p style='margin-top:0in;margin-right:0in;margin-bottom:.0001pt;margin-left:0in;line-height:  normal;font-size:15px;font-family:\"Calibri\",sans-serif;'><span style='font-size:12px;font-family:\"Calibri Light\",sans-serif;color:black;'>Number of 6-10 family houses in the PLZ8 region</span></p>\n",
    "            </td>\n",
    "        </tr>\n",
    "    </tbody>\n",
    "</table>\n",
    "<p style='margin-top:0in;margin-right:24.0pt;margin-bottom:.0001pt;margin-left:0in;line-height:15.0pt;font-size:15px;font-family:\"Calibri\",sans-serif;background:white;'><span style='font-size:12px;font-family:\"Calibri Light\",sans-serif;color:black;'>&nbsp;</span></p>\n",
    "<p style='margin-top:0in;margin-right:24.0pt;margin-bottom:.0001pt;margin-left:0in;line-height:15.0pt;font-size:15px;font-family:\"Calibri\",sans-serif;background:white;'><span style='font-size:12px;font-family:\"Calibri Light\",sans-serif;color:black;'>Summary : In 1st PCA is associated with positive weights which depicts size of family, there movement patterns, and size of &nbsp;people living in PLZ8 region &nbsp;</span></p>\n",
    "<p style='margin-top:0in;margin-right:24.0pt;margin-bottom:.0001pt;margin-left:24.0pt;line-height:15.0pt;font-size:15px;font-family:\"Calibri\",sans-serif;background:white;'><span style='font-size:12px;font-family:\"Calibri Light\",sans-serif;color:black;'>&nbsp;</span></p>\n",
    "<p style='margin-top:0in;margin-right:24.0pt;margin-bottom:.0001pt;margin-left:0in;line-height:15.0pt;font-size:15px;font-family:\"Calibri\",sans-serif;background:white;'><span style='font-size:12px;font-family:\"Calibri Light\",sans-serif;color:black;'>2. Most weighted features for the Second principle component<br>&nbsp;&nbsp;</span></p>\n",
    "<table style=\"border: none;margin-left:-.25pt;border-collapse:collapse;\">\n",
    "    <tbody>\n",
    "        <tr>\n",
    "            <td style=\"border:solid windowtext 1.0pt;padding:0in 5.4pt 0in 5.4pt;height:14.5pt;\">\n",
    "                <p style='margin-top:0in;margin-right:0in;margin-bottom:.0001pt;margin-left:0in;line-height:  normal;font-size:15px;font-family:\"Calibri\",sans-serif;'><span style='font-size:12px;font-family:\"Calibri Light\",sans-serif;color:black;'>SEMIO_REL</span></p>\n",
    "            </td>\n",
    "            <td style=\"border:solid windowtext 1.0pt;border-left:none;padding:0in 5.4pt 0in 5.4pt;height:14.5pt;\">\n",
    "                <p style='margin-top:0in;margin-right:0in;margin-bottom:.0001pt;margin-left:0in;line-height:  normal;font-size:15px;font-family:\"Calibri\",sans-serif;'><span style='font-size:12px;font-family:\"Calibri Light\",sans-serif;color:black;'>0.318513</span></p>\n",
    "            </td>\n",
    "            <td style=\"border:solid windowtext 1.0pt;border-left:none;padding:0in 5.4pt 0in 5.4pt;height:14.5pt;\">\n",
    "                <p style='margin-top:0in;margin-right:0in;margin-bottom:.0001pt;margin-left:0in;line-height:  normal;font-size:15px;font-family:\"Calibri\",sans-serif;'><span style='font-size:12px;font-family:\"Calibri Light\",sans-serif;color:black;'>Personality typology</span></p>\n",
    "            </td>\n",
    "        </tr>\n",
    "        <tr>\n",
    "            <td style=\"border:solid windowtext 1.0pt;border-top:none;padding:0in 5.4pt 0in 5.4pt;height:14.5pt;\">\n",
    "                <p style='margin-top:0in;margin-right:0in;margin-bottom:.0001pt;margin-left:0in;line-height:  normal;font-size:15px;font-family:\"Calibri\",sans-serif;'><span style='font-size:12px;font-family:\"Calibri Light\",sans-serif;color:black;'>SEMIO_KULT</span></p>\n",
    "            </td>\n",
    "            <td style=\"border-top:none;border-left:none;border-bottom:solid windowtext 1.0pt;border-right:solid windowtext 1.0pt;padding:0in 5.4pt 0in 5.4pt;height:14.5pt;\">\n",
    "                <p style='margin-top:0in;margin-right:0in;margin-bottom:.0001pt;margin-left:0in;line-height:  normal;font-size:15px;font-family:\"Calibri\",sans-serif;'><span style='font-size:12px;font-family:\"Calibri Light\",sans-serif;color:black;'>0.288547</span></p>\n",
    "            </td>\n",
    "            <td style=\"border-top:none;border-left:none;border-bottom:solid windowtext 1.0pt;border-right:solid windowtext 1.0pt;padding:0in 5.4pt 0in 5.4pt;height:14.5pt;\">\n",
    "                <p style='margin-top:0in;margin-right:0in;margin-bottom:.0001pt;margin-left:0in;line-height:  normal;font-size:15px;font-family:\"Calibri\",sans-serif;'><span style='font-size:12px;font-family:\"Calibri Light\",sans-serif;color:black;'>Personality typology</span></p>\n",
    "            </td>\n",
    "        </tr>\n",
    "        <tr>\n",
    "            <td style=\"border:solid windowtext 1.0pt;border-top:none;padding:0in 5.4pt 0in 5.4pt;height:14.5pt;\">\n",
    "                <p style='margin-top:0in;margin-right:0in;margin-bottom:.0001pt;margin-left:0in;line-height:  normal;font-size:15px;font-family:\"Calibri\",sans-serif;'><span style='font-size:12px;font-family:\"Calibri Light\",sans-serif;color:black;'>FINANZ_SPARER</span></p>\n",
    "            </td>\n",
    "            <td style=\"border-top:none;border-left:none;border-bottom:solid windowtext 1.0pt;border-right:solid windowtext 1.0pt;padding:0in 5.4pt 0in 5.4pt;height:14.5pt;\">\n",
    "                <p style='margin-top:0in;margin-right:0in;margin-bottom:.0001pt;margin-left:0in;line-height:  normal;font-size:15px;font-family:\"Calibri\",sans-serif;'><span style='font-size:12px;font-family:\"Calibri Light\",sans-serif;color:black;'>0.277978</span></p>\n",
    "            </td>\n",
    "            <td style=\"border-top:none;border-left:none;border-bottom:solid windowtext 1.0pt;border-right:solid windowtext 1.0pt;padding:0in 5.4pt 0in 5.4pt;height:14.5pt;\">\n",
    "                <p style='margin-top:0in;margin-right:0in;margin-bottom:.0001pt;margin-left:0in;line-height:  normal;font-size:15px;font-family:\"Calibri\",sans-serif;'><span style='font-size:12px;font-family:\"Calibri Light\",sans-serif;color:black;'>Financial typology</span></p>\n",
    "            </td>\n",
    "        </tr>\n",
    "        <tr>\n",
    "            <td style=\"border:solid windowtext 1.0pt;border-top:none;padding:0in 5.4pt 0in 5.4pt;height:14.5pt;\">\n",
    "                <p style='margin-top:0in;margin-right:0in;margin-bottom:.0001pt;margin-left:0in;line-height:  normal;font-size:15px;font-family:\"Calibri\",sans-serif;'><span style='font-size:12px;font-family:\"Calibri Light\",sans-serif;color:black;'>SEMIO_PFLICHT</span></p>\n",
    "            </td>\n",
    "            <td style=\"border-top:none;border-left:none;border-bottom:solid windowtext 1.0pt;border-right:solid windowtext 1.0pt;padding:0in 5.4pt 0in 5.4pt;height:14.5pt;\">\n",
    "                <p style='margin-top:0in;margin-right:0in;margin-bottom:.0001pt;margin-left:0in;line-height:  normal;font-size:15px;font-family:\"Calibri\",sans-serif;'><span style='font-size:12px;font-family:\"Calibri Light\",sans-serif;color:black;'>0.265222</span></p>\n",
    "            </td>\n",
    "            <td style=\"border-top:none;border-left:none;border-bottom:solid windowtext 1.0pt;border-right:solid windowtext 1.0pt;padding:0in 5.4pt 0in 5.4pt;height:14.5pt;\">\n",
    "                <p style='margin-top:0in;margin-right:0in;margin-bottom:.0001pt;margin-left:0in;line-height:  normal;font-size:15px;font-family:\"Calibri\",sans-serif;'><span style='font-size:12px;font-family:\"Calibri Light\",sans-serif;color:black;'>Personality typology</span></p>\n",
    "            </td>\n",
    "        </tr>\n",
    "        <tr>\n",
    "            <td style=\"border:solid windowtext 1.0pt;border-top:none;padding:0in 5.4pt 0in 5.4pt;height:14.5pt;\">\n",
    "                <p style='margin-top:0in;margin-right:0in;margin-bottom:.0001pt;margin-left:0in;line-height:  normal;font-size:15px;font-family:\"Calibri\",sans-serif;'><span style='font-size:12px;font-family:\"Calibri Light\",sans-serif;color:black;'>SEMIO_FAM</span></p>\n",
    "            </td>\n",
    "            <td style=\"border-top:none;border-left:none;border-bottom:solid windowtext 1.0pt;border-right:solid windowtext 1.0pt;padding:0in 5.4pt 0in 5.4pt;height:14.5pt;\">\n",
    "                <p style='margin-top:0in;margin-right:0in;margin-bottom:.0001pt;margin-left:0in;line-height:  normal;font-size:15px;font-family:\"Calibri\",sans-serif;'><span style='font-size:12px;font-family:\"Calibri Light\",sans-serif;color:black;'>0.264179</span></p>\n",
    "            </td>\n",
    "            <td style=\"border-top:none;border-left:none;border-bottom:solid windowtext 1.0pt;border-right:solid windowtext 1.0pt;padding:0in 5.4pt 0in 5.4pt;height:14.5pt;\">\n",
    "                <p style='margin-top:0in;margin-right:0in;margin-bottom:.0001pt;margin-left:0in;line-height:  normal;font-size:15px;font-family:\"Calibri\",sans-serif;'><span style='font-size:12px;font-family:\"Calibri Light\",sans-serif;color:black;'>Personality typology</span></p>\n",
    "            </td>\n",
    "        </tr>\n",
    "        <tr>\n",
    "            <td style=\"border:solid windowtext 1.0pt;border-top:none;padding:0in 5.4pt 0in 5.4pt;height:14.5pt;\">\n",
    "                <p style='margin-top:0in;margin-right:0in;margin-bottom:.0001pt;margin-left:0in;line-height:  normal;font-size:15px;font-family:\"Calibri\",sans-serif;'><span style='font-size:12px;font-family:\"Calibri Light\",sans-serif;color:black;'>SEMIO_KRIT</span></p>\n",
    "            </td>\n",
    "            <td style=\"border-top:none;border-left:none;border-bottom:solid windowtext 1.0pt;border-right:solid windowtext 1.0pt;padding:0in 5.4pt 0in 5.4pt;height:14.5pt;\">\n",
    "                <p style='margin-top:0in;margin-right:0in;margin-bottom:.0001pt;margin-left:0in;line-height:  normal;font-size:15px;font-family:\"Calibri\",sans-serif;'><span style='font-size:12px;font-family:\"Calibri Light\",sans-serif;color:black;'>-0.156289</span></p>\n",
    "            </td>\n",
    "            <td style=\"border-top:none;border-left:none;border-bottom:solid windowtext 1.0pt;border-right:solid windowtext 1.0pt;padding:0in 5.4pt 0in 5.4pt;height:14.5pt;\">\n",
    "                <p style='margin-top:0in;margin-right:0in;margin-bottom:.0001pt;margin-left:0in;line-height:  normal;font-size:15px;font-family:\"Calibri\",sans-serif;'><span style='font-size:12px;font-family:\"Calibri Light\",sans-serif;color:black;'>Personality typology</span></p>\n",
    "            </td>\n",
    "        </tr>\n",
    "        <tr>\n",
    "            <td style=\"border:solid windowtext 1.0pt;border-top:none;padding:0in 5.4pt 0in 5.4pt;height:14.5pt;\">\n",
    "                <p style='margin-top:0in;margin-right:0in;margin-bottom:.0001pt;margin-left:0in;line-height:  normal;font-size:15px;font-family:\"Calibri\",sans-serif;'><span style='font-size:12px;font-family:\"Calibri Light\",sans-serif;color:black;'>FINANZ_MINIMALIST</span></p>\n",
    "            </td>\n",
    "            <td style=\"border-top:none;border-left:none;border-bottom:solid windowtext 1.0pt;border-right:solid windowtext 1.0pt;padding:0in 5.4pt 0in 5.4pt;height:14.5pt;\">\n",
    "                <p style='margin-top:0in;margin-right:0in;margin-bottom:.0001pt;margin-left:0in;line-height:  normal;font-size:15px;font-family:\"Calibri\",sans-serif;'><span style='font-size:12px;font-family:\"Calibri Light\",sans-serif;color:black;'>-0.166488</span></p>\n",
    "            </td>\n",
    "            <td style=\"border-top:none;border-left:none;border-bottom:solid windowtext 1.0pt;border-right:solid windowtext 1.0pt;padding:0in 5.4pt 0in 5.4pt;height:14.5pt;\">\n",
    "                <p style='margin-top:0in;margin-right:0in;margin-bottom:.0001pt;margin-left:0in;line-height:  normal;font-size:15px;font-family:\"Calibri\",sans-serif;'><span style='font-size:12px;font-family:\"Calibri Light\",sans-serif;color:black;'>Financial typology</span></p>\n",
    "            </td>\n",
    "        </tr>\n",
    "        <tr>\n",
    "            <td style=\"border:solid windowtext 1.0pt;border-top:none;padding:0in 5.4pt 0in 5.4pt;height:14.5pt;\">\n",
    "                <p style='margin-top:0in;margin-right:0in;margin-bottom:.0001pt;margin-left:0in;line-height:  normal;font-size:15px;font-family:\"Calibri\",sans-serif;'><span style='font-size:12px;font-family:\"Calibri Light\",sans-serif;color:black;'>SEMIO_LUST</span></p>\n",
    "            </td>\n",
    "            <td style=\"border-top:none;border-left:none;border-bottom:solid windowtext 1.0pt;border-right:solid windowtext 1.0pt;padding:0in 5.4pt 0in 5.4pt;height:14.5pt;\">\n",
    "                <p style='margin-top:0in;margin-right:0in;margin-bottom:.0001pt;margin-left:0in;line-height:  normal;font-size:15px;font-family:\"Calibri\",sans-serif;'><span style='font-size:12px;font-family:\"Calibri Light\",sans-serif;color:black;'>-0.181543</span></p>\n",
    "            </td>\n",
    "            <td style=\"border-top:none;border-left:none;border-bottom:solid windowtext 1.0pt;border-right:solid windowtext 1.0pt;padding:0in 5.4pt 0in 5.4pt;height:14.5pt;\">\n",
    "                <p style='margin-top:0in;margin-right:0in;margin-bottom:.0001pt;margin-left:0in;line-height:  normal;font-size:15px;font-family:\"Calibri\",sans-serif;'><span style='font-size:12px;font-family:\"Calibri Light\",sans-serif;color:black;'>Personality typology</span></p>\n",
    "            </td>\n",
    "        </tr>\n",
    "        <tr>\n",
    "            <td style=\"border:solid windowtext 1.0pt;border-top:none;padding:0in 5.4pt 0in 5.4pt;height:14.5pt;\">\n",
    "                <p style='margin-top:0in;margin-right:0in;margin-bottom:.0001pt;margin-left:0in;line-height:  normal;font-size:15px;font-family:\"Calibri\",sans-serif;'><span style='font-size:12px;font-family:\"Calibri Light\",sans-serif;color:black;'>FINANZ_VORSORGER</span></p>\n",
    "            </td>\n",
    "            <td style=\"border-top:none;border-left:none;border-bottom:solid windowtext 1.0pt;border-right:solid windowtext 1.0pt;padding:0in 5.4pt 0in 5.4pt;height:14.5pt;\">\n",
    "                <p style='margin-top:0in;margin-right:0in;margin-bottom:.0001pt;margin-left:0in;line-height:  normal;font-size:15px;font-family:\"Calibri\",sans-serif;'><span style='font-size:12px;font-family:\"Calibri Light\",sans-serif;color:black;'>-0.253797</span></p>\n",
    "            </td>\n",
    "            <td style=\"border-top:none;border-left:none;border-bottom:solid windowtext 1.0pt;border-right:solid windowtext 1.0pt;padding:0in 5.4pt 0in 5.4pt;height:14.5pt;\">\n",
    "                <p style='margin-top:0in;margin-right:0in;margin-bottom:.0001pt;margin-left:0in;line-height:  normal;font-size:15px;font-family:\"Calibri\",sans-serif;'><span style='font-size:12px;font-family:\"Calibri Light\",sans-serif;color:black;'>Financial typology</span></p>\n",
    "            </td>\n",
    "        </tr>\n",
    "        <tr>\n",
    "            <td style=\"border:solid windowtext 1.0pt;border-top:none;padding:0in 5.4pt 0in 5.4pt;height:14.5pt;\">\n",
    "                <p style='margin-top:0in;margin-right:0in;margin-bottom:.0001pt;margin-left:0in;line-height:  normal;font-size:15px;font-family:\"Calibri\",sans-serif;'><span style='font-size:12px;font-family:\"Calibri Light\",sans-serif;color:black;'>SEMIO_ERL</span></p>\n",
    "            </td>\n",
    "            <td style=\"border-top:none;border-left:none;border-bottom:solid windowtext 1.0pt;border-right:solid windowtext 1.0pt;padding:0in 5.4pt 0in 5.4pt;height:14.5pt;\">\n",
    "                <p style='margin-top:0in;margin-right:0in;margin-bottom:.0001pt;margin-left:0in;line-height:  normal;font-size:15px;font-family:\"Calibri\",sans-serif;'><span style='font-size:12px;font-family:\"Calibri Light\",sans-serif;color:black;'>-0.284461</span></p>\n",
    "            </td>\n",
    "            <td style=\"border-top:none;border-left:none;border-bottom:solid windowtext 1.0pt;border-right:solid windowtext 1.0pt;padding:0in 5.4pt 0in 5.4pt;height:14.5pt;\">\n",
    "                <p style='margin-top:0in;margin-right:0in;margin-bottom:.0001pt;margin-left:0in;line-height:  normal;font-size:15px;font-family:\"Calibri\",sans-serif;'><span style='font-size:12px;font-family:\"Calibri Light\",sans-serif;color:black;'>Personality typology</span></p>\n",
    "            </td>\n",
    "        </tr>\n",
    "    </tbody>\n",
    "</table>\n",
    "<p style='margin-top:0in;margin-right:24.0pt;margin-bottom:.0001pt;margin-left:0in;line-height:15.0pt;font-size:15px;font-family:\"Calibri\",sans-serif;background:white;'><span style='font-size:12px;font-family:\"Calibri Light\",sans-serif;color:black;'>&nbsp;</span></p>\n",
    "<p style='margin-top:0in;margin-right:24.0pt;margin-bottom:.0001pt;margin-left:0in;line-height:15.0pt;font-size:15px;font-family:\"Calibri\",sans-serif;background:white;'><span style='font-size:12px;font-family:\"Calibri Light\",sans-serif;color:black;'>&nbsp;</span></p>\n",
    "<p style='margin-top:0in;margin-right:24.0pt;margin-bottom:.0001pt;margin-left:0in;line-height:15.0pt;font-size:15px;font-family:\"Calibri\",sans-serif;background:white;'><span style='font-size:12px;font-family:\"Calibri Light\",sans-serif;color:black;'>Summary: 2<sup>nd</sup> PCA <span style=\"background:white;\">weights items related to people people with personality and financial</span> type</span></p>\n",
    "<p style='margin-top:0in;margin-right:24.0pt;margin-bottom:.0001pt;margin-left:0in;line-height:15.0pt;font-size:15px;font-family:\"Calibri\",sans-serif;background:white;'><span style='font-size:12px;font-family:\"Calibri Light\",sans-serif;color:black;'>&nbsp;</span></p>\n",
    "<p style='margin-top:0in;margin-right:24.0pt;margin-bottom:.0001pt;margin-left:0in;line-height:15.0pt;font-size:15px;font-family:\"Calibri\",sans-serif;background:white;'><span style='font-size:12px;font-family:\"Calibri Light\",sans-serif;color:black;'>&nbsp;</span></p>\n",
    "<p style='margin-top:0in;margin-right:24.0pt;margin-bottom:.0001pt;margin-left:0in;line-height:15.0pt;font-size:15px;font-family:\"Calibri\",sans-serif;background:white;'><span style='font-size:12px;font-family:\"Calibri Light\",sans-serif;color:black;'>3. Most weighted features for the third principle component</span></p>\n",
    "<p style='margin-top:0in;margin-right:24.0pt;margin-bottom:.0001pt;margin-left:24.0pt;line-height:15.0pt;font-size:15px;font-family:\"Calibri\",sans-serif;background:white;'><span style='font-size:12px;font-family:\"Calibri Light\",sans-serif;color:black;'>&nbsp;</span></p>\n",
    "<table style=\"border: none;margin-left:-.25pt;border-collapse:collapse;\">\n",
    "    <tbody>\n",
    "        <tr>\n",
    "            <td style=\"border:solid windowtext 1.0pt;padding:0in 5.4pt 0in 5.4pt;height:14.5pt;\">\n",
    "                <p style='margin-top:0in;margin-right:0in;margin-bottom:.0001pt;margin-left:0in;line-height:  normal;font-size:15px;font-family:\"Calibri\",sans-serif;'><span style='font-size:12px;font-family:\"Calibri Light\",sans-serif;color:black;'>ANREDE_KZ</span></p>\n",
    "            </td>\n",
    "            <td style=\"border:solid windowtext 1.0pt;border-left:none;padding:0in 5.4pt 0in 5.4pt;height:14.5pt;\">\n",
    "                <p style='margin-top:0in;margin-right:0in;margin-bottom:.0001pt;margin-left:0in;line-height:  normal;font-size:15px;font-family:\"Calibri\",sans-serif;'><span style='font-size:12px;font-family:\"Calibri Light\",sans-serif;color:black;'>0.33006</span></p>\n",
    "            </td>\n",
    "            <td style=\"border:solid windowtext 1.0pt;border-left:none;padding:0in 5.4pt 0in 5.4pt;height:14.5pt;\">\n",
    "                <p style='margin-top:0in;margin-right:0in;margin-bottom:.0001pt;margin-left:0in;line-height:  normal;font-size:15px;font-family:\"Calibri\",sans-serif;'><span style='font-size:12px;font-family:\"Calibri Light\",sans-serif;color:black;'>Purchasing power in region</span></p>\n",
    "            </td>\n",
    "        </tr>\n",
    "        <tr>\n",
    "            <td style=\"border:solid windowtext 1.0pt;border-top:none;padding:0in 5.4pt 0in 5.4pt;height:14.5pt;\">\n",
    "                <p style='margin-top:0in;margin-right:0in;margin-bottom:.0001pt;margin-left:0in;line-height:  normal;font-size:15px;font-family:\"Calibri\",sans-serif;'><span style='font-size:12px;font-family:\"Calibri Light\",sans-serif;color:black;'>SEMIO_KAEM</span></p>\n",
    "            </td>\n",
    "            <td style=\"border-top:none;border-left:none;border-bottom:solid windowtext 1.0pt;border-right:solid windowtext 1.0pt;padding:0in 5.4pt 0in 5.4pt;height:14.5pt;\">\n",
    "                <p style='margin-top:0in;margin-right:0in;margin-bottom:.0001pt;margin-left:0in;line-height:  normal;font-size:15px;font-family:\"Calibri\",sans-serif;'><span style='font-size:12px;font-family:\"Calibri Light\",sans-serif;color:black;'>0.319788</span></p>\n",
    "            </td>\n",
    "            <td style=\"border-top:none;border-left:none;border-bottom:solid windowtext 1.0pt;border-right:solid windowtext 1.0pt;padding:0in 5.4pt 0in 5.4pt;height:14.5pt;\">\n",
    "                <p style='margin-top:0in;margin-right:0in;margin-bottom:.0001pt;margin-left:0in;line-height:  normal;font-size:15px;font-family:\"Calibri\",sans-serif;'><span style='font-size:12px;font-family:\"Calibri Light\",sans-serif;color:black;'>Personality typology</span></p>\n",
    "            </td>\n",
    "        </tr>\n",
    "        <tr>\n",
    "            <td style=\"border:solid windowtext 1.0pt;border-top:none;padding:0in 5.4pt 0in 5.4pt;height:14.5pt;\">\n",
    "                <p style='margin-top:0in;margin-right:0in;margin-bottom:.0001pt;margin-left:0in;line-height:  normal;font-size:15px;font-family:\"Calibri\",sans-serif;'><span style='font-size:12px;font-family:\"Calibri Light\",sans-serif;color:black;'>SEMIO_DOM</span></p>\n",
    "            </td>\n",
    "            <td style=\"border-top:none;border-left:none;border-bottom:solid windowtext 1.0pt;border-right:solid windowtext 1.0pt;padding:0in 5.4pt 0in 5.4pt;height:14.5pt;\">\n",
    "                <p style='margin-top:0in;margin-right:0in;margin-bottom:.0001pt;margin-left:0in;line-height:  normal;font-size:15px;font-family:\"Calibri\",sans-serif;'><span style='font-size:12px;font-family:\"Calibri Light\",sans-serif;color:black;'>0.284557</span></p>\n",
    "            </td>\n",
    "            <td style=\"border-top:none;border-left:none;border-bottom:solid windowtext 1.0pt;border-right:solid windowtext 1.0pt;padding:0in 5.4pt 0in 5.4pt;height:14.5pt;\">\n",
    "                <p style='margin-top:0in;margin-right:0in;margin-bottom:.0001pt;margin-left:0in;line-height:  normal;font-size:15px;font-family:\"Calibri\",sans-serif;'><span style='font-size:12px;font-family:\"Calibri Light\",sans-serif;color:black;'>Personality typology</span></p>\n",
    "            </td>\n",
    "        </tr>\n",
    "        <tr>\n",
    "            <td style=\"border:solid windowtext 1.0pt;border-top:none;padding:0in 5.4pt 0in 5.4pt;height:14.5pt;\">\n",
    "                <p style='margin-top:0in;margin-right:0in;margin-bottom:.0001pt;margin-left:0in;line-height:  normal;font-size:15px;font-family:\"Calibri\",sans-serif;'><span style='font-size:12px;font-family:\"Calibri Light\",sans-serif;color:black;'>SEMIO_KRIT</span></p>\n",
    "            </td>\n",
    "            <td style=\"border-top:none;border-left:none;border-bottom:solid windowtext 1.0pt;border-right:solid windowtext 1.0pt;padding:0in 5.4pt 0in 5.4pt;height:14.5pt;\">\n",
    "                <p style='margin-top:0in;margin-right:0in;margin-bottom:.0001pt;margin-left:0in;line-height:  normal;font-size:15px;font-family:\"Calibri\",sans-serif;'><span style='font-size:12px;font-family:\"Calibri Light\",sans-serif;color:black;'>0.250601</span></p>\n",
    "            </td>\n",
    "            <td style=\"border-top:none;border-left:none;border-bottom:solid windowtext 1.0pt;border-right:solid windowtext 1.0pt;padding:0in 5.4pt 0in 5.4pt;height:14.5pt;\">\n",
    "                <p style='margin-top:0in;margin-right:0in;margin-bottom:.0001pt;margin-left:0in;line-height:  normal;font-size:15px;font-family:\"Calibri\",sans-serif;'><span style='font-size:12px;font-family:\"Calibri Light\",sans-serif;color:black;'>Personality typology</span></p>\n",
    "            </td>\n",
    "        </tr>\n",
    "        <tr>\n",
    "            <td style=\"border:solid windowtext 1.0pt;border-top:none;padding:0in 5.4pt 0in 5.4pt;height:14.5pt;\">\n",
    "                <p style='margin-top:0in;margin-right:0in;margin-bottom:.0001pt;margin-left:0in;line-height:  normal;font-size:15px;font-family:\"Calibri\",sans-serif;'><span style='font-size:12px;font-family:\"Calibri Light\",sans-serif;color:black;'>SEMIO_RAT</span></p>\n",
    "            </td>\n",
    "            <td style=\"border-top:none;border-left:none;border-bottom:solid windowtext 1.0pt;border-right:solid windowtext 1.0pt;padding:0in 5.4pt 0in 5.4pt;height:14.5pt;\">\n",
    "                <p style='margin-top:0in;margin-right:0in;margin-bottom:.0001pt;margin-left:0in;line-height:  normal;font-size:15px;font-family:\"Calibri\",sans-serif;'><span style='font-size:12px;font-family:\"Calibri Light\",sans-serif;color:black;'>0.236926</span></p>\n",
    "            </td>\n",
    "            <td style=\"border-top:none;border-left:none;border-bottom:solid windowtext 1.0pt;border-right:solid windowtext 1.0pt;padding:0in 5.4pt 0in 5.4pt;height:14.5pt;\">\n",
    "                <p style='margin-top:0in;margin-right:0in;margin-bottom:.0001pt;margin-left:0in;line-height:  normal;font-size:15px;font-family:\"Calibri\",sans-serif;'><span style='font-size:12px;font-family:\"Calibri Light\",sans-serif;color:black;'>Personality typology</span></p>\n",
    "            </td>\n",
    "        </tr>\n",
    "        <tr>\n",
    "            <td style=\"border:solid windowtext 1.0pt;border-top:none;padding:0in 5.4pt 0in 5.4pt;height:14.5pt;\">\n",
    "                <p style='margin-top:0in;margin-right:0in;margin-bottom:.0001pt;margin-left:0in;line-height:  normal;font-size:15px;font-family:\"Calibri\",sans-serif;'><span style='font-size:12px;font-family:\"Calibri Light\",sans-serif;color:black;'>SEMIO_FAM</span></p>\n",
    "            </td>\n",
    "            <td style=\"border-top:none;border-left:none;border-bottom:solid windowtext 1.0pt;border-right:solid windowtext 1.0pt;padding:0in 5.4pt 0in 5.4pt;height:14.5pt;\">\n",
    "                <p style='margin-top:0in;margin-right:0in;margin-bottom:.0001pt;margin-left:0in;line-height:  normal;font-size:15px;font-family:\"Calibri\",sans-serif;'><span style='font-size:12px;font-family:\"Calibri Light\",sans-serif;color:black;'>-0.174022</span></p>\n",
    "            </td>\n",
    "            <td style=\"border-top:none;border-left:none;border-bottom:solid windowtext 1.0pt;border-right:solid windowtext 1.0pt;padding:0in 5.4pt 0in 5.4pt;height:14.5pt;\">\n",
    "                <p style='margin-top:0in;margin-right:0in;margin-bottom:.0001pt;margin-left:0in;line-height:  normal;font-size:15px;font-family:\"Calibri\",sans-serif;'><span style='font-size:12px;font-family:\"Calibri Light\",sans-serif;color:black;'>Personality typology</span></p>\n",
    "            </td>\n",
    "        </tr>\n",
    "        <tr>\n",
    "            <td style=\"border:solid windowtext 1.0pt;border-top:none;padding:0in 5.4pt 0in 5.4pt;height:14.5pt;\">\n",
    "                <p style='margin-top:0in;margin-right:0in;margin-bottom:.0001pt;margin-left:0in;line-height:  normal;font-size:15px;font-family:\"Calibri\",sans-serif;'><span style='font-size:12px;font-family:\"Calibri Light\",sans-serif;color:black;'>SEMIO_KULT</span></p>\n",
    "            </td>\n",
    "            <td style=\"border-top:none;border-left:none;border-bottom:solid windowtext 1.0pt;border-right:solid windowtext 1.0pt;padding:0in 5.4pt 0in 5.4pt;height:14.5pt;\">\n",
    "                <p style='margin-top:0in;margin-right:0in;margin-bottom:.0001pt;margin-left:0in;line-height:  normal;font-size:15px;font-family:\"Calibri\",sans-serif;'><span style='font-size:12px;font-family:\"Calibri Light\",sans-serif;color:black;'>-0.175288</span></p>\n",
    "            </td>\n",
    "            <td style=\"border-top:none;border-left:none;border-bottom:solid windowtext 1.0pt;border-right:solid windowtext 1.0pt;padding:0in 5.4pt 0in 5.4pt;height:14.5pt;\">\n",
    "                <p style='margin-top:0in;margin-right:0in;margin-bottom:.0001pt;margin-left:0in;line-height:  normal;font-size:15px;font-family:\"Calibri\",sans-serif;'><span style='font-size:12px;font-family:\"Calibri Light\",sans-serif;color:black;'>Personality typology</span></p>\n",
    "            </td>\n",
    "        </tr>\n",
    "        <tr>\n",
    "            <td style=\"border:solid windowtext 1.0pt;border-top:none;padding:0in 5.4pt 0in 5.4pt;height:14.5pt;\">\n",
    "                <p style='margin-top:0in;margin-right:0in;margin-bottom:.0001pt;margin-left:0in;line-height:  normal;font-size:15px;font-family:\"Calibri\",sans-serif;'><span style='font-size:12px;font-family:\"Calibri Light\",sans-serif;color:black;'>SEMIO_SOZ</span></p>\n",
    "            </td>\n",
    "            <td style=\"border-top:none;border-left:none;border-bottom:solid windowtext 1.0pt;border-right:solid windowtext 1.0pt;padding:0in 5.4pt 0in 5.4pt;height:14.5pt;\">\n",
    "                <p style='margin-top:0in;margin-right:0in;margin-bottom:.0001pt;margin-left:0in;line-height:  normal;font-size:15px;font-family:\"Calibri\",sans-serif;'><span style='font-size:12px;font-family:\"Calibri Light\",sans-serif;color:black;'>-0.214573</span></p>\n",
    "            </td>\n",
    "            <td style=\"border-top:none;border-left:none;border-bottom:solid windowtext 1.0pt;border-right:solid windowtext 1.0pt;padding:0in 5.4pt 0in 5.4pt;height:14.5pt;\">\n",
    "                <p style='margin-top:0in;margin-right:0in;margin-bottom:.0001pt;margin-left:0in;line-height:  normal;font-size:15px;font-family:\"Calibri\",sans-serif;'><span style='font-size:12px;font-family:\"Calibri Light\",sans-serif;color:black;'>Personality typology</span></p>\n",
    "            </td>\n",
    "        </tr>\n",
    "        <tr>\n",
    "            <td style=\"border:solid windowtext 1.0pt;border-top:none;padding:0in 5.4pt 0in 5.4pt;height:14.5pt;\">\n",
    "                <p style='margin-top:0in;margin-right:0in;margin-bottom:.0001pt;margin-left:0in;line-height:  normal;font-size:15px;font-family:\"Calibri\",sans-serif;'><span style='font-size:12px;font-family:\"Calibri Light\",sans-serif;color:black;'>FINANZ_MINIMALIST</span></p>\n",
    "            </td>\n",
    "            <td style=\"border-top:none;border-left:none;border-bottom:solid windowtext 1.0pt;border-right:solid windowtext 1.0pt;padding:0in 5.4pt 0in 5.4pt;height:14.5pt;\">\n",
    "                <p style='margin-top:0in;margin-right:0in;margin-bottom:.0001pt;margin-left:0in;line-height:  normal;font-size:15px;font-family:\"Calibri\",sans-serif;'><span style='font-size:12px;font-family:\"Calibri Light\",sans-serif;color:black;'>-0.263161</span></p>\n",
    "            </td>\n",
    "            <td style=\"border-top:none;border-left:none;border-bottom:solid windowtext 1.0pt;border-right:solid windowtext 1.0pt;padding:0in 5.4pt 0in 5.4pt;height:14.5pt;\">\n",
    "                <p style='margin-top:0in;margin-right:0in;margin-bottom:.0001pt;margin-left:0in;line-height:  normal;font-size:15px;font-family:\"Calibri\",sans-serif;'><span style='font-size:12px;font-family:\"Calibri Light\",sans-serif;color:black;'>Financial typology</span></p>\n",
    "            </td>\n",
    "        </tr>\n",
    "        <tr>\n",
    "            <td style=\"border:solid windowtext 1.0pt;border-top:none;padding:0in 5.4pt 0in 5.4pt;height:14.5pt;\">\n",
    "                <p style='margin-top:0in;margin-right:0in;margin-bottom:.0001pt;margin-left:0in;line-height:  normal;font-size:15px;font-family:\"Calibri\",sans-serif;'><span style='font-size:12px;font-family:\"Calibri Light\",sans-serif;color:black;'>SEMIO_VERT</span></p>\n",
    "            </td>\n",
    "            <td style=\"border-top:none;border-left:none;border-bottom:solid windowtext 1.0pt;border-right:solid windowtext 1.0pt;padding:0in 5.4pt 0in 5.4pt;height:14.5pt;\">\n",
    "                <p style='margin-top:0in;margin-right:0in;margin-bottom:.0001pt;margin-left:0in;line-height:  normal;font-size:15px;font-family:\"Calibri\",sans-serif;'><span style='font-size:12px;font-family:\"Calibri Light\",sans-serif;color:black;'>-0.332266</span></p>\n",
    "            </td>\n",
    "            <td style=\"border-top:none;border-left:none;border-bottom:solid windowtext 1.0pt;border-right:solid windowtext 1.0pt;padding:0in 5.4pt 0in 5.4pt;height:14.5pt;\">\n",
    "                <p style='margin-top:0in;margin-right:0in;margin-bottom:.0001pt;margin-left:0in;line-height:  normal;font-size:15px;font-family:\"Calibri\",sans-serif;'><span style='font-size:12px;font-family:\"Calibri Light\",sans-serif;color:black;'>Personality typology</span></p>\n",
    "            </td>\n",
    "        </tr>\n",
    "    </tbody>\n",
    "</table>\n",
    "<p style='margin-top:0in;margin-right:0in;margin-bottom:8.0pt;margin-left:0in;line-height:107%;font-size:15px;font-family:\"Calibri\",sans-serif;'><span style='font-size:12px;line-height:107%;font-family:\"Calibri Light\",sans-serif;'>&nbsp;</span></p>\n",
    "<p style='margin-top:0in;margin-right:0in;margin-bottom:8.0pt;margin-left:0in;line-height:107%;font-size:15px;font-family:\"Calibri\",sans-serif;'><span style='font-size:12px;line-height:107%;font-family:\"Calibri Light\",sans-serif;color:black;'>Summary:&nbsp;</span><span style='font-size:12px;line-height:107%;font-family:\"Calibri Light\",sans-serif;'>This component has large positive and negative association with Personality typology, so this component primarily measures the Personality.</span></p>"
   ]
  },
  {
   "cell_type": "markdown",
   "metadata": {},
   "source": [
    "## Step 3: Clustering\n",
    "\n",
    "### Step 3.1: Apply Clustering to General Population\n",
    "\n",
    "You've assessed and cleaned the demographics data, then scaled and transformed them. Now, it's time to see how the data clusters in the principal components space. In this substep, you will apply k-means clustering to the dataset and use the average within-cluster distances from each point to their assigned cluster's centroid to decide on a number of clusters to keep.\n",
    "\n",
    "- Use sklearn's [KMeans](http://scikit-learn.org/stable/modules/generated/sklearn.cluster.KMeans.html#sklearn.cluster.KMeans) class to perform k-means clustering on the PCA-transformed data.\n",
    "- Then, compute the average difference from each point to its assigned cluster's center. **Hint**: The KMeans object's `.score()` method might be useful here, but note that in sklearn, scores tend to be defined so that larger is better. Try applying it to a small, toy dataset, or use an internet search to help your understanding.\n",
    "- Perform the above two steps for a number of different cluster counts. You can then see how the average distance decreases with an increasing number of clusters. However, each additional cluster provides a smaller net benefit. Use this fact to select a final number of clusters in which to group the data. **Warning**: because of the large size of the dataset, it can take a long time for the algorithm to resolve. The more clusters to fit, the longer the algorithm will take. You should test for cluster counts through at least 10 clusters to get the full picture, but you shouldn't need to test for a number of clusters above about 30.\n",
    "- Once you've selected a final number of clusters to use, re-fit a KMeans instance to perform the clustering operation. Make sure that you also obtain the cluster assignments for the general demographics data, since you'll be using them in the final Step 3.3."
   ]
  },
  {
   "cell_type": "code",
   "execution_count": 117,
   "metadata": {},
   "outputs": [],
   "source": [
    "# Ref from 1.11 Screencast: Solution\n",
    "\n",
    "def get_kmeans_score(data, center):\n",
    "    '''\n",
    "    returns the kmeans score regarding SSE for points to centers\n",
    "    INPUT:\n",
    "        data - the dataset you want to fit kmeans to\n",
    "        center - the number of centers you want (the k value)\n",
    "    OUTPUT:\n",
    "        score - the SSE score for the kmeans model fit to the data\n",
    "    '''\n",
    "    #instantiate kmeans\n",
    "    kmeans = KMeans(n_clusters=center)\n",
    "\n",
    "    # Then fit the model to your data using the fit method\n",
    "    model = kmeans.fit(data)\n",
    "    \n",
    "    # Obtain a score related to the model fit\n",
    "    score = np.abs(model.score(data))\n",
    "    \n",
    "    return score"
   ]
  },
  {
   "cell_type": "code",
   "execution_count": 118,
   "metadata": {},
   "outputs": [],
   "source": [
    "# Over a number of different cluster counts...\n",
    "\n",
    "\n",
    "    # run k-means clustering on the data and...\n",
    "    \n",
    "    \n",
    "    # compute the average within-cluster distances.\n",
    "    \n",
    "scores = []\n",
    "centers = list(range(1,30,2))\n",
    "\n",
    "for center in centers:\n",
    "    scores.append(get_kmeans_score(df_final_pca, center))     "
   ]
  },
  {
   "cell_type": "code",
   "execution_count": 119,
   "metadata": {},
   "outputs": [
    {
     "data": {
      "image/png": "[encoded data removed]",
      "text/plain": [
       "<matplotlib.figure.Figure at 0x7f57eb9c63c8>"
      ]
     },
     "metadata": {
      "needs_background": "light"
     },
     "output_type": "display_data"
    }
   ],
   "source": [
    "# Investigate the change in within-cluster distance across number of clusters.\n",
    "# HINT: Use matplotlib's plot function to visualize this relationship.\n",
    "\n",
    "plt.plot(centers, scores, linestyle='--', marker='o', color='b');\n",
    "plt.xlabel('K');\n",
    "plt.ylabel('SSE');\n",
    "plt.title('SSE vs. K');"
   ]
  },
  {
   "cell_type": "code",
   "execution_count": 120,
   "metadata": {},
   "outputs": [],
   "source": [
    "# Re-fit the k-means model with the selected number of clusters and obtain\n",
    "# cluster predictions for the general population demographics data.\n",
    "\n",
    "kmeans = KMeans(n_clusters=13)\n",
    "gen_model = kmeans.fit(df_final_pca)"
   ]
  },
  {
   "cell_type": "code",
   "execution_count": 121,
   "metadata": {},
   "outputs": [],
   "source": [
    "predict_general = gen_model.predict(df_final_pca)"
   ]
  },
  {
   "cell_type": "markdown",
   "metadata": {},
   "source": [
    "### Discussion 3.1: Apply Clustering to General Population\n",
    "\n",
    "as per Elbow method it seems slope flattning started from 13-15, so we can consider 13"
   ]
  },
  {
   "cell_type": "markdown",
   "metadata": {},
   "source": [
    "### Step 3.2: Apply All Steps to the Customer Data\n",
    "\n",
    "Now that you have clusters and cluster centers for the general population, it's time to see how the customer data maps on to those clusters. Take care to not confuse this for re-fitting all of the models to the customer data. Instead, you're going to use the fits from the general population to clean, transform, and cluster the customer data. In the last step of the project, you will interpret how the general population fits apply to the customer data.\n",
    "\n",
    "- Don't forget when loading in the customers data, that it is semicolon (`;`) delimited.\n",
    "- Apply the same feature wrangling, selection, and engineering steps to the customer demographics using the `clean_data()` function you created earlier. (You can assume that the customer demographics data has similar meaning behind missing data patterns as the general demographics data.)\n",
    "- Use the sklearn objects from the general demographics data, and apply their transformations to the customers data. That is, you should not be using a `.fit()` or `.fit_transform()` method to re-fit the old objects, nor should you be creating new sklearn objects! Carry the data through the feature scaling, PCA, and clustering steps, obtaining cluster assignments for all of the data in the customer demographics data."
   ]
  },
  {
   "cell_type": "code",
   "execution_count": 122,
   "metadata": {},
   "outputs": [
    {
     "data": {
      "text/html": [
       "<div>\n",
       "<style scoped>\n",
       "    .dataframe tbody tr th:only-of-type {\n",
       "        vertical-align: middle;\n",
       "    }\n",
       "\n",
       "    .dataframe tbody tr th {\n",
       "        vertical-align: top;\n",
       "    }\n",
       "\n",
       "    .dataframe thead th {\n",
       "        text-align: right;\n",
       "    }\n",
       "</style>\n",
       "<table border=\"1\" class=\"dataframe\">\n",
       "  <thead>\n",
       "    <tr style=\"text-align: right;\">\n",
       "      <th></th>\n",
       "      <th>AGER_TYP</th>\n",
       "      <th>ALTERSKATEGORIE_GROB</th>\n",
       "      <th>ANREDE_KZ</th>\n",
       "      <th>CJT_GESAMTTYP</th>\n",
       "      <th>FINANZ_MINIMALIST</th>\n",
       "      <th>FINANZ_SPARER</th>\n",
       "      <th>FINANZ_VORSORGER</th>\n",
       "      <th>FINANZ_ANLEGER</th>\n",
       "      <th>FINANZ_UNAUFFAELLIGER</th>\n",
       "      <th>FINANZ_HAUSBAUER</th>\n",
       "      <th>...</th>\n",
       "      <th>PLZ8_ANTG1</th>\n",
       "      <th>PLZ8_ANTG2</th>\n",
       "      <th>PLZ8_ANTG3</th>\n",
       "      <th>PLZ8_ANTG4</th>\n",
       "      <th>PLZ8_BAUMAX</th>\n",
       "      <th>PLZ8_HHZ</th>\n",
       "      <th>PLZ8_GBZ</th>\n",
       "      <th>ARBEIT</th>\n",
       "      <th>ORTSGR_KLS9</th>\n",
       "      <th>RELAT_AB</th>\n",
       "    </tr>\n",
       "  </thead>\n",
       "  <tbody>\n",
       "    <tr>\n",
       "      <th>0</th>\n",
       "      <td>2</td>\n",
       "      <td>4</td>\n",
       "      <td>1</td>\n",
       "      <td>5.0</td>\n",
       "      <td>5</td>\n",
       "      <td>1</td>\n",
       "      <td>5</td>\n",
       "      <td>1</td>\n",
       "      <td>2</td>\n",
       "      <td>2</td>\n",
       "      <td>...</td>\n",
       "      <td>3.0</td>\n",
       "      <td>3.0</td>\n",
       "      <td>1.0</td>\n",
       "      <td>0.0</td>\n",
       "      <td>1.0</td>\n",
       "      <td>5.0</td>\n",
       "      <td>5.0</td>\n",
       "      <td>1.0</td>\n",
       "      <td>2.0</td>\n",
       "      <td>1.0</td>\n",
       "    </tr>\n",
       "    <tr>\n",
       "      <th>1</th>\n",
       "      <td>-1</td>\n",
       "      <td>4</td>\n",
       "      <td>1</td>\n",
       "      <td>NaN</td>\n",
       "      <td>5</td>\n",
       "      <td>1</td>\n",
       "      <td>5</td>\n",
       "      <td>1</td>\n",
       "      <td>3</td>\n",
       "      <td>2</td>\n",
       "      <td>...</td>\n",
       "      <td>NaN</td>\n",
       "      <td>NaN</td>\n",
       "      <td>NaN</td>\n",
       "      <td>NaN</td>\n",
       "      <td>NaN</td>\n",
       "      <td>NaN</td>\n",
       "      <td>NaN</td>\n",
       "      <td>NaN</td>\n",
       "      <td>NaN</td>\n",
       "      <td>NaN</td>\n",
       "    </tr>\n",
       "    <tr>\n",
       "      <th>2</th>\n",
       "      <td>-1</td>\n",
       "      <td>4</td>\n",
       "      <td>2</td>\n",
       "      <td>2.0</td>\n",
       "      <td>5</td>\n",
       "      <td>1</td>\n",
       "      <td>5</td>\n",
       "      <td>1</td>\n",
       "      <td>4</td>\n",
       "      <td>4</td>\n",
       "      <td>...</td>\n",
       "      <td>2.0</td>\n",
       "      <td>3.0</td>\n",
       "      <td>3.0</td>\n",
       "      <td>1.0</td>\n",
       "      <td>3.0</td>\n",
       "      <td>3.0</td>\n",
       "      <td>2.0</td>\n",
       "      <td>3.0</td>\n",
       "      <td>5.0</td>\n",
       "      <td>3.0</td>\n",
       "    </tr>\n",
       "    <tr>\n",
       "      <th>3</th>\n",
       "      <td>1</td>\n",
       "      <td>4</td>\n",
       "      <td>1</td>\n",
       "      <td>2.0</td>\n",
       "      <td>5</td>\n",
       "      <td>1</td>\n",
       "      <td>5</td>\n",
       "      <td>2</td>\n",
       "      <td>1</td>\n",
       "      <td>2</td>\n",
       "      <td>...</td>\n",
       "      <td>3.0</td>\n",
       "      <td>2.0</td>\n",
       "      <td>1.0</td>\n",
       "      <td>0.0</td>\n",
       "      <td>1.0</td>\n",
       "      <td>3.0</td>\n",
       "      <td>4.0</td>\n",
       "      <td>1.0</td>\n",
       "      <td>3.0</td>\n",
       "      <td>1.0</td>\n",
       "    </tr>\n",
       "    <tr>\n",
       "      <th>4</th>\n",
       "      <td>-1</td>\n",
       "      <td>3</td>\n",
       "      <td>1</td>\n",
       "      <td>6.0</td>\n",
       "      <td>3</td>\n",
       "      <td>1</td>\n",
       "      <td>4</td>\n",
       "      <td>4</td>\n",
       "      <td>5</td>\n",
       "      <td>2</td>\n",
       "      <td>...</td>\n",
       "      <td>2.0</td>\n",
       "      <td>4.0</td>\n",
       "      <td>2.0</td>\n",
       "      <td>1.0</td>\n",
       "      <td>2.0</td>\n",
       "      <td>3.0</td>\n",
       "      <td>3.0</td>\n",
       "      <td>3.0</td>\n",
       "      <td>5.0</td>\n",
       "      <td>1.0</td>\n",
       "    </tr>\n",
       "  </tbody>\n",
       "</table>\n",
       "<p>5 rows × 85 columns</p>\n",
       "</div>"
      ],
      "text/plain": [
       "   AGER_TYP  ALTERSKATEGORIE_GROB  ANREDE_KZ  CJT_GESAMTTYP  \\\n",
       "0         2                     4          1            5.0   \n",
       "1        -1                     4          1            NaN   \n",
       "2        -1                     4          2            2.0   \n",
       "3         1                     4          1            2.0   \n",
       "4        -1                     3          1            6.0   \n",
       "\n",
       "   FINANZ_MINIMALIST  FINANZ_SPARER  FINANZ_VORSORGER  FINANZ_ANLEGER  \\\n",
       "0                  5              1                 5               1   \n",
       "1                  5              1                 5               1   \n",
       "2                  5              1                 5               1   \n",
       "3                  5              1                 5               2   \n",
       "4                  3              1                 4               4   \n",
       "\n",
       "   FINANZ_UNAUFFAELLIGER  FINANZ_HAUSBAUER    ...     PLZ8_ANTG1  PLZ8_ANTG2  \\\n",
       "0                      2                 2    ...            3.0         3.0   \n",
       "1                      3                 2    ...            NaN         NaN   \n",
       "2                      4                 4    ...            2.0         3.0   \n",
       "3                      1                 2    ...            3.0         2.0   \n",
       "4                      5                 2    ...            2.0         4.0   \n",
       "\n",
       "   PLZ8_ANTG3  PLZ8_ANTG4  PLZ8_BAUMAX  PLZ8_HHZ  PLZ8_GBZ  ARBEIT  \\\n",
       "0         1.0         0.0          1.0       5.0       5.0     1.0   \n",
       "1         NaN         NaN          NaN       NaN       NaN     NaN   \n",
       "2         3.0         1.0          3.0       3.0       2.0     3.0   \n",
       "3         1.0         0.0          1.0       3.0       4.0     1.0   \n",
       "4         2.0         1.0          2.0       3.0       3.0     3.0   \n",
       "\n",
       "   ORTSGR_KLS9  RELAT_AB  \n",
       "0          2.0       1.0  \n",
       "1          NaN       NaN  \n",
       "2          5.0       3.0  \n",
       "3          3.0       1.0  \n",
       "4          5.0       1.0  \n",
       "\n",
       "[5 rows x 85 columns]"
      ]
     },
     "execution_count": 122,
     "metadata": {},
     "output_type": "execute_result"
    }
   ],
   "source": [
    "# Load in the customer demographics data.\n",
    "customers = pd.read_csv('Udacity_CUSTOMERS_Subset.csv', ';')\n",
    "customers.head()"
   ]
  },
  {
   "cell_type": "code",
   "execution_count": 123,
   "metadata": {},
   "outputs": [],
   "source": [
    "# Apply preprocessing, feature transformation, and clustering from the general\n",
    "# demographics onto the customer data, obtaining cluster predictions for the\n",
    "# customer demographics data.\n",
    "\n",
    "customers_clean = clean_data(customers)"
   ]
  },
  {
   "cell_type": "code",
   "execution_count": 124,
   "metadata": {},
   "outputs": [
    {
     "data": {
      "text/plain": [
       "34"
      ]
     },
     "execution_count": 124,
     "metadata": {},
     "output_type": "execute_result"
    }
   ],
   "source": [
    "customers_clean.isna().any().sum()"
   ]
  },
  {
   "cell_type": "code",
   "execution_count": 125,
   "metadata": {},
   "outputs": [
    {
     "data": {
      "text/plain": [
       "array([False, False, False, False, False, False, False, False, False,\n",
       "       False, False, False, False, False, False, False, False, False,\n",
       "       False, False, False, False, False, False, False, False, False,\n",
       "       False, False, False, False, False, False, False, False, False,\n",
       "       False, False, False, False, False, False, False, False, False,\n",
       "       False, False, False, False, False, False, False, False, False,\n",
       "       False, False, False, False, False, False, False, False, False,\n",
       "       False, False], dtype=bool)"
      ]
     },
     "execution_count": 125,
     "metadata": {},
     "output_type": "execute_result"
    }
   ],
   "source": [
    "customers_clean = pd.DataFrame(fill_nan.fit_transform(customers_clean), columns=customers_clean.keys())\n",
    "customers_clean.isna().any().values"
   ]
  },
  {
   "cell_type": "code",
   "execution_count": 126,
   "metadata": {},
   "outputs": [],
   "source": [
    "customers_scaled = scaler.transform(customers_clean)"
   ]
  },
  {
   "cell_type": "code",
   "execution_count": 127,
   "metadata": {},
   "outputs": [],
   "source": [
    "customers_pca = pca.transform(customers_scaled)"
   ]
  },
  {
   "cell_type": "code",
   "execution_count": 128,
   "metadata": {},
   "outputs": [],
   "source": [
    "customers_clustered = gen_model.predict(customers_pca)"
   ]
  },
  {
   "cell_type": "markdown",
   "metadata": {},
   "source": [
    "### Step 3.3: Compare Customer Data to Demographics Data\n",
    "\n",
    "At this point, you have clustered data based on demographics of the general population of Germany, and seen how the customer data for a mail-order sales company maps onto those demographic clusters. In this final substep, you will compare the two cluster distributions to see where the strongest customer base for the company is.\n",
    "\n",
    "Consider the proportion of persons in each cluster for the general population, and the proportions for the customers. If we think the company's customer base to be universal, then the cluster assignment proportions should be fairly similar between the two. If there are only particular segments of the population that are interested in the company's products, then we should see a mismatch from one to the other. If there is a higher proportion of persons in a cluster for the customer data compared to the general population (e.g. 5% of persons are assigned to a cluster for the general population, but 15% of the customer data is closest to that cluster's centroid) then that suggests the people in that cluster to be a target audience for the company. On the other hand, the proportion of the data in a cluster being larger in the general population than the customer data (e.g. only 2% of customers closest to a population centroid that captures 6% of the data) suggests that group of persons to be outside of the target demographics.\n",
    "\n",
    "Take a look at the following points in this step:\n",
    "\n",
    "- Compute the proportion of data points in each cluster for the general population and the customer data. Visualizations will be useful here: both for the individual dataset proportions, but also to visualize the ratios in cluster representation between groups. Seaborn's [`countplot()`](https://seaborn.pydata.org/generated/seaborn.countplot.html) or [`barplot()`](https://seaborn.pydata.org/generated/seaborn.barplot.html) function could be handy.\n",
    "  - Recall the analysis you performed in step 1.1.3 of the project, where you separated out certain data points from the dataset if they had more than a specified threshold of missing values. If you found that this group was qualitatively different from the main bulk of the data, you should treat this as an additional data cluster in this analysis. Make sure that you account for the number of data points in this subset, for both the general population and customer datasets, when making your computations!\n",
    "- Which cluster or clusters are overrepresented in the customer dataset compared to the general population? Select at least one such cluster and infer what kind of people might be represented by that cluster. Use the principal component interpretations from step 2.3 or look at additional components to help you make this inference. Alternatively, you can use the `.inverse_transform()` method of the PCA and StandardScaler objects to transform centroids back to the original data space and interpret the retrieved values directly.\n",
    "- Perform a similar investigation for the underrepresented clusters. Which cluster or clusters are underrepresented in the customer dataset compared to the general population, and what kinds of people are typified by these clusters?"
   ]
  },
  {
   "cell_type": "code",
   "execution_count": 129,
   "metadata": {},
   "outputs": [
    {
     "data": {
      "text/plain": [
       "Text(0.5,1,'predict_general')"
      ]
     },
     "execution_count": 129,
     "metadata": {},
     "output_type": "execute_result"
    },
    {
     "data": {
      "image/png": "[encoded data removed]",
      "text/plain": [
       "<matplotlib.figure.Figure at 0x7f57eb84ff98>"
      ]
     },
     "metadata": {
      "needs_background": "light"
     },
     "output_type": "display_data"
    }
   ],
   "source": [
    "# Compare the proportion of data in each cluster for the customer data to the\n",
    "# proportion of data in each cluster for the general population.\n",
    "\n",
    "figure, axs = plt.subplots(nrows=1, ncols=2, figsize = (15,5))\n",
    "\n",
    "sns.countplot(customers_clustered, ax=axs[0]) \n",
    "axs[0].set_title('customers_clustered')\n",
    "sns.countplot(predict_general, ax=axs[1])\n",
    "axs[1].set_title('predict_general')"
   ]
  },
  {
   "cell_type": "code",
   "execution_count": 130,
   "metadata": {},
   "outputs": [],
   "source": [
    "def print_full(x):\n",
    "    pd.set_option('display.max_rows', None)\n",
    "   \n",
    "    print(x)\n",
    "    pd.reset_option('display.max_rows')\n",
    "  "
   ]
  },
  {
   "cell_type": "code",
   "execution_count": 133,
   "metadata": {},
   "outputs": [
    {
     "name": "stdout",
     "output_type": "stream",
     "text": [
      "MIN_GEBAEUDEJAHR                     1993.105481\n",
      "KBA13_ANZAHL_PKW                      678.256518\n",
      "WOHNDAUER_2008                          8.421802\n",
      "REGIOTYP                                8.067234\n",
      "KKK                                     6.749074\n",
      "W_KEIT_KIND_HH                          6.609269\n",
      "SEMIO_VERT                              5.926806\n",
      "INNENSTADT                              5.580566\n",
      "SEMIO_SOZ                               5.051058\n",
      "BALLRAUM                                5.005842\n",
      "SEMIO_LUST                              4.874958\n",
      "SEMIO_KULT                              4.871179\n",
      "SEMIO_FAM                               4.730330\n",
      "FINANZ_MINIMALIST                       4.614890\n",
      "SEMIO_ERL                               4.221212\n",
      "FINANZ_VORSORGER                        4.153359\n",
      "GEBAEUDETYP_RASTER                      4.045327\n",
      "MOBI_REGIO                              4.041196\n",
      "KBA05_GBZ                               4.039102\n",
      "ORTSGR_KLS9                             3.989001\n",
      "KONSUMNAEHE                             3.845898\n",
      "PLZ8_GBZ                                3.843155\n",
      "RETOURTYP_BK_S                          3.775007\n",
      "SEMIO_REL                               3.774376\n",
      "CAMEO_INTL_2015_ones                    3.559980\n",
      "SEMIO_MAT                               3.558694\n",
      "PLZ8_HHZ                                3.457113\n",
      "SEMIO_KRIT                              3.413311\n",
      "SEMIO_PFLICHT                           3.401055\n",
      "ALTERSKATEGORIE_GROB                    3.325839\n",
      "SEMIO_DOM                               3.275481\n",
      "HH_EINKOMMEN_SCORE                      3.189729\n",
      "SEMIO_TRADV                             3.081426\n",
      "EWDICHTE                                2.973932\n",
      "ONLINE_AFFINITAET                       2.961084\n",
      "PLZ8_ANTG1                              2.839331\n",
      "ARBEIT                                  2.767000\n",
      "SEMIO_RAT                               2.733374\n",
      "SEMIO_KAEM                              2.682583\n",
      "PRAEGENDE_JUGENDJAHRE_GENERATIONS       2.624070\n",
      "RELAT_AB                                2.601835\n",
      "CAMEO_INTL_2015_tens                    2.509699\n",
      "KBA05_ANTG1                             2.493822\n",
      "HEALTH_TYP                              2.492070\n",
      "PLZ8_ANTG2                              2.411202\n",
      "ANZ_HAUSHALTE_AKTIV                     2.280183\n",
      "ANZ_PERSONEN                            2.101325\n",
      "FINANZ_UNAUFFAELLIGER                   2.026759\n",
      "FINANZ_HAUSBAUER                        2.025468\n",
      "FINANZ_ANLEGER                          1.999131\n",
      "FINANZ_SPARER                           1.750136\n",
      "KBA05_ANTG2                             1.162124\n",
      "PLZ8_ANTG3                              0.981592\n",
      "OST_WEST_KZ_W                           0.867999\n",
      "VERS_TYP                                0.835218\n",
      "ANZ_HH_TITEL                            0.622008\n",
      "GREEN_AVANTGARDE                        0.442574\n",
      "PRAEGENDE_JUGENDJAHRE_MOVEMENT          0.385388\n",
      "PLZ8_ANTG4                              0.262366\n",
      "KBA05_ANTG3                             0.208514\n",
      "OST_WEST_KZ_O                           0.132001\n",
      "ANREDE_KZ                               0.103238\n",
      "KBA05_ANTG4                             0.037346\n",
      "SOHO_KZ                                 0.009283\n",
      "ANZ_TITEL                               0.005356\n",
      "dtype: float64\n"
     ]
    }
   ],
   "source": [
    "# What kinds of people are part of a cluster that is overrepresented in the\n",
    "# customer data compared to the general population?\n",
    "\n",
    "\n",
    "Inv_trnsf_Over = scaler.inverse_transform(pca.inverse_transform(gen_model.cluster_centers_[7]))\n",
    "overrepresent = pd.Series(data = Inv_trnsf_Over, index = customers_clean.columns).sort_values(ascending=False)\n",
    "print_full(overrepresent)"
   ]
  },
  {
   "cell_type": "code",
   "execution_count": 134,
   "metadata": {},
   "outputs": [
    {
     "name": "stdout",
     "output_type": "stream",
     "text": [
      "MIN_GEBAEUDEJAHR                     1992.760130\n",
      "KBA13_ANZAHL_PKW                      595.511841\n",
      "RELAT_AB                               44.583073\n",
      "ORTSGR_KLS9                            43.410171\n",
      "ARBEIT                                 43.322137\n",
      "REGIOTYP                                8.057024\n",
      "WOHNDAUER_2008                          7.962200\n",
      "W_KEIT_KIND_HH                          6.599511\n",
      "KKK                                     6.187640\n",
      "BALLRAUM                                6.182126\n",
      "PRAEGENDE_JUGENDJAHRE_GENERATIONS       5.693871\n",
      "ANZ_HAUSHALTE_AKTIV                     4.946361\n",
      "HH_EINKOMMEN_SCORE                      4.878157\n",
      "SEMIO_ERL                               4.846011\n",
      "SEMIO_DOM                               4.787258\n",
      "KBA05_GBZ                               4.783996\n",
      "SEMIO_KRIT                              4.531041\n",
      "PLZ8_HHZ                                4.512874\n",
      "INNENSTADT                              4.481238\n",
      "MOBI_REGIO                              4.476216\n",
      "CAMEO_INTL_2015_tens                    4.448759\n",
      "SEMIO_KULT                              4.342573\n",
      "SEMIO_VERT                              4.306194\n",
      "HEALTH_TYP                              4.202348\n",
      "SEMIO_KAEM                              4.191015\n",
      "SEMIO_PFLICHT                           4.190906\n",
      "SEMIO_FAM                               4.166872\n",
      "PLZ8_GBZ                                4.117331\n",
      "SEMIO_LUST                              4.055304\n",
      "SEMIO_MAT                               4.044111\n",
      "GEBAEUDETYP_RASTER                      3.961268\n",
      "SEMIO_REL                               3.872465\n",
      "EWDICHTE                                3.817635\n",
      "PLZ8_ANTG2                              3.804171\n",
      "SEMIO_RAT                               3.745711\n",
      "SEMIO_SOZ                               3.639598\n",
      "SEMIO_TRADV                             3.535774\n",
      "FINANZ_ANLEGER                          3.409678\n",
      "KONSUMNAEHE                             3.373406\n",
      "FINANZ_VORSORGER                        3.364266\n",
      "FINANZ_MINIMALIST                       3.346040\n",
      "KBA05_ANTG2                             3.190625\n",
      "RETOURTYP_BK_S                          3.169346\n",
      "KBA05_ANTG1                             3.160189\n",
      "ONLINE_AFFINITAET                       2.970183\n",
      "CAMEO_INTL_2015_ones                    2.949453\n",
      "ALTERSKATEGORIE_GROB                    2.915167\n",
      "FINANZ_SPARER                           2.834518\n",
      "FINANZ_UNAUFFAELLIGER                   2.742580\n",
      "PLZ8_ANTG1                              2.585794\n",
      "VERS_TYP                                2.521627\n",
      "PRAEGENDE_JUGENDJAHRE_MOVEMENT          2.515760\n",
      "FINANZ_HAUSBAUER                        2.480843\n",
      "PLZ8_ANTG3                              2.459485\n",
      "KBA05_ANTG3                             2.357838\n",
      "ANZ_PERSONEN                            1.823807\n",
      "KBA05_ANTG4                             1.819449\n",
      "PLZ8_ANTG4                              1.309744\n",
      "OST_WEST_KZ_W                           0.972313\n",
      "ANZ_HH_TITEL                            0.820832\n",
      "ANREDE_KZ                               0.471114\n",
      "GREEN_AVANTGARDE                        0.121640\n",
      "OST_WEST_KZ_O                           0.027687\n",
      "ANZ_TITEL                               0.008929\n",
      "SOHO_KZ                                 0.007848\n",
      "dtype: float64\n"
     ]
    }
   ],
   "source": [
    "# What kinds of people are part of a cluster that is underrepresented in the\n",
    "# customer data compared to the general population?\n",
    "\n",
    "\n",
    "Inv_trnsf_under = scaler.inverse_transform(pca.inverse_transform(gen_model.cluster_centers_[4]))\n",
    "underpresent = pd.Series(data = Inv_trnsf_under, index = customers_clean.columns).sort_values(ascending=False)\n",
    "print_full(underpresent)"
   ]
  },
  {
   "cell_type": "markdown",
   "metadata": {},
   "source": [
    "### Discussion 3.3: Compare Customer Data to Demographics Data\n",
    "\n",
    "<p>Overrepresented Cluster</p>\n",
    "<p style='margin-top:0in;margin-right:0in;margin-bottom:8.0pt;margin-left:0in;line-height:107%;font-size:15px;font-family:\"Calibri\",sans-serif;'>This cluster mail-order sales company is particularly popular with people like</p>\n",
    "<ul class=\"decimal_type\" style=\"list-style-type: disc;\">\n",
    "    <li>HH_EINKOMMEN_SCORE &nbsp; &nbsp; &nbsp; &nbsp; &nbsp; &nbsp; 3.189 &nbsp; High Estimated household net income</li>\n",
    "    <li>KKK &nbsp; &nbsp; &nbsp; &nbsp; &nbsp; &nbsp; &nbsp; &nbsp; &nbsp; &nbsp; &nbsp; &nbsp; &nbsp; &nbsp; &nbsp; &nbsp; &nbsp; &nbsp; &nbsp; &nbsp; &nbsp; &nbsp; &nbsp; &nbsp; &nbsp; &nbsp; 2.707 &nbsp; Average Purchasing power in region &nbsp;&nbsp;</li>\n",
    "    <li>HEALTH_TYP &nbsp; &nbsp; &nbsp; &nbsp; &nbsp; &nbsp; &nbsp; &nbsp; &nbsp; &nbsp; &nbsp; &nbsp; &nbsp; &nbsp; &nbsp; &nbsp; &nbsp; &nbsp;2.492 &nbsp; Health typology &nbsp; &nbsp; &nbsp; &nbsp; &nbsp; &nbsp; &nbsp; sanitary affine &nbsp;</li>\n",
    "    <li>BALLRAUM &nbsp; &nbsp; &nbsp; &nbsp; &nbsp; &nbsp; &nbsp; &nbsp; &nbsp; &nbsp; &nbsp; &nbsp; &nbsp; &nbsp; &nbsp; &nbsp; &nbsp; &nbsp; &nbsp; 5.005 &nbsp; Distance to nearest urban center &nbsp; 40 - &nbsp;50 km</li>\n",
    "    <li>EWDICHTE &nbsp; &nbsp; &nbsp; &nbsp; &nbsp; &nbsp; &nbsp; &nbsp; &nbsp; &nbsp; &nbsp; &nbsp; &nbsp; &nbsp; &nbsp; &nbsp; &nbsp; &nbsp; &nbsp; 2.973 &nbsp; Density of households per square kilometer &nbsp; &nbsp; &nbsp; &nbsp; &nbsp; &nbsp; 90 - 149 households per km^2</li>\n",
    "    <li>VERS_TYP &nbsp; &nbsp; &nbsp; &nbsp; &nbsp; &nbsp; &nbsp; &nbsp; &nbsp; &nbsp; &nbsp; &nbsp; &nbsp; &nbsp; &nbsp; &nbsp; &nbsp; &nbsp; &nbsp; &nbsp; 0.835 &nbsp; Insurance typology social-safety driven</li>\n",
    "</ul>\n",
    "<p><br></p>\n",
    "<p style='margin-top:0in;margin-right:0in;margin-bottom:8.0pt;margin-left:0in;line-height:107%;font-size:15px;font-family:\"Calibri\",sans-serif;'>Underrepresented Cluster</p>\n",
    "<p style='margin-top:0in;margin-right:0in;margin-bottom:8.0pt;margin-left:0in;line-height:107%;font-size:15px;font-family:\"Calibri\",sans-serif;'>This cluster mail-order sales company is particularly popular with people like</p>\n",
    "<ul class=\"decimal_type\" style=\"list-style-type: disc;\">\n",
    "    <li>HH_EINKOMMEN_SCORE&nbsp; &nbsp; &nbsp; &nbsp; &nbsp; &nbsp;&nbsp; 4.878&nbsp; &nbsp;Low Estimated household net income</li>\n",
    "    <li>KKK&nbsp; &nbsp; &nbsp; &nbsp;&nbsp;&nbsp; &nbsp; &nbsp; &nbsp; &nbsp; &nbsp; &nbsp; &nbsp; &nbsp; &nbsp; &nbsp; &nbsp; &nbsp; &nbsp; &nbsp; &nbsp; &nbsp; &nbsp; &nbsp; &nbsp; &nbsp; &nbsp; 6.207&nbsp; &nbsp;&nbsp;Low Purchasing power in region&nbsp; &nbsp;</li>\n",
    "    <li>HEALTH_TYP&nbsp; &nbsp; &nbsp;&nbsp;&nbsp; &nbsp; &nbsp; &nbsp; &nbsp; &nbsp; &nbsp; &nbsp; &nbsp; &nbsp; &nbsp; &nbsp; &nbsp; &nbsp; &nbsp; 4.202&nbsp; &nbsp;Health typology &nbsp; &nbsp; &nbsp; &nbsp; &nbsp; &nbsp; &nbsp;&nbsp;jaunty hedonists</li>\n",
    "    <li>BALLRAUM&nbsp; &nbsp; &nbsp; &nbsp; &nbsp;&nbsp; &nbsp; &nbsp; &nbsp; &nbsp; &nbsp; &nbsp; &nbsp; &nbsp; &nbsp; &nbsp; &nbsp; &nbsp; &nbsp; &nbsp; 6.182&nbsp; &nbsp;Distance to nearest urban center&nbsp; &nbsp;50 - 100 km</li>\n",
    "    <li>EWDICHTE&nbsp; &nbsp; &nbsp; &nbsp; &nbsp;&nbsp; &nbsp; &nbsp; &nbsp; &nbsp; &nbsp; &nbsp; &nbsp; &nbsp; &nbsp; &nbsp; &nbsp; &nbsp; &nbsp; &nbsp; 3.817&nbsp; &nbsp;Density of households per square kilometer&nbsp; &nbsp; &nbsp; &nbsp; &nbsp; &nbsp; &nbsp;150 - 319 households per km^2</li>\n",
    "    <li>VERS_TYP &nbsp; &nbsp; &nbsp; &nbsp; &nbsp; &nbsp; &nbsp; &nbsp; &nbsp; &nbsp; &nbsp; &nbsp; &nbsp; &nbsp; &nbsp; &nbsp; &nbsp; &nbsp; &nbsp; &nbsp; 2.521 &nbsp; Insurance typology &nbsp; &nbsp; &nbsp; &nbsp; &nbsp; &nbsp; &nbsp;individualistic-accepting risks</li>\n",
    "</ul>"
   ]
  },
  {
   "cell_type": "markdown",
   "metadata": {},
   "source": [
    "> Congratulations on making it this far in the project! Before you finish, make sure to check through the entire notebook from top to bottom to make sure that your analysis follows a logical flow and all of your findings are documented in **Discussion** cells. Once you've checked over all of your work, you should export the notebook as an HTML document to submit for evaluation. You can do this from the menu, navigating to **File -> Download as -> HTML (.html)**. You will submit both that document and this notebook for your project submission."
   ]
  },
  {
   "cell_type": "code",
   "execution_count": null,
   "metadata": {},
   "outputs": [],
   "source": []
  },
  {
   "cell_type": "code",
   "execution_count": null,
   "metadata": {},
   "outputs": [],
   "source": []
  }
 ],
 "metadata": {
  "kernelspec": {
   "display_name": "Python 3",
   "language": "python",
   "name": "python3"
  },
  "language_info": {
   "codemirror_mode": {
    "name": "ipython",
    "version": 3
   },
   "file_extension": ".py",
   "mimetype": "text/x-python",
   "name": "python",
   "nbconvert_exporter": "python",
   "pygments_lexer": "ipython3",
   "version": "3.6.3"
  }
 },
 "nbformat": 4,
 "nbformat_minor": 2
}
